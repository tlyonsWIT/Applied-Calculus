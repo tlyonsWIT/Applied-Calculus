{
  "nbformat": 4,
  "nbformat_minor": 0,
  "metadata": {
    "kernelspec": {
      "display_name": "Python 3",
      "language": "python",
      "name": "python3"
    },
    "language_info": {
      "codemirror_mode": {
        "name": "ipython",
        "version": 3
      },
      "file_extension": ".py",
      "mimetype": "text/x-python",
      "name": "python",
      "nbconvert_exporter": "python",
      "pygments_lexer": "ipython3",
      "version": "3.8.3"
    },
    "colab": {
      "name": "Applied Calculus 2021 - Python Workbook 4.ipynb",
      "provenance": []
    }
  },
  "cells": [
    {
      "cell_type": "markdown",
      "metadata": {
        "id": "m9mKyZQA3o6V"
      },
      "source": [
        "### Name:\n",
        "### Student Number:"
      ]
    },
    {
      "cell_type": "markdown",
      "metadata": {
        "id": "QAo8g_fD3o6d"
      },
      "source": [
        "# Python Workbook 4 - Symbolic Differentiation\n",
        "\n",
        "## The Symbolic Python Library\n",
        "\n",
        "\n",
        "\n",
        "In this practical we will use Python to calculate the derivtaive of function symbolically. To perform such symbolic calculations in Python we use the __sympy (Symbolic Python)__ library of functions.\n",
        "\n",
        "To import all __sympy__ functions directly into this workbook we __import__ sympy as follows:  \n",
        "\n"
      ]
    },
    {
      "cell_type": "code",
      "metadata": {
        "id": "6UEGVgfY3o6f"
      },
      "source": [
        "from sympy import *\n",
        "import numpy as np\n",
        "import matplotlib.pyplot as plt"
      ],
      "execution_count": 1,
      "outputs": []
    },
    {
      "cell_type": "markdown",
      "metadata": {
        "id": "VFnSP7r83o6g"
      },
      "source": [
        "We can now use this library to perform symbolic mainipulations of mathematical expressions and functions.\n",
        "\n",
        "## Symbols\n",
        "\n",
        "* The most elementary operation we perform with the __sympy__ library is the declare a symbol. We will declare __t__, __x__, and to be  __real valued__ symbolic variables as follows:"
      ]
    },
    {
      "cell_type": "code",
      "metadata": {
        "id": "ofh1wGT83o6h"
      },
      "source": [
        "t,x=symbols('t x', real=True)"
      ],
      "execution_count": 2,
      "outputs": []
    },
    {
      "cell_type": "markdown",
      "metadata": {
        "id": "1Di-Qtfh3o6i"
      },
      "source": [
        "## Exercise 1:\n",
        "\n",
        "Declare the real valued symbolic variables  __y and z__."
      ]
    },
    {
      "cell_type": "code",
      "metadata": {
        "id": "1jNptrHG3o6i"
      },
      "source": [
        ""
      ],
      "execution_count": null,
      "outputs": []
    },
    {
      "cell_type": "markdown",
      "metadata": {
        "id": "E6ARvGkM3o6j"
      },
      "source": [
        "## Symbolic functions\n",
        "\n",
        "* Now that we have created a symbolic variable, we can use it to display a function symbolically. \n",
        "\n",
        "* First we will create a Python function in the usual way:"
      ]
    },
    {
      "cell_type": "code",
      "metadata": {
        "id": "70SQd6ly3o6k"
      },
      "source": [
        "def f(s):\n",
        "    return s**3+4*s**2+5*s+25"
      ],
      "execution_count": null,
      "outputs": []
    },
    {
      "cell_type": "markdown",
      "metadata": {
        "id": "iMx_cT673o6l"
      },
      "source": [
        "* Notice that we have used __s__ as the independent variable in this definition.\n",
        "\n",
        "* So far we have not seen __s__ defined anywhere, and this is not a problem, since it is just a place holder in this function definition.\n",
        "\n",
        "* If we try to print __f(s)__ however, this will return an error,since __s__ is not defined anywhere, i.e."
      ]
    },
    {
      "cell_type": "code",
      "metadata": {
        "id": "vMgnfx_G3o6l",
        "colab": {
          "base_uri": "https://localhost:8080/",
          "height": 174
        },
        "outputId": "96fb3c12-12cc-44ef-97c1-29e5d9d715c6"
      },
      "source": [
        "f(s)"
      ],
      "execution_count": null,
      "outputs": [
        {
          "output_type": "error",
          "ename": "NameError",
          "evalue": "ignored",
          "traceback": [
            "\u001b[0;31m---------------------------------------------------------------------------\u001b[0m",
            "\u001b[0;31mNameError\u001b[0m                                 Traceback (most recent call last)",
            "\u001b[0;32m<ipython-input-30-9528d8b41b23>\u001b[0m in \u001b[0;36m<module>\u001b[0;34m()\u001b[0m\n\u001b[0;32m----> 1\u001b[0;31m \u001b[0mf\u001b[0m\u001b[0;34m(\u001b[0m\u001b[0ms\u001b[0m\u001b[0;34m)\u001b[0m\u001b[0;34m\u001b[0m\u001b[0;34m\u001b[0m\u001b[0m\n\u001b[0m",
            "\u001b[0;31mNameError\u001b[0m: name 's' is not defined"
          ]
        }
      ]
    },
    {
      "cell_type": "markdown",
      "metadata": {
        "id": "fUy7NHJ63o6o"
      },
      "source": [
        "* However we can call our function as __f(x)__, __f(t)__ etc, and Python will display a symbolic representation of the function in terms of the relevant variable:"
      ]
    },
    {
      "cell_type": "code",
      "metadata": {
        "id": "aQmKgtPy3o6o",
        "colab": {
          "base_uri": "https://localhost:8080/"
        },
        "outputId": "86783e1f-cf5c-484a-cb56-cf303e5f583d"
      },
      "source": [
        "f(t)"
      ],
      "execution_count": null,
      "outputs": [
        {
          "output_type": "execute_result",
          "data": {
            "text/plain": [
              "t**3 + 4*t**2 + 5*t + 25"
            ]
          },
          "metadata": {
            "tags": []
          },
          "execution_count": 5
        }
      ]
    },
    {
      "cell_type": "code",
      "metadata": {
        "id": "z1rsDWcH3o6p",
        "colab": {
          "base_uri": "https://localhost:8080/"
        },
        "outputId": "e4ab6ff2-3024-4fc4-fa25-b219f093dd4f"
      },
      "source": [
        "f(x)"
      ],
      "execution_count": null,
      "outputs": [
        {
          "output_type": "execute_result",
          "data": {
            "text/plain": [
              "x**3 + 4*x**2 + 5*x + 25"
            ]
          },
          "metadata": {
            "tags": []
          },
          "execution_count": 6
        }
      ]
    },
    {
      "cell_type": "markdown",
      "metadata": {
        "id": "8KH0SWOC3o6q"
      },
      "source": [
        "## Exercise 2: \n",
        "\n",
        "Create a Python function for the following mathematical expressions then represent each function symbolically:\n",
        "\n",
        "__Part 1__\n",
        "$$\n",
        "F(x)=4x^5-5x^4+2x^3-3x^2+x-1\n",
        "$$"
      ]
    },
    {
      "cell_type": "code",
      "metadata": {
        "id": "UlevrYDN3o6q"
      },
      "source": [
        ""
      ],
      "execution_count": null,
      "outputs": []
    },
    {
      "cell_type": "markdown",
      "metadata": {
        "id": "XJl1BE8t3o6q"
      },
      "source": [
        "__Part 2__\n",
        "$$\n",
        "G(t)=\\sin(4t)+\\cos(6t)\n",
        "$$"
      ]
    },
    {
      "cell_type": "code",
      "metadata": {
        "id": "9PefsIbt3o6r"
      },
      "source": [
        ""
      ],
      "execution_count": null,
      "outputs": []
    },
    {
      "cell_type": "markdown",
      "metadata": {
        "id": "pOl4xfY33o6s"
      },
      "source": [
        "__Part 3__\n",
        "\n",
        "$$\n",
        "H(y)=\\frac{2y-5}{6y+4}\n",
        "$$"
      ]
    },
    {
      "cell_type": "code",
      "metadata": {
        "id": "wv2uz4lj3o6s"
      },
      "source": [
        ""
      ],
      "execution_count": null,
      "outputs": []
    },
    {
      "cell_type": "markdown",
      "metadata": {
        "id": "kI2Qfkv23o6s"
      },
      "source": [
        "__Part 4__\n",
        "$$\n",
        "    R(z)=\\log(4z)+\\frac{4}{z}\n",
        "$$"
      ]
    },
    {
      "cell_type": "code",
      "metadata": {
        "id": "FvQZaGLY3o6s"
      },
      "source": [
        ""
      ],
      "execution_count": null,
      "outputs": []
    },
    {
      "cell_type": "markdown",
      "metadata": {
        "id": "3fk94CTK3o6t"
      },
      "source": [
        "## Symbolic Differentation\n",
        "\n",
        "* Now that we have created a symbolic regpresentation of various functions, we can start to differentiate these functions with respect to the independent variable.\n",
        "\n",
        "* For example to differentiate __f(t)__ as defined in __Example 1__ with respect to **t**  then we use the function __diff(,)__\n",
        "\n",
        "* This function requires at least __2 inputs__:\n",
        "    \n",
        "    1. The first argument is the expresssion we wish to differentiate\n",
        "    2. The second argument is the variable we wish to differentiate with respect to.\n",
        "\n",
        "\n",
        "* In the cell below, we differntiate $f(t)$ w.r.t. (with respect to) __t__"
      ]
    },
    {
      "cell_type": "code",
      "metadata": {
        "id": "XRAzbMU83o6t",
        "colab": {
          "base_uri": "https://localhost:8080/"
        },
        "outputId": "53f63fe1-009d-475a-f32e-24ebfe2374ca"
      },
      "source": [
        "diff(f(t),t)"
      ],
      "execution_count": null,
      "outputs": [
        {
          "output_type": "execute_result",
          "data": {
            "text/plain": [
              "3*t**2 + 8*t + 5"
            ]
          },
          "metadata": {
            "tags": []
          },
          "execution_count": 7
        }
      ]
    },
    {
      "cell_type": "markdown",
      "metadata": {
        "id": "sEdtmk7z3o6u"
      },
      "source": [
        "* We can easily change the independent variable from **t  to  x** for example, and this will change the form of the derivative as follows: "
      ]
    },
    {
      "cell_type": "code",
      "metadata": {
        "id": "dHReMza63o6u",
        "colab": {
          "base_uri": "https://localhost:8080/"
        },
        "outputId": "224e0a4f-2e66-4fa8-e77c-5cc9839ecd09"
      },
      "source": [
        "diff(f(x),x)"
      ],
      "execution_count": null,
      "outputs": [
        {
          "output_type": "execute_result",
          "data": {
            "text/plain": [
              "3*x**2 + 8*x + 5"
            ]
          },
          "metadata": {
            "tags": []
          },
          "execution_count": 8
        }
      ]
    },
    {
      "cell_type": "markdown",
      "metadata": {
        "id": "vkigcV5k3o6v"
      },
      "source": [
        "### Symbolic display\n",
        "\n",
        "* It would be nicer if the output used matematical notation (superscripts for power, etc) rather than the cruder programming syntax. We turn on rendering with mathematical notation with the following commands:"
      ]
    },
    {
      "cell_type": "code",
      "metadata": {
        "id": "tPpptrjW3o6v"
      },
      "source": [
        "from IPython.display import display\n",
        "init_printing(pretty_print=True)"
      ],
      "execution_count": 5,
      "outputs": []
    },
    {
      "cell_type": "markdown",
      "metadata": {
        "id": "QHfFSNf_3o6v"
      },
      "source": [
        "* The symbolic representation of __f(x)__ and its derivative are now displayed as:"
      ]
    },
    {
      "cell_type": "code",
      "metadata": {
        "id": "HR5QRzt43o6w",
        "colab": {
          "base_uri": "https://localhost:8080/",
          "height": 39
        },
        "outputId": "7e2c9008-af1e-41fb-ab0a-77cb67d13511"
      },
      "source": [
        "f(x), diff(f(x),x)"
      ],
      "execution_count": null,
      "outputs": [
        {
          "output_type": "execute_result",
          "data": {
            "image/png": "[encoded data removed]",
            "text/latex": "$$\\left ( x^{3} + 4 x^{2} + 5 x + 25, \\quad 3 x^{2} + 8 x + 5\\right )$$",
            "text/plain": [
              "⎛ 3      2                2          ⎞\n",
              "⎝x  + 4⋅x  + 5⋅x + 25, 3⋅x  + 8⋅x + 5⎠"
            ]
          },
          "metadata": {
            "tags": []
          },
          "execution_count": 10
        }
      ]
    },
    {
      "cell_type": "markdown",
      "metadata": {
        "id": "zrZhgySX3o6x"
      },
      "source": [
        "## Exercise 3 \n",
        "\n",
        "* Create a Python function to represent each of the following functions. \n",
        "\n",
        "* Hence represent each function and its derivative symbolically."
      ]
    },
    {
      "cell_type": "markdown",
      "metadata": {
        "id": "XRj1ImmY3o6x"
      },
      "source": [
        "__Part 1__\n",
        "\n",
        "$$\n",
        "q(t)=3t^{4}-6t+4\n",
        "$$"
      ]
    },
    {
      "cell_type": "code",
      "metadata": {
        "id": "Nw4LVZRY3o6x"
      },
      "source": [
        ""
      ],
      "execution_count": null,
      "outputs": []
    },
    {
      "cell_type": "code",
      "metadata": {
        "id": "IHTi1yPJ3o6x"
      },
      "source": [
        ""
      ],
      "execution_count": null,
      "outputs": []
    },
    {
      "cell_type": "markdown",
      "metadata": {
        "id": "yd9JPhyZ3o6y"
      },
      "source": [
        "__Part 2__\n",
        "\n",
        "$$\n",
        "b(t)=\\sin(t)+\\cos(2t)\n",
        "$$"
      ]
    },
    {
      "cell_type": "code",
      "metadata": {
        "id": "19DyQWdY3o6y"
      },
      "source": [
        ""
      ],
      "execution_count": null,
      "outputs": []
    },
    {
      "cell_type": "code",
      "metadata": {
        "id": "mQTnqXRB3o6z"
      },
      "source": [
        ""
      ],
      "execution_count": null,
      "outputs": []
    },
    {
      "cell_type": "markdown",
      "metadata": {
        "id": "CcvfR_DO3o6z"
      },
      "source": [
        "__Part 3__\n",
        "\n",
        "$$\n",
        "W(x)=4x^k+x^{\\frac{1}{k}}      \n",
        "$$\n",
        "\n",
        "_Remark:_ You will need to define a new symbol to represent the index $k$ also."
      ]
    },
    {
      "cell_type": "code",
      "metadata": {
        "id": "dWn2LbvW3o6z",
        "outputId": "e2d110ce-2c94-4e94-aa09-9706eaea41d7",
        "colab": {
          "base_uri": "https://localhost:8080/",
          "height": 38
        }
      },
      "source": [
        "k=symbols('k',real=True)\n",
        "k"
      ],
      "execution_count": 7,
      "outputs": [
        {
          "output_type": "execute_result",
          "data": {
            "image/png": "[encoded data removed]",
            "text/latex": "$$k$$",
            "text/plain": [
              "k"
            ]
          },
          "metadata": {
            "tags": []
          },
          "execution_count": 7
        }
      ]
    },
    {
      "cell_type": "code",
      "metadata": {
        "id": "CzWKVeOT3o6z",
        "outputId": "831c3964-18ca-4b78-d36f-3447f1d91091",
        "colab": {
          "base_uri": "https://localhost:8080/",
          "height": 39
        }
      },
      "source": [
        "W=4*x**k+x**(1/k)\n",
        "W"
      ],
      "execution_count": 8,
      "outputs": [
        {
          "output_type": "execute_result",
          "data": {
            "image/png": "[encoded data removed]",
            "text/latex": "$$x^{\\frac{1}{k}} + 4 x^{k}$$",
            "text/plain": [
              "k ___      k\n",
              "╲╱ x  + 4⋅x "
            ]
          },
          "metadata": {
            "tags": []
          },
          "execution_count": 8
        }
      ]
    },
    {
      "cell_type": "markdown",
      "metadata": {
        "id": "0qcubse33o60"
      },
      "source": [
        "## Rules of differentiation\n",
        "\n",
        "* Using the function __Function()__ from the  __sympy__ library, we can also declare to symbol to represent a function.\n",
        "\n",
        "* For example, we will let the symbols **u and v** represent symbolic functions as follows:"
      ]
    },
    {
      "cell_type": "code",
      "metadata": {
        "id": "QkcCWV0p3o60"
      },
      "source": [
        "u = Function('u')    # define the two functions u and v\n",
        "v = Function('v')"
      ],
      "execution_count": null,
      "outputs": []
    },
    {
      "cell_type": "markdown",
      "metadata": {
        "id": "nvG_P-QA3o60"
      },
      "source": [
        "* We call these as functions of the independent varibles __x and t__ respectively as follows:"
      ]
    },
    {
      "cell_type": "code",
      "metadata": {
        "id": "_gEXFyWf3o61",
        "colab": {
          "base_uri": "https://localhost:8080/",
          "height": 38
        },
        "outputId": "08b554fa-ab71-4f2d-eb31-add07ca0e380"
      },
      "source": [
        "u(x), v(t)"
      ],
      "execution_count": null,
      "outputs": [
        {
          "output_type": "execute_result",
          "data": {
            "image/png": "[encoded data removed]",
            "text/latex": "$$\\left ( u{\\left (x \\right )}, \\quad v{\\left (t \\right )}\\right )$$",
            "text/plain": [
              "(u(x), v(t))"
            ]
          },
          "metadata": {
            "tags": []
          },
          "execution_count": 12
        }
      ]
    },
    {
      "cell_type": "markdown",
      "metadata": {
        "id": "YiqAcknk3o61"
      },
      "source": [
        "## The product rule\n",
        "\n",
        "* In lectures you will have encountered the product rule for the derivative pf a product of functions:\n",
        "If \n",
        "$$\n",
        "Y(x)=u(x)v(x)\n",
        "$$\n",
        "then the derivative of $Y(x)$ is given by\n",
        "$$\n",
        "\\frac{dY}{dx}=u\\frac{dv}{dx}+v\\frac{du}{dx}.\n",
        "$$\n",
        "\n",
        "* We can confirm this symbolically using the symbolic functions __u and v__ we created in the cell above:"
      ]
    },
    {
      "cell_type": "code",
      "metadata": {
        "id": "ZOfjU2sq3o61",
        "colab": {
          "base_uri": "https://localhost:8080/",
          "height": 39
        },
        "outputId": "e3397d23-8601-47a2-cb84-443b45e21117"
      },
      "source": [
        "Y=u(x)*v(x)\n",
        "diff(Y,x)"
      ],
      "execution_count": null,
      "outputs": [
        {
          "output_type": "execute_result",
          "data": {
            "image/png": "[encoded data removed]",
            "text/latex": "$$u{\\left (x \\right )} \\frac{d}{d x} v{\\left (x \\right )} + v{\\left (x \\right )} \\frac{d}{d x} u{\\left (x \\right )}$$",
            "text/plain": [
              "     d               d       \n",
              "u(x)⋅──(v(x)) + v(x)⋅──(u(x))\n",
              "     dx              dx      "
            ]
          },
          "metadata": {
            "tags": []
          },
          "execution_count": 13
        }
      ]
    },
    {
      "cell_type": "markdown",
      "metadata": {
        "id": "sNBDZYGB3o62"
      },
      "source": [
        "## Exercise 4\n",
        "\n",
        "__Part 1__\n",
        "Create symbolic functions to representing $p(t)$ and $q(t)$, and display these."
      ]
    },
    {
      "cell_type": "code",
      "metadata": {
        "id": "yw9detnh3o62"
      },
      "source": [
        "p = Function('p')    # define the two functions u and v\n",
        "q = Function('q')"
      ],
      "execution_count": 3,
      "outputs": []
    },
    {
      "cell_type": "markdown",
      "metadata": {
        "scrolled": true,
        "id": "fKD26AzZ3o62"
      },
      "source": [
        "__Part 2__ \n",
        "\n",
        "Use these symbolic functions to confirm the quotient rule:\n",
        "\n",
        "* If $Q(t)=\\frac{p(t)}{q(t)}$ then the derivative is given by\n",
        "$$\n",
        "\\frac{dQ}{dt}=\\frac{q(t)\\frac{dp(t)}{dt}-p(t)\\frac{dq(t)}{dt}}{q(t)^2}.\n",
        "$$"
      ]
    },
    {
      "cell_type": "code",
      "metadata": {
        "id": "Nq1TIYp53o63",
        "outputId": "db7489d6-26b7-4aa4-c463-eb9ec91e9038",
        "colab": {
          "base_uri": "https://localhost:8080/",
          "height": 46
        }
      },
      "source": [
        "diff(p(t)/q(t),t)"
      ],
      "execution_count": 6,
      "outputs": [
        {
          "output_type": "execute_result",
          "data": {
            "image/png": "[encoded data removed]",
            "text/latex": "$$- \\frac{\\frac{d}{d t} q{\\left (t \\right )}}{q^{2}{\\left (t \\right )}} p{\\left (t \\right )} + \\frac{\\frac{d}{d t} p{\\left (t \\right )}}{q{\\left (t \\right )}}$$",
            "text/plain": [
              "       d          d       \n",
              "  p(t)⋅──(q(t))   ──(p(t))\n",
              "       dt         dt      \n",
              "- ───────────── + ────────\n",
              "       2            q(t)  \n",
              "      q (t)               "
            ]
          },
          "metadata": {
            "tags": []
          },
          "execution_count": 6
        }
      ]
    },
    {
      "cell_type": "markdown",
      "metadata": {
        "id": "jiF9t5so3o63"
      },
      "source": [
        "## Plotting a funtion and its symbolic derivative \n",
        "\n",
        "* The height of a particle above the ground is represented as a function of time, given by\n",
        "$$\n",
        "D(t)=3t^3+5t^2-19t+10.\n",
        "$$\n",
        "\n",
        "* Using this answer the following:"
      ]
    },
    {
      "cell_type": "markdown",
      "metadata": {
        "id": "ckYBXjGQ3o63"
      },
      "source": [
        "__Part 1__\n",
        "\n",
        "Create a Python function to represent this height and display it symbolically. Hence evauate the height after 3 seconds, i.e. $D(3)$"
      ]
    },
    {
      "cell_type": "code",
      "metadata": {
        "id": "K28YqPtC3o64",
        "colab": {
          "base_uri": "https://localhost:8080/",
          "height": 38
        },
        "outputId": "11573ed1-ca18-4d9d-8594-adc73b4e8738"
      },
      "source": [
        "D=3*t**3+5*t**2-19*t+10\n",
        "D"
      ],
      "execution_count": null,
      "outputs": [
        {
          "output_type": "execute_result",
          "data": {
            "image/png": "[encoded data removed]",
            "text/latex": "$$3 t^{3} + 5 t^{2} - 19 t + 10$$",
            "text/plain": [
              "   3      2            \n",
              "3⋅t  + 5⋅t  - 19⋅t + 10"
            ]
          },
          "metadata": {
            "tags": []
          },
          "execution_count": 14
        }
      ]
    },
    {
      "cell_type": "markdown",
      "metadata": {
        "id": "G8h9JEz_3o65"
      },
      "source": [
        "* To evaluaate this function at a  specific value of $t$ we use the function __D.subs(t,3)__\n",
        "\n",
        "* What this means is: In the expression __D__ substitute __t__  with __3__ "
      ]
    },
    {
      "cell_type": "code",
      "metadata": {
        "id": "n4itzW3Q3o65",
        "colab": {
          "base_uri": "https://localhost:8080/",
          "height": 37
        },
        "outputId": "0c5757fb-9331-409a-b36c-bf0170c7f57e"
      },
      "source": [
        "D.subs(t,3)"
      ],
      "execution_count": null,
      "outputs": [
        {
          "output_type": "execute_result",
          "data": {
            "image/png": "[encoded data removed]",
            "text/latex": "$$79$$",
            "text/plain": [
              "79"
            ]
          },
          "metadata": {
            "tags": []
          },
          "execution_count": 15
        }
      ]
    },
    {
      "cell_type": "markdown",
      "metadata": {
        "id": "0ZpS8atI3o65"
      },
      "source": [
        "Hence, after 3 seconds the particle is 79 meters above the ground."
      ]
    },
    {
      "cell_type": "markdown",
      "metadata": {
        "id": "I0dV7lOS3o66"
      },
      "source": [
        "__Part 2__\n",
        "\n",
        "Find the velocity of the particle $\\frac{dD}{dt}$ as a function of time, and evaluate this velocity at time $t=4$."
      ]
    },
    {
      "cell_type": "code",
      "metadata": {
        "id": "hmQsl_qr3o66",
        "colab": {
          "base_uri": "https://localhost:8080/",
          "height": 38
        },
        "outputId": "3d5c448a-1eea-4086-884a-5c284365f36a"
      },
      "source": [
        "V=diff(D,t)\n",
        "V"
      ],
      "execution_count": null,
      "outputs": [
        {
          "output_type": "execute_result",
          "data": {
            "image/png": "[encoded data removed]",
            "text/latex": "$$9 t^{2} + 10 t - 19$$",
            "text/plain": [
              "   2            \n",
              "9⋅t  + 10⋅t - 19"
            ]
          },
          "metadata": {
            "tags": []
          },
          "execution_count": 16
        }
      ]
    },
    {
      "cell_type": "markdown",
      "metadata": {
        "id": "Qi-J6ODH3o66"
      },
      "source": [
        "* In this case we have named the first-derivative $\\frac{dD}{dt}$ as __V__ (for velocity), and then displayed  it by calling __V__ again.\n",
        "\n",
        "* The velocity at time $t=4$ is then given by: "
      ]
    },
    {
      "cell_type": "code",
      "metadata": {
        "id": "ZjgBxyAu3o67",
        "colab": {
          "base_uri": "https://localhost:8080/",
          "height": 37
        },
        "outputId": "99f111f9-4ced-465d-d69f-9004402c32e4"
      },
      "source": [
        "V.subs(t,4)"
      ],
      "execution_count": null,
      "outputs": [
        {
          "output_type": "execute_result",
          "data": {
            "image/png": "[encoded data removed]",
            "text/latex": "$$165$$",
            "text/plain": [
              "165"
            ]
          },
          "metadata": {
            "tags": []
          },
          "execution_count": 17
        }
      ]
    },
    {
      "cell_type": "markdown",
      "metadata": {
        "id": "yh6o3GgV3o67"
      },
      "source": [
        "Hence the veolcity at time $t=4$ is 165 meters per second."
      ]
    },
    {
      "cell_type": "markdown",
      "metadata": {
        "id": "2UUunRCx3o68"
      },
      "source": [
        "__Part 3__ \n",
        "\n",
        "Find the acceleration $\\frac{d^2D}{dt^2}$ of the particle at time $t=5$."
      ]
    },
    {
      "cell_type": "code",
      "metadata": {
        "id": "uetuiZKi3o68",
        "colab": {
          "base_uri": "https://localhost:8080/",
          "height": 38
        },
        "outputId": "c044a1e8-eef4-4fb2-f1da-07e6db462dbe"
      },
      "source": [
        "A=diff(D,t,2)\n",
        "A"
      ],
      "execution_count": null,
      "outputs": [
        {
          "output_type": "execute_result",
          "data": {
            "image/png": "[encoded data removed]",
            "text/latex": "$$2 \\left(9 t + 5\\right)$$",
            "text/plain": [
              "2⋅(9⋅t + 5)"
            ]
          },
          "metadata": {
            "tags": []
          },
          "execution_count": 18
        }
      ]
    },
    {
      "cell_type": "markdown",
      "metadata": {
        "id": "0Evrd6DP3o69"
      },
      "source": [
        "* In this case we have included an extra argument in __diff()__ to indicate that we want to differentieate __D__ with respect to __t__, __2__ times.\n",
        "\n",
        "* We have given this second derivative the name __A__ (for acceleration).\n",
        "\n",
        "* We now evaluate this acceleration at time $t=5$ using __subs()__ as ususal:"
      ]
    },
    {
      "cell_type": "code",
      "metadata": {
        "id": "m0_PelEu3o69",
        "colab": {
          "base_uri": "https://localhost:8080/",
          "height": 37
        },
        "outputId": "6f6aa73a-16e2-4b1d-d9a7-1a8908856b0b"
      },
      "source": [
        "A.subs(t,5)"
      ],
      "execution_count": null,
      "outputs": [
        {
          "output_type": "execute_result",
          "data": {
            "image/png": "[encoded data removed]",
            "text/latex": "$$100$$",
            "text/plain": [
              "100"
            ]
          },
          "metadata": {
            "tags": []
          },
          "execution_count": 19
        }
      ]
    },
    {
      "cell_type": "markdown",
      "metadata": {
        "id": "TojxdKcp3o69"
      },
      "source": [
        "Hence the acceleration at time $t=5$ is 100 meters per second per second. "
      ]
    },
    {
      "cell_type": "markdown",
      "metadata": {
        "id": "mNOIAZ003o69"
      },
      "source": [
        "__Part 4__\n",
        "\n",
        "\n",
        "\n",
        "* Plot the height, velocity and acclertation of the particle over the time interval $0\\leq t\\leq 2$ seconds.\n",
        "\n",
        "\n",
        "### Step 1 - Lambdify $D$, $V$ and $A$:"
      ]
    },
    {
      "cell_type": "code",
      "metadata": {
        "id": "yQ91TLUk6BTJ"
      },
      "source": [
        "DL = lambdify([t],D,'numpy')"
      ],
      "execution_count": null,
      "outputs": []
    },
    {
      "cell_type": "code",
      "metadata": {
        "id": "qJUS-RSb6Baa"
      },
      "source": [
        "VL = lambdify([t],V,'numpy')"
      ],
      "execution_count": null,
      "outputs": []
    },
    {
      "cell_type": "code",
      "metadata": {
        "id": "UrZQ6sKK6dY9"
      },
      "source": [
        "AL = lambdify([t],A,'numpy')"
      ],
      "execution_count": null,
      "outputs": []
    },
    {
      "cell_type": "markdown",
      "metadata": {
        "id": "9abOpGD66hsy"
      },
      "source": [
        "* We named the lambdified version of $D(t)$ as __DL__ (L for Lambdified), $V(t)$ and $A(t)$ were named in a similar way.\n",
        "\n",
        "\n",
        "* The advantage of this process is that it allows us to pass a __numpy__ array of $t$-values to __DL__, __VL__ and __AL__.\n",
        "\n",
        "* Once we can do that, we can easily plot the functions with __matplotlib__.\n",
        "\n",
        "\n",
        "* We create a sequence of $t$-values using the numpy function __linspace()__ "
      ]
    },
    {
      "cell_type": "code",
      "metadata": {
        "id": "R7gzqGsZ7LlF",
        "colab": {
          "base_uri": "https://localhost:8080/"
        },
        "outputId": "e4cc6dba-258c-4c00-f52f-54269bbe6c09"
      },
      "source": [
        "tn=np.linspace(0,2,101)\n",
        "DL(tn)"
      ],
      "execution_count": null,
      "outputs": [
        {
          "output_type": "execute_result",
          "data": {
            "text/plain": [
              "array([ 1.0000000e+01,  9.6220240e+00,  9.2481920e+00,  8.8786480e+00,\n",
              "        8.5135360e+00,  8.1530000e+00,  7.7971840e+00,  7.4462320e+00,\n",
              "        7.1002880e+00,  6.7594960e+00,  6.4240000e+00,  6.0939440e+00,\n",
              "        5.7694720e+00,  5.4507280e+00,  5.1378560e+00,  4.8310000e+00,\n",
              "        4.5303040e+00,  4.2359120e+00,  3.9479680e+00,  3.6666160e+00,\n",
              "        3.3920000e+00,  3.1242640e+00,  2.8635520e+00,  2.6100080e+00,\n",
              "        2.3637760e+00,  2.1250000e+00,  1.8938240e+00,  1.6703920e+00,\n",
              "        1.4548480e+00,  1.2473360e+00,  1.0480000e+00,  8.5698400e-01,\n",
              "        6.7443200e-01,  5.0048800e-01,  3.3529600e-01,  1.7900000e-01,\n",
              "        3.1744000e-02, -1.0632800e-01, -2.3507200e-01, -3.5434400e-01,\n",
              "       -4.6400000e-01, -5.6389600e-01, -6.5388800e-01, -7.3383200e-01,\n",
              "       -8.0358400e-01, -8.6300000e-01, -9.1193600e-01, -9.5024800e-01,\n",
              "       -9.7779200e-01, -9.9442400e-01, -1.0000000e+00, -9.9437600e-01,\n",
              "       -9.7740800e-01, -9.4895200e-01, -9.0886400e-01, -8.5700000e-01,\n",
              "       -7.9321600e-01, -7.1736800e-01, -6.2931200e-01, -5.2890400e-01,\n",
              "       -4.1600000e-01, -2.9045600e-01, -1.5212800e-01, -8.7200000e-04,\n",
              "        1.6345600e-01,  3.4100000e-01,  5.3190400e-01,  7.3631200e-01,\n",
              "        9.5436800e-01,  1.1862160e+00,  1.4320000e+00,  1.6918640e+00,\n",
              "        1.9659520e+00,  2.2544080e+00,  2.5573760e+00,  2.8750000e+00,\n",
              "        3.2074240e+00,  3.5547920e+00,  3.9172480e+00,  4.2949360e+00,\n",
              "        4.6880000e+00,  5.0965840e+00,  5.5208320e+00,  5.9608880e+00,\n",
              "        6.4168960e+00,  6.8890000e+00,  7.3773440e+00,  7.8820720e+00,\n",
              "        8.4033280e+00,  8.9412560e+00,  9.4960000e+00,  1.0067704e+01,\n",
              "        1.0656512e+01,  1.1262568e+01,  1.1886016e+01,  1.2527000e+01,\n",
              "        1.3185664e+01,  1.3862152e+01,  1.4556608e+01,  1.5269176e+01,\n",
              "        1.6000000e+01])"
            ]
          },
          "metadata": {
            "tags": []
          },
          "execution_count": 23
        }
      ]
    },
    {
      "cell_type": "markdown",
      "metadata": {
        "id": "Z_yX6pfW8TCW"
      },
      "source": [
        "* We call the numpy array of t-values __tn__ (n for numpy) to dustinguish it from the symbolic __t__ already defined.\n",
        "\n",
        "\n",
        "* If we just named it __t__, it will mean __t__ is now a numerical array, and we will have to re-define it as a symbolic variable when we want to use it for differentiation.\n",
        "\n",
        "\n",
        "* The last line just diplays the value of __DL__ at each of the __tn__-values in the linspace. \n",
        "\n",
        "### Step 2 - Plotting the functions "
      ]
    },
    {
      "cell_type": "code",
      "metadata": {
        "id": "tc4YYJeC3o6-",
        "colab": {
          "base_uri": "https://localhost:8080/",
          "height": 283
        },
        "outputId": "4a2b7d27-ef31-4315-fba3-082f787e8d75"
      },
      "source": [
        "plt.plot(tn,DL(tn),label='D(t)')\n",
        "plt.plot(tn,VL(tn),label='V(t)')\n",
        "plt.plot(tn,AL(tn),label='A(t)')\n",
        "plt.legend()"
      ],
      "execution_count": null,
      "outputs": [
        {
          "output_type": "execute_result",
          "data": {
            "text/plain": [
              "<matplotlib.legend.Legend at 0x7fe22110cda0>"
            ]
          },
          "metadata": {
            "tags": []
          },
          "execution_count": 24
        },
        {
          "output_type": "display_data",
          "data": {
            "image/png": "[encoded data removed]",
            "text/plain": [
              "<Figure size 432x288 with 1 Axes>"
            ]
          },
          "metadata": {
            "tags": [],
            "needs_background": "light"
          }
        }
      ]
    },
    {
      "cell_type": "markdown",
      "metadata": {
        "id": "3vDAgsmx3o6-"
      },
      "source": [
        "* We plot __tn__ along the $x$-axis of each plot and the functions __DL__, __VL__ and __AL__ along the $y$-axis.\n",
        "\n",
        "* Each plot is given a __label__ corresponding to the function name, e.g. the plot of __DL__ is labeld as 'D(t)'.\n",
        "\n",
        "\n",
        "* When we use the __legend()__ function, it calles each of these lables, to show us which colour corresponds to which function."
      ]
    },
    {
      "cell_type": "markdown",
      "metadata": {
        "id": "cNFk_nSV3o6_"
      },
      "source": [
        "## Exercise 4"
      ]
    },
    {
      "cell_type": "markdown",
      "metadata": {
        "id": "28T536tk3o6_"
      },
      "source": [
        "A stone is thrown vertically upward with an initial velocity of 25 m/sec from the top of a 30m building. The formula for the position of the stone $t$ seconds after it is thrown, is given by\n",
        "$$\n",
        "s(t)=30+25t-4.9t^2 \n",
        "$$\n",
        "\n",
        "Using this, answer the following:"
      ]
    },
    {
      "cell_type": "markdown",
      "metadata": {
        "collapsed": true,
        "id": "AKIVFXl83o7A"
      },
      "source": [
        "__Part 1__ \n",
        "\n",
        "* Construct a symbolic function representing the position of the stone as a funciton of __t__. \n",
        "\n",
        "* Ensure your function is correct by evaluating this function at time __t=0__.\n",
        "\n",
        "* Hence evaluate the height at time __t=3__.\n",
        "\n"
      ]
    },
    {
      "cell_type": "code",
      "metadata": {
        "id": "Irx8DxY63o7B",
        "outputId": "bb8e03f2-1031-4cf2-9088-18951a633278",
        "colab": {
          "base_uri": "https://localhost:8080/",
          "height": 38
        }
      },
      "source": [
        "s=30+25*t-4.9*t**2\n",
        "v=diff(s,t)\n",
        "v"
      ],
      "execution_count": 9,
      "outputs": [
        {
          "output_type": "execute_result",
          "data": {
            "image/png": "[encoded data removed]",
            "text/latex": "$$- 9.8 t + 25$$",
            "text/plain": [
              "-9.8⋅t + 25"
            ]
          },
          "metadata": {
            "tags": []
          },
          "execution_count": 9
        }
      ]
    },
    {
      "cell_type": "code",
      "metadata": {
        "id": "GxVETRwI3o7B",
        "outputId": "a0bbb17d-8573-4ff6-b051-92b002013766",
        "colab": {
          "base_uri": "https://localhost:8080/",
          "height": 37
        }
      },
      "source": [
        "a=diff(s,t,2)\n",
        "a"
      ],
      "execution_count": 35,
      "outputs": [
        {
          "output_type": "execute_result",
          "data": {
            "image/png": "[encoded data removed]",
            "text/latex": "$$-9.8$$",
            "text/plain": [
              "-9.80000000000000"
            ]
          },
          "metadata": {
            "tags": []
          },
          "execution_count": 35
        }
      ]
    },
    {
      "cell_type": "code",
      "metadata": {
        "id": "0n2HcXkj3o7C"
      },
      "source": [
        ""
      ],
      "execution_count": null,
      "outputs": []
    },
    {
      "cell_type": "code",
      "metadata": {
        "id": "8h9AFOJjTAqK"
      },
      "source": [
        ""
      ],
      "execution_count": null,
      "outputs": []
    },
    {
      "cell_type": "code",
      "metadata": {
        "id": "vG8CSVOKTAsh"
      },
      "source": [
        ""
      ],
      "execution_count": null,
      "outputs": []
    },
    {
      "cell_type": "code",
      "metadata": {
        "id": "3ObNNLejTAvH"
      },
      "source": [
        ""
      ],
      "execution_count": null,
      "outputs": []
    },
    {
      "cell_type": "code",
      "metadata": {
        "id": "AhOhNDZaTAy9"
      },
      "source": [
        ""
      ],
      "execution_count": null,
      "outputs": []
    },
    {
      "cell_type": "markdown",
      "metadata": {
        "collapsed": true,
        "id": "bHcoW0AH3o7C"
      },
      "source": [
        "__Part 2__ \n",
        "\n",
        "* Use __diff()__ to find represent the velocity  $\\frac{ds}{ds}$ as a function of __t__.\n",
        "\n",
        "* Ensure this is correct by evaluating the velocity at time __t=0__.\n",
        "\n",
        "* Hence evaluate the velocity at time __t=4__."
      ]
    },
    {
      "cell_type": "code",
      "metadata": {
        "id": "05i1ZDPy3o7C"
      },
      "source": [
        ""
      ],
      "execution_count": null,
      "outputs": []
    },
    {
      "cell_type": "code",
      "metadata": {
        "id": "Asr9EzxJ3o7C"
      },
      "source": [
        ""
      ],
      "execution_count": null,
      "outputs": []
    },
    {
      "cell_type": "code",
      "metadata": {
        "id": "tNlPh51M3o7C"
      },
      "source": [
        ""
      ],
      "execution_count": null,
      "outputs": []
    },
    {
      "cell_type": "markdown",
      "metadata": {
        "collapsed": true,
        "id": "vg-jigTF3o7C"
      },
      "source": [
        "__Part 3__\n",
        "\n",
        "* Find the accleration of the stone $\\frac{d^2s}{dt^2}$.\n",
        "\n"
      ]
    },
    {
      "cell_type": "markdown",
      "metadata": {
        "id": "MIXj13YG9o-t"
      },
      "source": [
        ""
      ]
    },
    {
      "cell_type": "markdown",
      "metadata": {
        "id": "6ZmhLmPc9ldd"
      },
      "source": [
        "#### Part 4\n",
        "\n",
        "* __Lambdify__ each of the functions $s$, $\\frac{ds}{dt}$ and $\\frac{d^2s}{dt^2}$, so that we can pass numpy arrays to each function.\n",
        "\n",
        "* Hence,  __plot__ the position, velocity and acceleration of the stone over the time interval $0\\leq t \\leq 3$.\n"
      ]
    },
    {
      "cell_type": "markdown",
      "metadata": {
        "id": "hasaKTptWoDz"
      },
      "source": [
        "__IMPORTANT:__ lambdify will not work for $\\frac{d^2s}{dt^2}$ because the second derivative is just a number (-9.8).\n",
        "\n",
        "* The code below is "
      ]
    },
    {
      "cell_type": "code",
      "metadata": {
        "id": "e58nycdQ3o7D"
      },
      "source": [
        ""
      ],
      "execution_count": 27,
      "outputs": []
    },
    {
      "cell_type": "code",
      "metadata": {
        "id": "IzCbzN0X3o7E",
        "outputId": "03edb06b-2e15-408a-c625-4c2dcdb3730f",
        "colab": {
          "base_uri": "https://localhost:8080/"
        }
      },
      "source": [
        "tn=np.linspace(0,3,201)\n",
        "an=np.array([a.subs(t,tt) for tt in tn])\n"
      ],
      "execution_count": 30,
      "outputs": [
        {
          "output_type": "execute_result",
          "data": {
            "text/plain": [
              "array([-9.80000000000000, -9.80000000000000, -9.80000000000000,\n",
              "       -9.80000000000000, -9.80000000000000, -9.80000000000000,\n",
              "       -9.80000000000000, -9.80000000000000, -9.80000000000000,\n",
              "       -9.80000000000000, -9.80000000000000, -9.80000000000000,\n",
              "       -9.80000000000000, -9.80000000000000, -9.80000000000000,\n",
              "       -9.80000000000000, -9.80000000000000, -9.80000000000000,\n",
              "       -9.80000000000000, -9.80000000000000, -9.80000000000000,\n",
              "       -9.80000000000000, -9.80000000000000, -9.80000000000000,\n",
              "       -9.80000000000000, -9.80000000000000, -9.80000000000000,\n",
              "       -9.80000000000000, -9.80000000000000, -9.80000000000000,\n",
              "       -9.80000000000000, -9.80000000000000, -9.80000000000000,\n",
              "       -9.80000000000000, -9.80000000000000, -9.80000000000000,\n",
              "       -9.80000000000000, -9.80000000000000, -9.80000000000000,\n",
              "       -9.80000000000000, -9.80000000000000, -9.80000000000000,\n",
              "       -9.80000000000000, -9.80000000000000, -9.80000000000000,\n",
              "       -9.80000000000000, -9.80000000000000, -9.80000000000000,\n",
              "       -9.80000000000000, -9.80000000000000, -9.80000000000000,\n",
              "       -9.80000000000000, -9.80000000000000, -9.80000000000000,\n",
              "       -9.80000000000000, -9.80000000000000, -9.80000000000000,\n",
              "       -9.80000000000000, -9.80000000000000, -9.80000000000000,\n",
              "       -9.80000000000000, -9.80000000000000, -9.80000000000000,\n",
              "       -9.80000000000000, -9.80000000000000, -9.80000000000000,\n",
              "       -9.80000000000000, -9.80000000000000, -9.80000000000000,\n",
              "       -9.80000000000000, -9.80000000000000, -9.80000000000000,\n",
              "       -9.80000000000000, -9.80000000000000, -9.80000000000000,\n",
              "       -9.80000000000000, -9.80000000000000, -9.80000000000000,\n",
              "       -9.80000000000000, -9.80000000000000, -9.80000000000000,\n",
              "       -9.80000000000000, -9.80000000000000, -9.80000000000000,\n",
              "       -9.80000000000000, -9.80000000000000, -9.80000000000000,\n",
              "       -9.80000000000000, -9.80000000000000, -9.80000000000000,\n",
              "       -9.80000000000000, -9.80000000000000, -9.80000000000000,\n",
              "       -9.80000000000000, -9.80000000000000, -9.80000000000000,\n",
              "       -9.80000000000000, -9.80000000000000, -9.80000000000000,\n",
              "       -9.80000000000000, -9.80000000000000, -9.80000000000000,\n",
              "       -9.80000000000000, -9.80000000000000, -9.80000000000000,\n",
              "       -9.80000000000000, -9.80000000000000, -9.80000000000000,\n",
              "       -9.80000000000000, -9.80000000000000, -9.80000000000000,\n",
              "       -9.80000000000000, -9.80000000000000, -9.80000000000000,\n",
              "       -9.80000000000000, -9.80000000000000, -9.80000000000000,\n",
              "       -9.80000000000000, -9.80000000000000, -9.80000000000000,\n",
              "       -9.80000000000000, -9.80000000000000, -9.80000000000000,\n",
              "       -9.80000000000000, -9.80000000000000, -9.80000000000000,\n",
              "       -9.80000000000000, -9.80000000000000, -9.80000000000000,\n",
              "       -9.80000000000000, -9.80000000000000, -9.80000000000000,\n",
              "       -9.80000000000000, -9.80000000000000, -9.80000000000000,\n",
              "       -9.80000000000000, -9.80000000000000, -9.80000000000000,\n",
              "       -9.80000000000000, -9.80000000000000, -9.80000000000000,\n",
              "       -9.80000000000000, -9.80000000000000, -9.80000000000000,\n",
              "       -9.80000000000000, -9.80000000000000, -9.80000000000000,\n",
              "       -9.80000000000000, -9.80000000000000, -9.80000000000000,\n",
              "       -9.80000000000000, -9.80000000000000, -9.80000000000000,\n",
              "       -9.80000000000000, -9.80000000000000, -9.80000000000000,\n",
              "       -9.80000000000000, -9.80000000000000, -9.80000000000000,\n",
              "       -9.80000000000000, -9.80000000000000, -9.80000000000000,\n",
              "       -9.80000000000000, -9.80000000000000, -9.80000000000000,\n",
              "       -9.80000000000000, -9.80000000000000, -9.80000000000000,\n",
              "       -9.80000000000000, -9.80000000000000, -9.80000000000000,\n",
              "       -9.80000000000000, -9.80000000000000, -9.80000000000000,\n",
              "       -9.80000000000000, -9.80000000000000, -9.80000000000000,\n",
              "       -9.80000000000000, -9.80000000000000, -9.80000000000000,\n",
              "       -9.80000000000000, -9.80000000000000, -9.80000000000000,\n",
              "       -9.80000000000000, -9.80000000000000, -9.80000000000000,\n",
              "       -9.80000000000000, -9.80000000000000, -9.80000000000000,\n",
              "       -9.80000000000000, -9.80000000000000, -9.80000000000000,\n",
              "       -9.80000000000000, -9.80000000000000, -9.80000000000000,\n",
              "       -9.80000000000000, -9.80000000000000, -9.80000000000000,\n",
              "       -9.80000000000000, -9.80000000000000, -9.80000000000000],\n",
              "      dtype=object)"
            ]
          },
          "metadata": {
            "tags": []
          },
          "execution_count": 30
        }
      ]
    },
    {
      "cell_type": "code",
      "metadata": {
        "id": "Q873HW9cTKny",
        "outputId": "0e9bce82-f313-498e-b9af-84d6fe9d76c6",
        "colab": {
          "base_uri": "https://localhost:8080/",
          "height": 284
        }
      },
      "source": [
        "plt.plot(tn,an)"
      ],
      "execution_count": 34,
      "outputs": [
        {
          "output_type": "execute_result",
          "data": {
            "text/plain": [
              "[<matplotlib.lines.Line2D at 0x7f75ef562748>]"
            ]
          },
          "metadata": {
            "tags": []
          },
          "execution_count": 34
        },
        {
          "output_type": "display_data",
          "data": {
            "image/png": "[encoded data removed]",
            "text/plain": [
              "<Figure size 432x288 with 1 Axes>"
            ]
          },
          "metadata": {
            "tags": [],
            "needs_background": "light"
          }
        }
      ]
    },
    {
      "cell_type": "code",
      "metadata": {
        "id": "Vva8l6IRTKtU"
      },
      "source": [
        ""
      ],
      "execution_count": null,
      "outputs": []
    },
    {
      "cell_type": "markdown",
      "metadata": {
        "id": "0pKgbyBh3o7E"
      },
      "source": [
        "# Simplify\n",
        "\n",
        "* Sometimes when Python returns the result of an operation it can be an akward expression.\n",
        "\n",
        "\n",
        "* However, in *some* cases, these expressions can be tidied using the function __simplify()__"
      ]
    },
    {
      "cell_type": "markdown",
      "metadata": {
        "id": "5byIeC003o7E"
      },
      "source": [
        "## Example 5\n",
        "\n",
        "* A capacitor of capacitance $C$ is placed in a circuit with a resistor of resistance $R$ and a source of voltage $E$.\n",
        "\n",
        "\n",
        "* The charge on the capacitor $q(t)$ is given by:\n",
        "\n",
        "$$\n",
        "    q(t) = CE\\left(1−\\exp\\left(-\\frac{t}{RC}\\right)\\right)\n",
        "$$\n",
        "\n",
        "Using this, answer the following:"
      ]
    },
    {
      "cell_type": "markdown",
      "metadata": {
        "id": "jMRDpRd33o7E"
      },
      "source": [
        "__Part 1__ \n",
        "\n",
        "Create symbols to represent the voltage __E__, the capacitance __C__ and the resistance __R__."
      ]
    },
    {
      "cell_type": "code",
      "metadata": {
        "id": "8RLCPFoh3o7E",
        "colab": {
          "base_uri": "https://localhost:8080/",
          "height": 38
        },
        "outputId": "427b702d-6f63-4243-c32b-fcd40ec8d235"
      },
      "source": [
        "E,C,R=symbols('E C R',real=True)\n",
        "E,C,R"
      ],
      "execution_count": null,
      "outputs": [
        {
          "output_type": "execute_result",
          "data": {
            "image/png": "[encoded data removed]",
            "text/latex": "$$\\left ( E, \\quad C, \\quad R\\right )$$",
            "text/plain": [
              "(E, C, R)"
            ]
          },
          "metadata": {
            "tags": []
          },
          "execution_count": 25
        }
      ]
    },
    {
      "cell_type": "markdown",
      "metadata": {
        "id": "14bC425Y3o7E"
      },
      "source": [
        "__Part 2__\n",
        "\n",
        "Create an expression to represent the charge __q__."
      ]
    },
    {
      "cell_type": "code",
      "metadata": {
        "id": "po2ITo5b3o7F",
        "colab": {
          "base_uri": "https://localhost:8080/",
          "height": 48
        },
        "outputId": "816fce8d-ba20-435e-876d-3e94acfb4f84"
      },
      "source": [
        "q=C*E*(1-exp(-t/(R*C)))\n",
        "q"
      ],
      "execution_count": null,
      "outputs": [
        {
          "output_type": "execute_result",
          "data": {
            "image/png": "[encoded data removed]",
            "text/latex": "$$C E \\left(1 - e^{- \\frac{t}{C R}}\\right)$$",
            "text/plain": [
              "    ⎛     -t ⎞\n",
              "    ⎜     ───⎟\n",
              "    ⎜     C⋅R⎟\n",
              "C⋅E⋅⎝1 - ℯ   ⎠"
            ]
          },
          "metadata": {
            "tags": []
          },
          "execution_count": 26
        }
      ]
    },
    {
      "cell_type": "markdown",
      "metadata": {
        "id": "-c7c6vL73o7F"
      },
      "source": [
        "__Part 3__ \n",
        "\n",
        "Use __diff()__ to find $\\frac{dq}{dt}$."
      ]
    },
    {
      "cell_type": "code",
      "metadata": {
        "id": "b7sKOcxz3o7F",
        "colab": {
          "base_uri": "https://localhost:8080/",
          "height": 39
        },
        "outputId": "089df743-1f62-444c-e9cc-3c8619ba0348"
      },
      "source": [
        "dq=diff(q,t)\n",
        "dq"
      ],
      "execution_count": null,
      "outputs": [
        {
          "output_type": "execute_result",
          "data": {
            "image/png": "[encoded data removed]",
            "text/latex": "$$\\frac{E}{R} e^{- \\frac{t}{C R}}$$",
            "text/plain": [
              "   -t \n",
              "   ───\n",
              "   C⋅R\n",
              "E⋅ℯ   \n",
              "──────\n",
              "  R   "
            ]
          },
          "metadata": {
            "tags": []
          },
          "execution_count": 27
        }
      ]
    },
    {
      "cell_type": "markdown",
      "metadata": {
        "id": "4WDNauv63o7G"
      },
      "source": [
        "__Part 4__\n",
        "\n",
        "Hence confirm that the charge __q__ satisfies the following differential equation:\n",
        "$$\n",
        "R\\frac{dq}{dt} +\\frac{q}{C}=E,\n",
        "$$\n",
        "\n",
        "i.e. evalaute the __left-hand side__ and ensure it returns __E__."
      ]
    },
    {
      "cell_type": "code",
      "metadata": {
        "id": "Bk29D_HB3o7G",
        "colab": {
          "base_uri": "https://localhost:8080/",
          "height": 48
        },
        "outputId": "1d70d87b-dcc3-476c-857f-ec533e28df09"
      },
      "source": [
        "R*dq+q/C"
      ],
      "execution_count": null,
      "outputs": [
        {
          "output_type": "execute_result",
          "data": {
            "image/png": "[encoded data removed]",
            "text/latex": "$$E \\left(1 - e^{- \\frac{t}{C R}}\\right) + E e^{- \\frac{t}{C R}}$$",
            "text/plain": [
              "  ⎛     -t ⎞      -t \n",
              "  ⎜     ───⎟      ───\n",
              "  ⎜     C⋅R⎟      C⋅R\n",
              "E⋅⎝1 - ℯ   ⎠ + E⋅ℯ   "
            ]
          },
          "metadata": {
            "tags": []
          },
          "execution_count": 28
        }
      ]
    },
    {
      "cell_type": "markdown",
      "metadata": {
        "id": "8xA_LTp83o7G"
      },
      "source": [
        "* In this case we see that our differential equation does not return the right-hand side we expect, i.e. __E__.\n",
        "\n",
        "\n",
        "* However, using the __simplify()__ function, we see that what we get above does actually agree with what we expect:"
      ]
    },
    {
      "cell_type": "code",
      "metadata": {
        "id": "Bi9BQAGC3o7G",
        "colab": {
          "base_uri": "https://localhost:8080/",
          "height": 38
        },
        "outputId": "844b627e-3c3a-4d31-c951-926d3522e0bf"
      },
      "source": [
        "simplify(R*dq+q/C)"
      ],
      "execution_count": null,
      "outputs": [
        {
          "output_type": "execute_result",
          "data": {
            "image/png": "[encoded data removed]",
            "text/latex": "$$E$$",
            "text/plain": [
              "E"
            ]
          },
          "metadata": {
            "tags": []
          },
          "execution_count": 29
        }
      ]
    },
    {
      "cell_type": "markdown",
      "metadata": {
        "id": "rfvDlUKO3o7I"
      },
      "source": [
        "## Exercise 5\n",
        "\n",
        "* An inductor of inductance $L$ is placed in a circuit with a resistor of resistance $R$ and a source of voltage $E$.\n",
        "\n",
        "\n",
        "* The current in the circuit $i(t)$ is given by:\n",
        "\n",
        "$$\n",
        "    i(t) = \\frac{E}{R}\\left(1-\\exp\\left(-\\frac{Rt}{L}\\right)\\right)\n",
        "$$\n",
        "Using this, answer the following:"
      ]
    },
    {
      "cell_type": "markdown",
      "metadata": {
        "id": "YM7EG7Rz3o7I"
      },
      "source": [
        "__Part 1__ \n",
        "\n",
        "Create a new symbol to represent __L__."
      ]
    },
    {
      "cell_type": "code",
      "metadata": {
        "id": "dgsrXsPN3o7I"
      },
      "source": [
        ""
      ],
      "execution_count": null,
      "outputs": []
    },
    {
      "cell_type": "markdown",
      "metadata": {
        "id": "PFjOxnHW3o7J"
      },
      "source": [
        "__Part 2__\n",
        "\n",
        "Instruct Python to interpret __i__ as a function."
      ]
    },
    {
      "cell_type": "code",
      "metadata": {
        "id": "_b7K_KTQ3o7J"
      },
      "source": [
        ""
      ],
      "execution_count": null,
      "outputs": []
    },
    {
      "cell_type": "markdown",
      "metadata": {
        "id": "lYrh-Di83o7K"
      },
      "source": [
        "__Part 3__ \n",
        "\n",
        "Use __diff()__ to find $\\frac{di}{dt}$."
      ]
    },
    {
      "cell_type": "code",
      "metadata": {
        "id": "xjCU0_FI3o7K"
      },
      "source": [
        ""
      ],
      "execution_count": null,
      "outputs": []
    },
    {
      "cell_type": "markdown",
      "metadata": {
        "id": "w1vQBMyj3o7K"
      },
      "source": [
        "__Part 4__\n",
        "\n",
        "Hence confirm that the charge __q__ satisfies the following differential\n",
        "$$\n",
        "L\\frac{di}{dt} +Ri=E,\n",
        "$$\n",
        "\n",
        "i.e. evalaute the __left-hand side__ and ensure it returns __E__."
      ]
    },
    {
      "cell_type": "code",
      "metadata": {
        "id": "pYBFyFXR3o7K"
      },
      "source": [
        ""
      ],
      "execution_count": null,
      "outputs": []
    }
  ]
}