{
 "cells": [
  {
   "cell_type": "markdown",
   "metadata": {},
   "source": [
    "### Name:\n",
    "### Student Number:"
   ]
  },
  {
   "cell_type": "markdown",
   "metadata": {},
   "source": [
    "# Python Workbook 4 - Symbolic Differentiation\n",
    "\n",
    "## The Symbolic Python Library\n",
    "\n",
    "\n",
    "\n",
    "In this practical we will use Python to calculate the derivtaive of function symbolically. To perform such symbolic calculations in Python we use the __sympy (Symbolic Python)__ library of functions.\n",
    "\n",
    "To import all __sympy__ functions directly into this workbook we __import__ sympy as follows:  \n",
    "\n"
   ]
  },
  {
   "cell_type": "code",
   "execution_count": 1,
   "metadata": {},
   "outputs": [],
   "source": [
    "%matplotlib inline\n",
    "import sympy as sym\n",
    "from sympy import *"
   ]
  },
  {
   "cell_type": "markdown",
   "metadata": {},
   "source": [
    "We can now use this library to perform symbolic mainipulations of mathematical expressions and functions.\n",
    "\n",
    "## Symbols\n",
    "\n",
    "* The most elementary operation we perform with the __sympy__ library is the declare a symbol. We will declare __t__, __x__, and to be  __real valued__ symbolic variables as follows:"
   ]
  },
  {
   "cell_type": "code",
   "execution_count": 2,
   "metadata": {},
   "outputs": [],
   "source": [
    "t,x=symbols('t x', real=True)"
   ]
  },
  {
   "cell_type": "markdown",
   "metadata": {},
   "source": [
    "## Exercise 1:\n",
    "\n",
    "Declare the real valued symbolic variables  __y and z__."
   ]
  },
  {
   "cell_type": "code",
   "execution_count": null,
   "metadata": {},
   "outputs": [],
   "source": []
  },
  {
   "cell_type": "markdown",
   "metadata": {},
   "source": [
    "## Symbolic functions\n",
    "\n",
    "* Now that we have created a symbolic variable, we can use it to display a function symbolically. \n",
    "\n",
    "* First we will create a Python function in the usual way:"
   ]
  },
  {
   "cell_type": "code",
   "execution_count": 3,
   "metadata": {},
   "outputs": [],
   "source": [
    "def f(s):\n",
    "    return s**3+4*s**2+5*s+25"
   ]
  },
  {
   "cell_type": "markdown",
   "metadata": {},
   "source": [
    "* Notice that we have used __s__ as the independent variable in this definition.\n",
    "\n",
    "* So far we have not seen __s__ defined anywhere, and this is not a problem, since it is just a place holder in this function definition.\n",
    "\n",
    "* If we try to print __f(s)__ however, this will return an error,since __s__ is not defined anywhere, i.e."
   ]
  },
  {
   "cell_type": "code",
   "execution_count": 7,
   "metadata": {},
   "outputs": [
    {
     "ename": "NameError",
     "evalue": "name 's' is not defined",
     "output_type": "error",
     "traceback": [
      "\u001b[0;31m---------------------------------------------------------------------------\u001b[0m",
      "\u001b[0;31mNameError\u001b[0m                                 Traceback (most recent call last)",
      "\u001b[0;32m<ipython-input-7-9528d8b41b23>\u001b[0m in \u001b[0;36m<module>\u001b[0;34m()\u001b[0m\n\u001b[0;32m----> 1\u001b[0;31m \u001b[0mf\u001b[0m\u001b[0;34m(\u001b[0m\u001b[0ms\u001b[0m\u001b[0;34m)\u001b[0m\u001b[0;34m\u001b[0m\u001b[0;34m\u001b[0m\u001b[0m\n\u001b[0m",
      "\u001b[0;31mNameError\u001b[0m: name 's' is not defined"
     ]
    }
   ],
   "source": [
    "f(s)"
   ]
  },
  {
   "cell_type": "markdown",
   "metadata": {},
   "source": [
    "* However we can call our function as __f(x)__, __f(t)__ etc, and Python will display a symbolic representation of the function in terms of the relevant variable:"
   ]
  },
  {
   "cell_type": "code",
   "execution_count": 8,
   "metadata": {},
   "outputs": [
    {
     "data": {
      "text/plain": [
       "t**3 + 4*t**2 + 5*t + 25"
      ]
     },
     "execution_count": 8,
     "metadata": {},
     "output_type": "execute_result"
    }
   ],
   "source": [
    "f(t)"
   ]
  },
  {
   "cell_type": "code",
   "execution_count": 9,
   "metadata": {},
   "outputs": [
    {
     "data": {
      "text/plain": [
       "x**3 + 4*x**2 + 5*x + 25"
      ]
     },
     "execution_count": 9,
     "metadata": {},
     "output_type": "execute_result"
    }
   ],
   "source": [
    "f(x)"
   ]
  },
  {
   "cell_type": "markdown",
   "metadata": {},
   "source": [
    "## Exercise 2: \n",
    "\n",
    "Create a Python function for the following mathematical expressions then represent each function symbolically:\n",
    "\n",
    "__Part 1__\n",
    "$$\n",
    "F(x)=4x^5-5x^4+2x^3-3x^2+x-1\n",
    "$$"
   ]
  },
  {
   "cell_type": "code",
   "execution_count": null,
   "metadata": {},
   "outputs": [],
   "source": []
  },
  {
   "cell_type": "markdown",
   "metadata": {},
   "source": [
    "__Part 2__\n",
    "$$\n",
    "G(t)=\\sin(4t)+\\cos(6t)\n",
    "$$"
   ]
  },
  {
   "cell_type": "code",
   "execution_count": null,
   "metadata": {},
   "outputs": [],
   "source": []
  },
  {
   "cell_type": "markdown",
   "metadata": {},
   "source": [
    "__Part 3__\n",
    "\n",
    "$$\n",
    "H(y)=\\frac{2y-5}{6y+4}\n",
    "$$"
   ]
  },
  {
   "cell_type": "code",
   "execution_count": null,
   "metadata": {},
   "outputs": [],
   "source": []
  },
  {
   "cell_type": "markdown",
   "metadata": {},
   "source": [
    "__Part 4__\n",
    "\\\\[\n",
    "    R(z)=\\log(4z)+\\frac{4}{z}\n",
    "\\\\]"
   ]
  },
  {
   "cell_type": "code",
   "execution_count": null,
   "metadata": {},
   "outputs": [],
   "source": []
  },
  {
   "cell_type": "markdown",
   "metadata": {},
   "source": [
    "## Symbolic Differentation\n",
    "\n",
    "* Now that we have created a symbolic regpresentation of various functions, we can start to differentiate these functions with respect to the independent variable.\n",
    "\n",
    "* For example to differentiate __f(t)__ as defined in __Example 1__ with respect to **t**  then we use the function __diff(,)__\n",
    "\n",
    "* This function requires at least __2 inputs__:\n",
    "    \n",
    "    1. The first argument is the expresssion we wish to differentiate\n",
    "    2. The second argument is the variable we wish to differentiate with respect to.\n",
    "\n",
    "\n",
    "* In the cell below, we differntiate $f(t)$ w.r.t. (with respect to) __t__"
   ]
  },
  {
   "cell_type": "code",
   "execution_count": 7,
   "metadata": {},
   "outputs": [
    {
     "data": {
      "text/plain": [
       "3*t**2 + 8*t + 5"
      ]
     },
     "execution_count": 7,
     "metadata": {},
     "output_type": "execute_result"
    }
   ],
   "source": [
    "diff(f(t),t)"
   ]
  },
  {
   "cell_type": "markdown",
   "metadata": {},
   "source": [
    "* We can easily change the independent variable from **t  to  x** for example, and this will change the form of the derivative as follows: "
   ]
  },
  {
   "cell_type": "code",
   "execution_count": 8,
   "metadata": {},
   "outputs": [
    {
     "data": {
      "text/plain": [
       "3*x**2 + 8*x + 5"
      ]
     },
     "execution_count": 8,
     "metadata": {},
     "output_type": "execute_result"
    }
   ],
   "source": [
    "diff(f(x),x)"
   ]
  },
  {
   "cell_type": "markdown",
   "metadata": {},
   "source": [
    "### Symbolic display\n",
    "\n",
    "* It would be nicer if the output used matematical notation (superscripts for power, etc) rather than the cruder programming syntax. We turn on rendering with mathematical notation with the following commands:"
   ]
  },
  {
   "cell_type": "code",
   "execution_count": 10,
   "metadata": {},
   "outputs": [],
   "source": [
    "from IPython.display import display\n",
    "sym.init_printing(pretty_print=True)"
   ]
  },
  {
   "cell_type": "markdown",
   "metadata": {},
   "source": [
    "* The symbolic representation of __f(x)__ and its derivative are now displayed as:"
   ]
  },
  {
   "cell_type": "code",
   "execution_count": 11,
   "metadata": {},
   "outputs": [
    {
     "data": {
      "image/png": "[encoded data removed]",
      "text/latex": [
       "$$\\left ( x^{3} + 4 x^{2} + 5 x + 25, \\quad 3 x^{2} + 8 x + 5\\right )$$"
      ],
      "text/plain": [
       "⎛ 3      2                2          ⎞\n",
       "⎝x  + 4⋅x  + 5⋅x + 25, 3⋅x  + 8⋅x + 5⎠"
      ]
     },
     "execution_count": 11,
     "metadata": {},
     "output_type": "execute_result"
    }
   ],
   "source": [
    "f(x), diff(f(x),x)"
   ]
  },
  {
   "cell_type": "markdown",
   "metadata": {},
   "source": [
    "## Exercise 3 \n",
    "\n",
    "* Create a Python function to represent each of the following functions. \n",
    "\n",
    "* Hence represent each function and its derivative symbolically."
   ]
  },
  {
   "cell_type": "markdown",
   "metadata": {},
   "source": [
    "__Part 1__\n",
    "\n",
    "$$\n",
    "q(t)=3t^{4}-6t+4\n",
    "$$"
   ]
  },
  {
   "cell_type": "code",
   "execution_count": null,
   "metadata": {},
   "outputs": [],
   "source": []
  },
  {
   "cell_type": "code",
   "execution_count": null,
   "metadata": {},
   "outputs": [],
   "source": []
  },
  {
   "cell_type": "markdown",
   "metadata": {},
   "source": [
    "__Part 2__\n",
    "\n",
    "$$\n",
    "b(t)=\\sin(t)+\\cos(2t)\n",
    "$$"
   ]
  },
  {
   "cell_type": "code",
   "execution_count": null,
   "metadata": {},
   "outputs": [],
   "source": []
  },
  {
   "cell_type": "code",
   "execution_count": null,
   "metadata": {},
   "outputs": [],
   "source": []
  },
  {
   "cell_type": "markdown",
   "metadata": {},
   "source": [
    "__Part 3__\n",
    "\n",
    "$$\n",
    "W(x)=4x^k+x^{\\frac{1}{k}}      \n",
    "$$\n",
    "\n",
    "_Remark:_ You will need to define a new symbol to represent the index $k$ also."
   ]
  },
  {
   "cell_type": "code",
   "execution_count": null,
   "metadata": {},
   "outputs": [],
   "source": []
  },
  {
   "cell_type": "code",
   "execution_count": null,
   "metadata": {},
   "outputs": [],
   "source": []
  },
  {
   "cell_type": "markdown",
   "metadata": {},
   "source": [
    "## Rules of differentiation\n",
    "\n",
    "* Using the function __Function()__ from the  __sympy__ library, we can also declare to symbol to represent a function.\n",
    "\n",
    "* For example, we will let the symbols **u and v** represent symbolic functions as follows:"
   ]
  },
  {
   "cell_type": "code",
   "execution_count": 12,
   "metadata": {},
   "outputs": [],
   "source": [
    "u = Function('u')    # define the two functions u and v\n",
    "v = Function('v')"
   ]
  },
  {
   "cell_type": "markdown",
   "metadata": {},
   "source": [
    "* We call these as functions of the independent varibles __x and t__ respectively as follows:"
   ]
  },
  {
   "cell_type": "code",
   "execution_count": 13,
   "metadata": {},
   "outputs": [
    {
     "data": {
      "image/png": "[encoded data removed]",
      "text/latex": [
       "$$\\left ( u{\\left (x \\right )}, \\quad v{\\left (t \\right )}\\right )$$"
      ],
      "text/plain": [
       "(u(x), v(t))"
      ]
     },
     "execution_count": 13,
     "metadata": {},
     "output_type": "execute_result"
    }
   ],
   "source": [
    "u(x), v(t)"
   ]
  },
  {
   "cell_type": "markdown",
   "metadata": {},
   "source": [
    "## The product rule\n",
    "\n",
    "* In lectures you will have encountered the product rule for the derivative pf a product of functions:\n",
    "If \n",
    "$$\n",
    "Y(x)=u(x)v(x)\n",
    "$$\n",
    "then the derivative of $Y(x)$ is given by\n",
    "$$\n",
    "\\frac{dY}{dx}=u\\frac{dv}{dx}+v\\frac{du}{dx}.\n",
    "$$\n",
    "\n",
    "* We can confirm this symbolically using the symbolic functions __u and v__ we created in the cell above:"
   ]
  },
  {
   "cell_type": "code",
   "execution_count": 14,
   "metadata": {},
   "outputs": [
    {
     "data": {
      "image/png": "[encoded data removed]",
      "text/latex": [
       "$$u{\\left (x \\right )} \\frac{d}{d x} v{\\left (x \\right )} + v{\\left (x \\right )} \\frac{d}{d x} u{\\left (x \\right )}$$"
      ],
      "text/plain": [
       "     d               d       \n",
       "u(x)⋅──(v(x)) + v(x)⋅──(u(x))\n",
       "     dx              dx      "
      ]
     },
     "execution_count": 14,
     "metadata": {},
     "output_type": "execute_result"
    }
   ],
   "source": [
    "Y=u(x)*v(x)\n",
    "diff(Y,x)"
   ]
  },
  {
   "cell_type": "markdown",
   "metadata": {},
   "source": [
    "## Exercise 4\n",
    "\n",
    "__Part 1__\n",
    "Create symbolic functions to representing $p(t)$ and $q(t)$, and display these."
   ]
  },
  {
   "cell_type": "code",
   "execution_count": null,
   "metadata": {},
   "outputs": [],
   "source": []
  },
  {
   "cell_type": "markdown",
   "metadata": {
    "scrolled": true
   },
   "source": [
    "__Part 2__ \n",
    "\n",
    "Use these symbolic functions to confirm the quotient rule:\n",
    "\n",
    "* If $Q(t)=\\frac{p(t)}{q(t)}$ then the derivative is given by\n",
    "$$\n",
    "\\frac{dQ}{dt}=\\frac{q(t)\\frac{dp(t)}{dt}-p(t)\\frac{dq(t)}{dt}}{q(t)^2}.\n",
    "$$"
   ]
  },
  {
   "cell_type": "code",
   "execution_count": null,
   "metadata": {},
   "outputs": [],
   "source": []
  },
  {
   "cell_type": "markdown",
   "metadata": {},
   "source": [
    "## Plotting a funtion and its symbolic derivative \n",
    "\n",
    "* The height of a particle above the ground is represented as a function of time, given by\n",
    "$$\n",
    "D(t)=3t^3+5t^2-19t+10.\n",
    "$$\n",
    "\n",
    "* Using this answer the following:"
   ]
  },
  {
   "cell_type": "markdown",
   "metadata": {},
   "source": [
    "__Part 1__\n",
    "\n",
    "Create a Python function to represent this height and display it symbolically. Hence evauate the height after 3 seconds, i.e. $D(3)$"
   ]
  },
  {
   "cell_type": "code",
   "execution_count": 12,
   "metadata": {},
   "outputs": [
    {
     "data": {
      "image/png": "[encoded data removed]",
      "text/latex": [
       "$$3 t^{3} + 5 t^{2} - 19 t + 10$$"
      ],
      "text/plain": [
       "   3      2            \n",
       "3⋅t  + 5⋅t  - 19⋅t + 10"
      ]
     },
     "execution_count": 12,
     "metadata": {},
     "output_type": "execute_result"
    }
   ],
   "source": [
    "D=3*t**3+5*t**2-19*t+10\n",
    "D"
   ]
  },
  {
   "cell_type": "markdown",
   "metadata": {},
   "source": [
    "* To evaluaate this function at a  specific value of $t$ we use the function __D.subs(t,3)__\n",
    "\n",
    "* What this means is: In the expression __D__ substitute __t__  with __3__ "
   ]
  },
  {
   "cell_type": "code",
   "execution_count": 13,
   "metadata": {},
   "outputs": [
    {
     "data": {
      "image/png": "[encoded data removed]",
      "text/latex": [
       "$$79$$"
      ],
      "text/plain": [
       "79"
      ]
     },
     "execution_count": 13,
     "metadata": {},
     "output_type": "execute_result"
    }
   ],
   "source": [
    "D.subs(t,3)"
   ]
  },
  {
   "cell_type": "markdown",
   "metadata": {},
   "source": [
    "Hence, after 3 seconds the particle is 79 meters above the ground."
   ]
  },
  {
   "cell_type": "markdown",
   "metadata": {},
   "source": [
    "__Part 2__\n",
    "\n",
    "Find the velocity of the particle $\\frac{dD}{dt}$ as a function of time, and evaluate this velocity at time $t=4$."
   ]
  },
  {
   "cell_type": "code",
   "execution_count": 14,
   "metadata": {},
   "outputs": [
    {
     "data": {
      "image/png": "[encoded data removed]",
      "text/latex": [
       "$$9 t^{2} + 10 t - 19$$"
      ],
      "text/plain": [
       "   2            \n",
       "9⋅t  + 10⋅t - 19"
      ]
     },
     "execution_count": 14,
     "metadata": {},
     "output_type": "execute_result"
    }
   ],
   "source": [
    "V=diff(D,t)\n",
    "V"
   ]
  },
  {
   "cell_type": "markdown",
   "metadata": {},
   "source": [
    "* In this case we have assigned the first-derivative $\\frac{dD}{dt}$ the symbol __V__ (for velocity), and then displayed  it as a function by calling __V__ again.\n",
    "\n",
    "* The valocity at time $t=4$ is then given by using the __subs()__ function, as we did in __Part 1__:"
   ]
  },
  {
   "cell_type": "code",
   "execution_count": 15,
   "metadata": {},
   "outputs": [
    {
     "data": {
      "image/png": "[encoded data removed]",
      "text/latex": [
       "$$165$$"
      ],
      "text/plain": [
       "165"
      ]
     },
     "execution_count": 15,
     "metadata": {},
     "output_type": "execute_result"
    }
   ],
   "source": [
    "V.subs(t,4)"
   ]
  },
  {
   "cell_type": "markdown",
   "metadata": {},
   "source": [
    "Hence the veolcity at time $t=4$ is 165 meters per second."
   ]
  },
  {
   "cell_type": "markdown",
   "metadata": {},
   "source": [
    "__Part 3__ \n",
    "\n",
    "Find the acceleration $\\frac{d^2D}{dt^2}$ of the particle at time $t=5$."
   ]
  },
  {
   "cell_type": "code",
   "execution_count": 16,
   "metadata": {},
   "outputs": [
    {
     "data": {
      "image/png": "[encoded data removed]",
      "text/latex": [
       "$$2 \\left(9 t + 5\\right)$$"
      ],
      "text/plain": [
       "2⋅(9⋅t + 5)"
      ]
     },
     "execution_count": 16,
     "metadata": {},
     "output_type": "execute_result"
    }
   ],
   "source": [
    "A=diff(D,t,2)\n",
    "A"
   ]
  },
  {
   "cell_type": "markdown",
   "metadata": {},
   "source": [
    "* In this case we have included an extra argument in __diff()__ to indicate that we want to differentieate __D__ with respect to __t__, __2__ times.\n",
    "\n",
    "* We have given this second derivative the name __A__ (for acceleration).\n",
    "\n",
    "* We now evaluate this acceleration at time $t=5$ using __subs()__ as ususal:"
   ]
  },
  {
   "cell_type": "code",
   "execution_count": 17,
   "metadata": {},
   "outputs": [
    {
     "data": {
      "image/png": "[encoded data removed]",
      "text/latex": [
       "$$100$$"
      ],
      "text/plain": [
       "100"
      ]
     },
     "execution_count": 17,
     "metadata": {},
     "output_type": "execute_result"
    }
   ],
   "source": [
    "A.subs(t,5)"
   ]
  },
  {
   "cell_type": "markdown",
   "metadata": {},
   "source": [
    "Hence the acceleration at time $t=5$ is 100 meters per second per second. "
   ]
  },
  {
   "cell_type": "markdown",
   "metadata": {},
   "source": [
    "__Part 4__\n",
    "\n",
    "* Plot the height, velocity and acclertation of the particle over the time interval $0\\leq t\\leq 2$ seconds."
   ]
  },
  {
   "cell_type": "code",
   "execution_count": 18,
   "metadata": {},
   "outputs": [
    {
     "data": {
      "image/png": "[encoded data removed]",
      "text/plain": [
       "<matplotlib.figure.Figure at 0x7fb9a31fb358>"
      ]
     },
     "metadata": {},
     "output_type": "display_data"
    }
   ],
   "source": [
    "P1=plot(D,V,A,(t,0,2), show=False)\n",
    "P1.show()"
   ]
  },
  {
   "cell_type": "markdown",
   "metadata": {},
   "source": [
    "* In this cell we have called the plot of the 3 functions __P1__.\n",
    "\n",
    "* We plotted the expressions using the __plot()__ function, with the first three arguments being the functions we wish to plot.\n",
    "\n",
    "* The next argument __(t,0,2)__ indicates the time interval over which we wish to plot the functions.\n",
    "\n",
    "* We us __show=False__ to surpress the automatic display of the plot, becuase in the following cell we want to modify the plot before it is displayed."
   ]
  },
  {
   "cell_type": "markdown",
   "metadata": {},
   "source": [
    "### Modifying the plot\n",
    "\n",
    "* In the plot above it is difficult to discern which curve represents which function.\n",
    "\n",
    "\n",
    "* We can modify this so that each function is assigned a different color when plotted:"
   ]
  },
  {
   "cell_type": "code",
   "execution_count": 19,
   "metadata": {},
   "outputs": [
    {
     "data": {
      "image/png": "[encoded data removed]",
      "text/plain": [
       "<matplotlib.figure.Figure at 0x7fb9a11522b0>"
      ]
     },
     "metadata": {},
     "output_type": "display_data"
    }
   ],
   "source": [
    "P1=plot(D,V,A,(t,0,2), show=False)\n",
    "P1[0].line_color = 'steelblue'\n",
    "P1[1].line_color = 'red'\n",
    "P1[2].line_color = 'darkgreen'\n",
    "P1.show()"
   ]
  },
  {
   "cell_type": "markdown",
   "metadata": {},
   "source": [
    "* The command line __P1[0].line_color='cornflowerblue'__ means in the the plot __P1__ the _first curve (counted as 0)_ should be plotted with linecolor __cornflowerblue__.\n",
    "\n",
    "* The second (__P1[1]__) and third (__P1[2]__) curves in plot __P1__ are colored __darkslategray__ and __sienna__ respectively.\n",
    "\n",
    "* This is why we include the __show=False__ argument in the intial plot function, because we want to implement these line color changes before showing the plot."
   ]
  },
  {
   "cell_type": "markdown",
   "metadata": {},
   "source": [
    "## Exercise 4"
   ]
  },
  {
   "cell_type": "markdown",
   "metadata": {},
   "source": [
    "A stone is thrown vertically upward with an initial velocity of 25 m/sec from the top of a 30m building. The formula for the position of the stone $t$ seconds after it is thrown, is given by\n",
    "$$\n",
    "s(t)=30+25t-4.9t^2 \n",
    "$$\n",
    "\n",
    "Using this, answer the following:"
   ]
  },
  {
   "cell_type": "markdown",
   "metadata": {
    "collapsed": true
   },
   "source": [
    "__Part 1__ \n",
    "\n",
    "* Construct a symbolic function representing the position of the stone as a funciton of __t__. \n",
    "\n",
    "* Ensure your function is correct by evaluating this function at time __t=0__.\n",
    "\n",
    "* Hence evaluate the height at time __t=3__.\n",
    "\n"
   ]
  },
  {
   "cell_type": "code",
   "execution_count": null,
   "metadata": {},
   "outputs": [],
   "source": []
  },
  {
   "cell_type": "code",
   "execution_count": null,
   "metadata": {},
   "outputs": [],
   "source": []
  },
  {
   "cell_type": "code",
   "execution_count": null,
   "metadata": {},
   "outputs": [],
   "source": []
  },
  {
   "cell_type": "markdown",
   "metadata": {
    "collapsed": true
   },
   "source": [
    "__Part 2__ \n",
    "\n",
    "* Use __diff()__ to find represent the velocity  $\\frac{ds}{ds}$ as a function of __t__.\n",
    "\n",
    "* Ensure this is correct by evaluating the velocity at time __t=0__.\n",
    "\n",
    "* Hence evaluate the velocity at time __t=4__."
   ]
  },
  {
   "cell_type": "code",
   "execution_count": null,
   "metadata": {},
   "outputs": [],
   "source": []
  },
  {
   "cell_type": "code",
   "execution_count": null,
   "metadata": {},
   "outputs": [],
   "source": []
  },
  {
   "cell_type": "code",
   "execution_count": null,
   "metadata": {},
   "outputs": [],
   "source": []
  },
  {
   "cell_type": "markdown",
   "metadata": {
    "collapsed": true
   },
   "source": [
    "__Part 3__\n",
    "\n",
    "* Find the accleration of the stone $\\frac{d^2s}{dt^2}$.\n",
    "\n",
    "* Hence,  __plot__ the position, velocity and acceleration of the stone over the time interval $0\\leq t \\leq 3$.\n",
    "\n",
    "Use a different color to represent each of the curves in the plot. \n",
    "\n",
    "A list of Python colours is available at https://matplotlib.org/examples/color/named_colors.html)"
   ]
  },
  {
   "cell_type": "code",
   "execution_count": null,
   "metadata": {},
   "outputs": [],
   "source": []
  },
  {
   "cell_type": "code",
   "execution_count": null,
   "metadata": {},
   "outputs": [],
   "source": []
  },
  {
   "cell_type": "markdown",
   "metadata": {},
   "source": [
    "### SImplify\n",
    "\n",
    "* Sometimes when Python returns the result of an operation it can be an akward expression.\n",
    "\n",
    "\n",
    "* However, in *some* cases, these expressions can be tidied using the function __simplify()__"
   ]
  },
  {
   "cell_type": "markdown",
   "metadata": {},
   "source": [
    "## Example 5\n",
    "\n",
    "* A capacitor of capacitance $C$ is placed in a circuit with a resistor of resistance $R$ and a source of voltage $E$.\n",
    "\n",
    "\n",
    "* The charge on the capacitor $q(t)$ is given by:\n",
    "\n",
    "$$\n",
    "    q(t) = CE\\left(1−\\exp\\left(-\\frac{t}{RC}\\right)\\right)\n",
    "$$\n",
    "\n",
    "Using this, answer the following:"
   ]
  },
  {
   "cell_type": "markdown",
   "metadata": {},
   "source": [
    "__Part 1__ \n",
    "\n",
    "Create symbols to represent the voltage __E__, the capacitance __C__ and the resistance __R__."
   ]
  },
  {
   "cell_type": "code",
   "execution_count": 43,
   "metadata": {},
   "outputs": [
    {
     "data": {
      "image/png": "[encoded data removed]",
      "text/latex": [
       "$$\\left ( E, \\quad C, \\quad R\\right )$$"
      ],
      "text/plain": [
       "(E, C, R)"
      ]
     },
     "execution_count": 43,
     "metadata": {},
     "output_type": "execute_result"
    }
   ],
   "source": [
    "E,C,R=symbols('E C R',real=True)\n",
    "E,C,R"
   ]
  },
  {
   "cell_type": "markdown",
   "metadata": {},
   "source": [
    "__Part 2__\n",
    "\n",
    "Create an expression to represent the charge __q__."
   ]
  },
  {
   "cell_type": "code",
   "execution_count": 44,
   "metadata": {},
   "outputs": [
    {
     "data": {
      "image/png": "[encoded data removed]",
      "text/latex": [
       "$$C E \\left(1 - e^{- \\frac{t}{C R}}\\right)$$"
      ],
      "text/plain": [
       "    ⎛     -t ⎞\n",
       "    ⎜     ───⎟\n",
       "    ⎜     C⋅R⎟\n",
       "C⋅E⋅⎝1 - ℯ   ⎠"
      ]
     },
     "execution_count": 44,
     "metadata": {},
     "output_type": "execute_result"
    }
   ],
   "source": [
    "q=C*E*(1-exp(-t/(R*C)))\n",
    "q"
   ]
  },
  {
   "cell_type": "markdown",
   "metadata": {},
   "source": [
    "__Part 3__ \n",
    "\n",
    "Use __diff()__ to find $\\frac{dq}{dt}$."
   ]
  },
  {
   "cell_type": "code",
   "execution_count": 45,
   "metadata": {},
   "outputs": [
    {
     "data": {
      "image/png": "[encoded data removed]",
      "text/latex": [
       "$$\\frac{E}{R} e^{- \\frac{t}{C R}}$$"
      ],
      "text/plain": [
       "   -t \n",
       "   ───\n",
       "   C⋅R\n",
       "E⋅ℯ   \n",
       "──────\n",
       "  R   "
      ]
     },
     "execution_count": 45,
     "metadata": {},
     "output_type": "execute_result"
    }
   ],
   "source": [
    "dq=diff(q,t)\n",
    "dq"
   ]
  },
  {
   "cell_type": "markdown",
   "metadata": {},
   "source": [
    "__Part 4__\n",
    "\n",
    "Hence confirm that the charge __q__ satisfies the following differential equation:\n",
    "\\\\[\n",
    "R\\frac{dq}{dt} +\\frac{q}{C}=E,\n",
    "\\\\]\n",
    "\n",
    "i.e. evalaute the __left-hand side__ and ensure it returns __E__."
   ]
  },
  {
   "cell_type": "code",
   "execution_count": 46,
   "metadata": {},
   "outputs": [
    {
     "data": {
      "image/png": "[encoded data removed]",
      "text/latex": [
       "$$E \\left(1 - e^{- \\frac{t}{C R}}\\right) + E e^{- \\frac{t}{C R}}$$"
      ],
      "text/plain": [
       "  ⎛     -t ⎞      -t \n",
       "  ⎜     ───⎟      ───\n",
       "  ⎜     C⋅R⎟      C⋅R\n",
       "E⋅⎝1 - ℯ   ⎠ + E⋅ℯ   "
      ]
     },
     "execution_count": 46,
     "metadata": {},
     "output_type": "execute_result"
    }
   ],
   "source": [
    "R*dq+q/C"
   ]
  },
  {
   "cell_type": "markdown",
   "metadata": {},
   "source": [
    "* In this case we see that our differential equation does not return the right-hand side we expect, i.e. __E__.\n",
    "\n",
    "\n",
    "* However, using the __simplify()__ function, we see that what we get above does actually agree with what we expect:"
   ]
  },
  {
   "cell_type": "code",
   "execution_count": 33,
   "metadata": {},
   "outputs": [
    {
     "data": {
      "image/png": "[encoded data removed]",
      "text/latex": [
       "$$E$$"
      ],
      "text/plain": [
       "E"
      ]
     },
     "execution_count": 33,
     "metadata": {},
     "output_type": "execute_result"
    }
   ],
   "source": [
    "simplify(R*dq+q/C)"
   ]
  },
  {
   "cell_type": "markdown",
   "metadata": {},
   "source": [
    "## Exercise 5\n",
    "\n",
    "* An inductor of inductance $L$ is placed in a circuit with a resistor of resistance $R$ and a source of voltage $E$.\n",
    "\n",
    "\n",
    "* The current in the circuit $i(t)$ is given by:\n",
    "\n",
    "$$\n",
    "    i(t) = \\frac{E}{R}\\left(1-\\exp\\left(-\\frac{Rt}{L}\\right)\\right)\n",
    "$$\n",
    "Using this, answer the following:"
   ]
  },
  {
   "cell_type": "markdown",
   "metadata": {},
   "source": [
    "__Part 1__ \n",
    "\n",
    "Create a new symbol to represent __L__."
   ]
  },
  {
   "cell_type": "code",
   "execution_count": null,
   "metadata": {},
   "outputs": [],
   "source": []
  },
  {
   "cell_type": "markdown",
   "metadata": {},
   "source": [
    "__Part 2__\n",
    "\n",
    "Instruct Python to interpret __i__ as a function."
   ]
  },
  {
   "cell_type": "code",
   "execution_count": null,
   "metadata": {},
   "outputs": [],
   "source": []
  },
  {
   "cell_type": "markdown",
   "metadata": {},
   "source": [
    "__Part 3__ \n",
    "\n",
    "Use __diff()__ to find $\\frac{di}{dt}$."
   ]
  },
  {
   "cell_type": "code",
   "execution_count": null,
   "metadata": {},
   "outputs": [],
   "source": []
  },
  {
   "cell_type": "markdown",
   "metadata": {},
   "source": [
    "__Part 4__\n",
    "\n",
    "Hence confirm that the charge __q__ satisfies the following differential equation:\n",
    "\\\\[\n",
    "L\\frac{di}{dt} +Ri=E,\n",
    "\\\\]\n",
    "\n",
    "i.e. evalaute the __left-hand side__ and ensure it returns __E__."
   ]
  },
  {
   "cell_type": "code",
   "execution_count": null,
   "metadata": {},
   "outputs": [],
   "source": []
  }
 ],
 "metadata": {
  "kernelspec": {
   "display_name": "Python 3",
   "language": "python",
   "name": "python3"
  },
  "language_info": {
   "codemirror_mode": {
    "name": "ipython",
    "version": 3
   },
   "file_extension": ".py",
   "mimetype": "text/x-python",
   "name": "python",
   "nbconvert_exporter": "python",
   "pygments_lexer": "ipython3",
   "version": "3.8.3"
  }
 },
 "nbformat": 4,
 "nbformat_minor": 1
}
