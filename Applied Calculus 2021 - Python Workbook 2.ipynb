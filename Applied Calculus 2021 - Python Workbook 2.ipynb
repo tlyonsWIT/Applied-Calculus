{
  "nbformat": 4,
  "nbformat_minor": 0,
  "metadata": {
    "kernelspec": {
      "display_name": "Python 3",
      "language": "python",
      "name": "python3"
    },
    "language_info": {
      "codemirror_mode": {
        "name": "ipython",
        "version": 3
      },
      "file_extension": ".py",
      "mimetype": "text/x-python",
      "name": "python",
      "nbconvert_exporter": "python",
      "pygments_lexer": "ipython3",
      "version": "3.8.3"
    },
    "colab": {
      "name": "Applied Calculus 2021 - Python Workbook 2.ipynb",
      "provenance": []
    }
  },
  "cells": [
    {
      "cell_type": "markdown",
      "metadata": {
        "id": "-JUxolDI5KQa"
      },
      "source": [
        "# IMPORTANT:\n",
        "\n",
        "* If uploading this workbook from Google Colab, you should save a copy in your own Google drive and work on that copy before answering any exercises. Otherwise any changes you make may not be saved to the workbook."
      ]
    },
    {
      "cell_type": "markdown",
      "metadata": {
        "id": "fEO9D8FL2_TJ"
      },
      "source": [
        "### Name:\n",
        "### Student Number:"
      ]
    },
    {
      "cell_type": "code",
      "metadata": {
        "id": "8StfKvNF2_TR"
      },
      "source": [
        "import matplotlib.pyplot as plt\n",
        "import numpy as np"
      ],
      "execution_count": 1,
      "outputs": []
    },
    {
      "cell_type": "markdown",
      "metadata": {
        "id": "mvXed2fU2_TT"
      },
      "source": [
        "# Python Workbook 2 - Grpahs and Asymptotes\n",
        "\n",
        "In this Python workbook we will examine functions which have vertical and horizontal asymptotes. \n",
        "\n",
        "\n",
        "\n",
        "\n",
        "\n",
        "\n",
        "\n",
        "\n",
        "#### Vertical Asymptotes\n",
        "\n",
        "A vertical asymptote occurs in rational functions of the form\n",
        "$$\n",
        " f(x)=\\frac{ax-b}{cx-d}\n",
        "$$\n",
        "at $x=\\frac{d}{c}$. This is because, when $x=\\frac{d}{c}$, the function becomes\n",
        "$$\n",
        " f(b)=\\frac{\\frac{d}{c}-a}{c\\frac{d}{c}-d}=\\frac{d-ca}{cd-cd}=\\frac{d-ca}{0},\n",
        "$$\n",
        "which results in __division by zero__."
      ]
    },
    {
      "cell_type": "markdown",
      "metadata": {
        "id": "uwAveNpo2_TT"
      },
      "source": [
        "### Example 1\n",
        "\n",
        "__Part 1__ Create a Python function to represent the rational function\n",
        "$$\n",
        "f(x)=\\frac{x-3}{2x-5}.\n",
        "$$\n",
        "\n",
        "\n",
        "__Part 2__ Determine where the above function has a singulairty.\n",
        "\n",
        "\n",
        "__Part 3__ Confirm that this point is a singulairty by tring to evaluate the Python function at that point."
      ]
    },
    {
      "cell_type": "markdown",
      "metadata": {
        "id": "APEzqnA-2_TU"
      },
      "source": [
        "#### Solution - Part 1"
      ]
    },
    {
      "cell_type": "code",
      "metadata": {
        "id": "FMZNMcyo2_TV"
      },
      "source": [
        "def f(x):\n",
        "    return (x-3)/(2*x-5)"
      ],
      "execution_count": 9,
      "outputs": []
    },
    {
      "cell_type": "markdown",
      "metadata": {
        "id": "4sscuzmh2_TW"
      },
      "source": [
        "#### Solution - Part 2\n",
        "\n",
        "* The function has a singularity whenever the denominator (bottom) becomes zero.\n",
        "\n",
        "* To find this singularity, we just set the bottom equal to zero and solve for $x$:\n",
        "\n",
        "$$\n",
        "2x-5 = 0 \\Rightarrow 2x=5 \\Rightarrow x=\\frac{5}{2}=2.5\n",
        "$$\n",
        "\n",
        "* When $x=\\frac{5}{2}=2.5$, this function will return an error, because the function will try to divide by zero, which it is unable to perform (see cell below)."
      ]
    },
    {
      "cell_type": "markdown",
      "metadata": {
        "id": "TFhIatUc2_TW"
      },
      "source": [
        "#### Solution - Part 3"
      ]
    },
    {
      "cell_type": "code",
      "metadata": {
        "colab": {
          "base_uri": "https://localhost:8080/",
          "height": 248
        },
        "id": "Kj0QEA7T2_TX",
        "outputId": "75d7adaf-3208-4d9c-8ad8-43b362ac3fe1"
      },
      "source": [
        "f(5.0/2.0)"
      ],
      "execution_count": 10,
      "outputs": [
        {
          "output_type": "error",
          "ename": "ZeroDivisionError",
          "evalue": "ignored",
          "traceback": [
            "\u001b[0;31m---------------------------------------------------------------------------\u001b[0m",
            "\u001b[0;31mZeroDivisionError\u001b[0m                         Traceback (most recent call last)",
            "\u001b[0;32m<ipython-input-10-212922af2a4c>\u001b[0m in \u001b[0;36m<module>\u001b[0;34m()\u001b[0m\n\u001b[0;32m----> 1\u001b[0;31m \u001b[0mf\u001b[0m\u001b[0;34m(\u001b[0m\u001b[0;36m5.0\u001b[0m\u001b[0;34m/\u001b[0m\u001b[0;36m2.0\u001b[0m\u001b[0;34m)\u001b[0m\u001b[0;34m\u001b[0m\u001b[0;34m\u001b[0m\u001b[0m\n\u001b[0m",
            "\u001b[0;32m<ipython-input-9-564e7b5a747c>\u001b[0m in \u001b[0;36mf\u001b[0;34m(x)\u001b[0m\n\u001b[1;32m      1\u001b[0m \u001b[0;32mdef\u001b[0m \u001b[0mf\u001b[0m\u001b[0;34m(\u001b[0m\u001b[0mx\u001b[0m\u001b[0;34m)\u001b[0m\u001b[0;34m:\u001b[0m\u001b[0;34m\u001b[0m\u001b[0;34m\u001b[0m\u001b[0m\n\u001b[0;32m----> 2\u001b[0;31m     \u001b[0;32mreturn\u001b[0m \u001b[0;34m(\u001b[0m\u001b[0mx\u001b[0m\u001b[0;34m-\u001b[0m\u001b[0;36m3\u001b[0m\u001b[0;34m)\u001b[0m\u001b[0;34m/\u001b[0m\u001b[0;34m(\u001b[0m\u001b[0;36m2\u001b[0m\u001b[0;34m*\u001b[0m\u001b[0mx\u001b[0m\u001b[0;34m-\u001b[0m\u001b[0;36m5\u001b[0m\u001b[0;34m)\u001b[0m\u001b[0;34m\u001b[0m\u001b[0;34m\u001b[0m\u001b[0m\n\u001b[0m",
            "\u001b[0;31mZeroDivisionError\u001b[0m: float division by zero"
          ]
        }
      ]
    },
    {
      "cell_type": "code",
      "metadata": {
        "colab": {
          "base_uri": "https://localhost:8080/",
          "height": 248
        },
        "id": "waL2AMFW67rl",
        "outputId": "00bc40e7-3bb0-4d9a-abb4-63e8967f5b0e"
      },
      "source": [
        "f(2.5)"
      ],
      "execution_count": 11,
      "outputs": [
        {
          "output_type": "error",
          "ename": "ZeroDivisionError",
          "evalue": "ignored",
          "traceback": [
            "\u001b[0;31m---------------------------------------------------------------------------\u001b[0m",
            "\u001b[0;31mZeroDivisionError\u001b[0m                         Traceback (most recent call last)",
            "\u001b[0;32m<ipython-input-11-b9a16f6b5091>\u001b[0m in \u001b[0;36m<module>\u001b[0;34m()\u001b[0m\n\u001b[0;32m----> 1\u001b[0;31m \u001b[0mf\u001b[0m\u001b[0;34m(\u001b[0m\u001b[0;36m2.5\u001b[0m\u001b[0;34m)\u001b[0m\u001b[0;34m\u001b[0m\u001b[0;34m\u001b[0m\u001b[0m\n\u001b[0m",
            "\u001b[0;32m<ipython-input-9-564e7b5a747c>\u001b[0m in \u001b[0;36mf\u001b[0;34m(x)\u001b[0m\n\u001b[1;32m      1\u001b[0m \u001b[0;32mdef\u001b[0m \u001b[0mf\u001b[0m\u001b[0;34m(\u001b[0m\u001b[0mx\u001b[0m\u001b[0;34m)\u001b[0m\u001b[0;34m:\u001b[0m\u001b[0;34m\u001b[0m\u001b[0;34m\u001b[0m\u001b[0m\n\u001b[0;32m----> 2\u001b[0;31m     \u001b[0;32mreturn\u001b[0m \u001b[0;34m(\u001b[0m\u001b[0mx\u001b[0m\u001b[0;34m-\u001b[0m\u001b[0;36m3\u001b[0m\u001b[0;34m)\u001b[0m\u001b[0;34m/\u001b[0m\u001b[0;34m(\u001b[0m\u001b[0;36m2\u001b[0m\u001b[0;34m*\u001b[0m\u001b[0mx\u001b[0m\u001b[0;34m-\u001b[0m\u001b[0;36m5\u001b[0m\u001b[0;34m)\u001b[0m\u001b[0;34m\u001b[0m\u001b[0;34m\u001b[0m\u001b[0m\n\u001b[0m",
            "\u001b[0;31mZeroDivisionError\u001b[0m: float division by zero"
          ]
        }
      ]
    },
    {
      "cell_type": "markdown",
      "metadata": {
        "id": "YXt1DAGb2_TZ"
      },
      "source": [
        "* We see that trying to evaluate __f__ at 5/2 returns an error indicating Python is trying to __divide by zero__.\n",
        "\n",
        "* __NOTE:__ This is supposed to happen, it indicates the function is defined correctly."
      ]
    },
    {
      "cell_type": "markdown",
      "metadata": {
        "id": "X_j0fSG72_Ta"
      },
      "source": [
        "## Exercise 1: \n",
        "__Part 1__\n",
        "Create a Python function to represent the matmatical function\n",
        "$$\n",
        " g(x)=\\frac{x+4}{5x-6}\n",
        "$$"
      ]
    },
    {
      "cell_type": "code",
      "metadata": {
        "id": "0zuPKhMJ2_Tb"
      },
      "source": [
        ""
      ],
      "execution_count": 11,
      "outputs": []
    },
    {
      "cell_type": "markdown",
      "metadata": {
        "id": "2QK5xSZN2_Tc"
      },
      "source": [
        "__Part 2__ At what value of $x$ do you expect $g(x)$ to become undefined?\n",
        "\n",
        "__Answer:__ "
      ]
    },
    {
      "cell_type": "markdown",
      "metadata": {
        "id": "YUNOuNdq2_Tc"
      },
      "source": [
        "__Part 3__ Use the Python function you defined in __Part 1__ to evaluate the function at the value of $x$ in __Part 2__. "
      ]
    },
    {
      "cell_type": "code",
      "metadata": {
        "id": "9ztE_rLj2_Td"
      },
      "source": [
        ""
      ],
      "execution_count": 11,
      "outputs": []
    },
    {
      "cell_type": "markdown",
      "metadata": {
        "id": "YbT6-6DC2_Td"
      },
      "source": [
        "## Singularities and vertical asymptotes\n",
        "\n",
        "* The value of $x$ where the denominator of $f(x)$ becomes _zero_ is called a __singularity__ of $f(x)$.  \n",
        "\n",
        "\n",
        "* If we plot the graph of $f(x)$, it will result in a vertical line at this value of $x$, called a __vertical asymptote__.\n",
        "\n",
        "\n",
        "* However, if we try to plot $f(x)$, using the __plot()__ function, over an interval which contains this singularity, it will result in an error, since __numpy__ is not able to evaluate this fuction at the singulairty."
      ]
    },
    {
      "cell_type": "markdown",
      "metadata": {
        "id": "2f0383gv2_Te"
      },
      "source": [
        "## Example 2\n",
        "\n",
        "Use the __plot()__ function to plot \n",
        "$$\n",
        " h(x)=\\frac{x+5}{x-4},\n",
        "$$\n",
        "over the interval $0\\leq x<8$."
      ]
    },
    {
      "cell_type": "markdown",
      "metadata": {
        "id": "H7t9IvB12_Tf"
      },
      "source": [
        "###  Wrong Solution\n",
        "\n",
        "* This function will have a singularity at $4$, because when $x=4$ the denominator becomes _zero_. \n",
        "\n",
        "\n",
        "* If we try to plot this in the usual way, we first create the interval using the __linspace()__ function we saw in Workbook 1. \n",
        "\n",
        "\n",
        "* As a first step, we create a Python function to represent this mathematical function in the usual way."
      ]
    },
    {
      "cell_type": "code",
      "metadata": {
        "id": "WZGAKNYF2_Tf"
      },
      "source": [
        "def h(x):\n",
        "    return (x+5.0)/(x-4.0)"
      ],
      "execution_count": 41,
      "outputs": []
    },
    {
      "cell_type": "markdown",
      "metadata": {
        "id": "i19vS1r62_Tf"
      },
      "source": [
        "* Next we create the plotting domain using the function __linspace()__ function, as follows:"
      ]
    },
    {
      "cell_type": "code",
      "metadata": {
        "colab": {
          "base_uri": "https://localhost:8080/"
        },
        "id": "lfm8ymbP2_Tf",
        "outputId": "467e5952-6f15-484d-b75f-1d1c2b98a48e"
      },
      "source": [
        "X=np.linspace(0,8,501)\n",
        "X"
      ],
      "execution_count": 42,
      "outputs": [
        {
          "output_type": "execute_result",
          "data": {
            "text/plain": [
              "array([0.   , 0.016, 0.032, 0.048, 0.064, 0.08 , 0.096, 0.112, 0.128,\n",
              "       0.144, 0.16 , 0.176, 0.192, 0.208, 0.224, 0.24 , 0.256, 0.272,\n",
              "       0.288, 0.304, 0.32 , 0.336, 0.352, 0.368, 0.384, 0.4  , 0.416,\n",
              "       0.432, 0.448, 0.464, 0.48 , 0.496, 0.512, 0.528, 0.544, 0.56 ,\n",
              "       0.576, 0.592, 0.608, 0.624, 0.64 , 0.656, 0.672, 0.688, 0.704,\n",
              "       0.72 , 0.736, 0.752, 0.768, 0.784, 0.8  , 0.816, 0.832, 0.848,\n",
              "       0.864, 0.88 , 0.896, 0.912, 0.928, 0.944, 0.96 , 0.976, 0.992,\n",
              "       1.008, 1.024, 1.04 , 1.056, 1.072, 1.088, 1.104, 1.12 , 1.136,\n",
              "       1.152, 1.168, 1.184, 1.2  , 1.216, 1.232, 1.248, 1.264, 1.28 ,\n",
              "       1.296, 1.312, 1.328, 1.344, 1.36 , 1.376, 1.392, 1.408, 1.424,\n",
              "       1.44 , 1.456, 1.472, 1.488, 1.504, 1.52 , 1.536, 1.552, 1.568,\n",
              "       1.584, 1.6  , 1.616, 1.632, 1.648, 1.664, 1.68 , 1.696, 1.712,\n",
              "       1.728, 1.744, 1.76 , 1.776, 1.792, 1.808, 1.824, 1.84 , 1.856,\n",
              "       1.872, 1.888, 1.904, 1.92 , 1.936, 1.952, 1.968, 1.984, 2.   ,\n",
              "       2.016, 2.032, 2.048, 2.064, 2.08 , 2.096, 2.112, 2.128, 2.144,\n",
              "       2.16 , 2.176, 2.192, 2.208, 2.224, 2.24 , 2.256, 2.272, 2.288,\n",
              "       2.304, 2.32 , 2.336, 2.352, 2.368, 2.384, 2.4  , 2.416, 2.432,\n",
              "       2.448, 2.464, 2.48 , 2.496, 2.512, 2.528, 2.544, 2.56 , 2.576,\n",
              "       2.592, 2.608, 2.624, 2.64 , 2.656, 2.672, 2.688, 2.704, 2.72 ,\n",
              "       2.736, 2.752, 2.768, 2.784, 2.8  , 2.816, 2.832, 2.848, 2.864,\n",
              "       2.88 , 2.896, 2.912, 2.928, 2.944, 2.96 , 2.976, 2.992, 3.008,\n",
              "       3.024, 3.04 , 3.056, 3.072, 3.088, 3.104, 3.12 , 3.136, 3.152,\n",
              "       3.168, 3.184, 3.2  , 3.216, 3.232, 3.248, 3.264, 3.28 , 3.296,\n",
              "       3.312, 3.328, 3.344, 3.36 , 3.376, 3.392, 3.408, 3.424, 3.44 ,\n",
              "       3.456, 3.472, 3.488, 3.504, 3.52 , 3.536, 3.552, 3.568, 3.584,\n",
              "       3.6  , 3.616, 3.632, 3.648, 3.664, 3.68 , 3.696, 3.712, 3.728,\n",
              "       3.744, 3.76 , 3.776, 3.792, 3.808, 3.824, 3.84 , 3.856, 3.872,\n",
              "       3.888, 3.904, 3.92 , 3.936, 3.952, 3.968, 3.984, 4.   , 4.016,\n",
              "       4.032, 4.048, 4.064, 4.08 , 4.096, 4.112, 4.128, 4.144, 4.16 ,\n",
              "       4.176, 4.192, 4.208, 4.224, 4.24 , 4.256, 4.272, 4.288, 4.304,\n",
              "       4.32 , 4.336, 4.352, 4.368, 4.384, 4.4  , 4.416, 4.432, 4.448,\n",
              "       4.464, 4.48 , 4.496, 4.512, 4.528, 4.544, 4.56 , 4.576, 4.592,\n",
              "       4.608, 4.624, 4.64 , 4.656, 4.672, 4.688, 4.704, 4.72 , 4.736,\n",
              "       4.752, 4.768, 4.784, 4.8  , 4.816, 4.832, 4.848, 4.864, 4.88 ,\n",
              "       4.896, 4.912, 4.928, 4.944, 4.96 , 4.976, 4.992, 5.008, 5.024,\n",
              "       5.04 , 5.056, 5.072, 5.088, 5.104, 5.12 , 5.136, 5.152, 5.168,\n",
              "       5.184, 5.2  , 5.216, 5.232, 5.248, 5.264, 5.28 , 5.296, 5.312,\n",
              "       5.328, 5.344, 5.36 , 5.376, 5.392, 5.408, 5.424, 5.44 , 5.456,\n",
              "       5.472, 5.488, 5.504, 5.52 , 5.536, 5.552, 5.568, 5.584, 5.6  ,\n",
              "       5.616, 5.632, 5.648, 5.664, 5.68 , 5.696, 5.712, 5.728, 5.744,\n",
              "       5.76 , 5.776, 5.792, 5.808, 5.824, 5.84 , 5.856, 5.872, 5.888,\n",
              "       5.904, 5.92 , 5.936, 5.952, 5.968, 5.984, 6.   , 6.016, 6.032,\n",
              "       6.048, 6.064, 6.08 , 6.096, 6.112, 6.128, 6.144, 6.16 , 6.176,\n",
              "       6.192, 6.208, 6.224, 6.24 , 6.256, 6.272, 6.288, 6.304, 6.32 ,\n",
              "       6.336, 6.352, 6.368, 6.384, 6.4  , 6.416, 6.432, 6.448, 6.464,\n",
              "       6.48 , 6.496, 6.512, 6.528, 6.544, 6.56 , 6.576, 6.592, 6.608,\n",
              "       6.624, 6.64 , 6.656, 6.672, 6.688, 6.704, 6.72 , 6.736, 6.752,\n",
              "       6.768, 6.784, 6.8  , 6.816, 6.832, 6.848, 6.864, 6.88 , 6.896,\n",
              "       6.912, 6.928, 6.944, 6.96 , 6.976, 6.992, 7.008, 7.024, 7.04 ,\n",
              "       7.056, 7.072, 7.088, 7.104, 7.12 , 7.136, 7.152, 7.168, 7.184,\n",
              "       7.2  , 7.216, 7.232, 7.248, 7.264, 7.28 , 7.296, 7.312, 7.328,\n",
              "       7.344, 7.36 , 7.376, 7.392, 7.408, 7.424, 7.44 , 7.456, 7.472,\n",
              "       7.488, 7.504, 7.52 , 7.536, 7.552, 7.568, 7.584, 7.6  , 7.616,\n",
              "       7.632, 7.648, 7.664, 7.68 , 7.696, 7.712, 7.728, 7.744, 7.76 ,\n",
              "       7.776, 7.792, 7.808, 7.824, 7.84 , 7.856, 7.872, 7.888, 7.904,\n",
              "       7.92 , 7.936, 7.952, 7.968, 7.984, 8.   ])"
            ]
          },
          "metadata": {
            "tags": []
          },
          "execution_count": 42
        }
      ]
    },
    {
      "cell_type": "markdown",
      "metadata": {
        "id": "QJp2l1wu2_Tg"
      },
      "source": [
        "This interval contains the singualirty $x=4$, and so when we try to plot it using the function __plt.plot()__, we will get an error (see code cell below)."
      ]
    },
    {
      "cell_type": "code",
      "metadata": {
        "colab": {
          "base_uri": "https://localhost:8080/",
          "height": 303
        },
        "id": "C9Z-N0gi2_Tg",
        "outputId": "3b2c98e5-0584-407d-d547-738ed15ad58b"
      },
      "source": [
        "plt.plot(X,h(X)) \n",
        "plt.show()"
      ],
      "execution_count": 14,
      "outputs": [
        {
          "output_type": "stream",
          "text": [
            "/usr/local/lib/python3.6/dist-packages/ipykernel_launcher.py:2: RuntimeWarning: divide by zero encountered in true_divide\n",
            "  \n"
          ],
          "name": "stderr"
        },
        {
          "output_type": "display_data",
          "data": {
            "image/png": "[encoded data removed]",
            "text/plain": [
              "<Figure size 432x288 with 1 Axes>"
            ]
          },
          "metadata": {
            "tags": [],
            "needs_background": "light"
          }
        }
      ]
    },
    {
      "cell_type": "markdown",
      "metadata": {
        "id": "cbQMZbX02_Tg"
      },
      "source": [
        "* While we do get a plot, we also get a __RuntimeWarning__, as seen above."
      ]
    },
    {
      "cell_type": "markdown",
      "metadata": {
        "id": "udJ3-aCB2_Th"
      },
      "source": [
        "###   Correct Solution \n",
        "* The problem with the plot above is the way we created the domain __X__. \n",
        "\n",
        "* If we want to plot __h__, then we must create a domain __X__ which __excludes $x=4$__.\n",
        "\n",
        "* We do this using the __numpy__ function __where__ as folllows:"
      ]
    },
    {
      "cell_type": "code",
      "metadata": {
        "colab": {
          "base_uri": "https://localhost:8080/"
        },
        "id": "-nsPKHOr2_Th",
        "outputId": "0f7564c9-c447-4568-8555-8c0eebe87484"
      },
      "source": [
        "np.where(X!=4)"
      ],
      "execution_count": 43,
      "outputs": [
        {
          "output_type": "execute_result",
          "data": {
            "text/plain": [
              "(array([  0,   1,   2,   3,   4,   5,   6,   7,   8,   9,  10,  11,  12,\n",
              "         13,  14,  15,  16,  17,  18,  19,  20,  21,  22,  23,  24,  25,\n",
              "         26,  27,  28,  29,  30,  31,  32,  33,  34,  35,  36,  37,  38,\n",
              "         39,  40,  41,  42,  43,  44,  45,  46,  47,  48,  49,  50,  51,\n",
              "         52,  53,  54,  55,  56,  57,  58,  59,  60,  61,  62,  63,  64,\n",
              "         65,  66,  67,  68,  69,  70,  71,  72,  73,  74,  75,  76,  77,\n",
              "         78,  79,  80,  81,  82,  83,  84,  85,  86,  87,  88,  89,  90,\n",
              "         91,  92,  93,  94,  95,  96,  97,  98,  99, 100, 101, 102, 103,\n",
              "        104, 105, 106, 107, 108, 109, 110, 111, 112, 113, 114, 115, 116,\n",
              "        117, 118, 119, 120, 121, 122, 123, 124, 125, 126, 127, 128, 129,\n",
              "        130, 131, 132, 133, 134, 135, 136, 137, 138, 139, 140, 141, 142,\n",
              "        143, 144, 145, 146, 147, 148, 149, 150, 151, 152, 153, 154, 155,\n",
              "        156, 157, 158, 159, 160, 161, 162, 163, 164, 165, 166, 167, 168,\n",
              "        169, 170, 171, 172, 173, 174, 175, 176, 177, 178, 179, 180, 181,\n",
              "        182, 183, 184, 185, 186, 187, 188, 189, 190, 191, 192, 193, 194,\n",
              "        195, 196, 197, 198, 199, 200, 201, 202, 203, 204, 205, 206, 207,\n",
              "        208, 209, 210, 211, 212, 213, 214, 215, 216, 217, 218, 219, 220,\n",
              "        221, 222, 223, 224, 225, 226, 227, 228, 229, 230, 231, 232, 233,\n",
              "        234, 235, 236, 237, 238, 239, 240, 241, 242, 243, 244, 245, 246,\n",
              "        247, 248, 249, 251, 252, 253, 254, 255, 256, 257, 258, 259, 260,\n",
              "        261, 262, 263, 264, 265, 266, 267, 268, 269, 270, 271, 272, 273,\n",
              "        274, 275, 276, 277, 278, 279, 280, 281, 282, 283, 284, 285, 286,\n",
              "        287, 288, 289, 290, 291, 292, 293, 294, 295, 296, 297, 298, 299,\n",
              "        300, 301, 302, 303, 304, 305, 306, 307, 308, 309, 310, 311, 312,\n",
              "        313, 314, 315, 316, 317, 318, 319, 320, 321, 322, 323, 324, 325,\n",
              "        326, 327, 328, 329, 330, 331, 332, 333, 334, 335, 336, 337, 338,\n",
              "        339, 340, 341, 342, 343, 344, 345, 346, 347, 348, 349, 350, 351,\n",
              "        352, 353, 354, 355, 356, 357, 358, 359, 360, 361, 362, 363, 364,\n",
              "        365, 366, 367, 368, 369, 370, 371, 372, 373, 374, 375, 376, 377,\n",
              "        378, 379, 380, 381, 382, 383, 384, 385, 386, 387, 388, 389, 390,\n",
              "        391, 392, 393, 394, 395, 396, 397, 398, 399, 400, 401, 402, 403,\n",
              "        404, 405, 406, 407, 408, 409, 410, 411, 412, 413, 414, 415, 416,\n",
              "        417, 418, 419, 420, 421, 422, 423, 424, 425, 426, 427, 428, 429,\n",
              "        430, 431, 432, 433, 434, 435, 436, 437, 438, 439, 440, 441, 442,\n",
              "        443, 444, 445, 446, 447, 448, 449, 450, 451, 452, 453, 454, 455,\n",
              "        456, 457, 458, 459, 460, 461, 462, 463, 464, 465, 466, 467, 468,\n",
              "        469, 470, 471, 472, 473, 474, 475, 476, 477, 478, 479, 480, 481,\n",
              "        482, 483, 484, 485, 486, 487, 488, 489, 490, 491, 492, 493, 494,\n",
              "        495, 496, 497, 498, 499, 500]),)"
            ]
          },
          "metadata": {
            "tags": []
          },
          "execution_count": 43
        }
      ]
    },
    {
      "cell_type": "markdown",
      "metadata": {
        "id": "EFOJ3P7v2_Ti"
      },
      "source": [
        "* __np.where(X!=4)__ returns the __index__ of all the __X__-values which are not equal to 4, i.e. __X!=4__\n",
        "\n",
        "* The __index__ is the location of a specific value in the array, it is __not__ the __X__-value value itself.\n",
        "\n",
        "* For example, the value __0.016__ in __X__ has __index 1__ (bacuase Python starts counting from 0).\n",
        "\n",
        "* The code above returns the __index__ of each __X__-value which is not 4.\n",
        "\n",
        "* To return the actual __X__-values which are not 4 we do the following:"
      ]
    },
    {
      "cell_type": "code",
      "metadata": {
        "colab": {
          "base_uri": "https://localhost:8080/"
        },
        "id": "tm48cw9X2_Tj",
        "outputId": "e2e550f0-e814-4554-9b0b-563aac9e2e71"
      },
      "source": [
        "x=X[np.where(X!=4)]\n",
        "x"
      ],
      "execution_count": 44,
      "outputs": [
        {
          "output_type": "execute_result",
          "data": {
            "text/plain": [
              "array([0.   , 0.016, 0.032, 0.048, 0.064, 0.08 , 0.096, 0.112, 0.128,\n",
              "       0.144, 0.16 , 0.176, 0.192, 0.208, 0.224, 0.24 , 0.256, 0.272,\n",
              "       0.288, 0.304, 0.32 , 0.336, 0.352, 0.368, 0.384, 0.4  , 0.416,\n",
              "       0.432, 0.448, 0.464, 0.48 , 0.496, 0.512, 0.528, 0.544, 0.56 ,\n",
              "       0.576, 0.592, 0.608, 0.624, 0.64 , 0.656, 0.672, 0.688, 0.704,\n",
              "       0.72 , 0.736, 0.752, 0.768, 0.784, 0.8  , 0.816, 0.832, 0.848,\n",
              "       0.864, 0.88 , 0.896, 0.912, 0.928, 0.944, 0.96 , 0.976, 0.992,\n",
              "       1.008, 1.024, 1.04 , 1.056, 1.072, 1.088, 1.104, 1.12 , 1.136,\n",
              "       1.152, 1.168, 1.184, 1.2  , 1.216, 1.232, 1.248, 1.264, 1.28 ,\n",
              "       1.296, 1.312, 1.328, 1.344, 1.36 , 1.376, 1.392, 1.408, 1.424,\n",
              "       1.44 , 1.456, 1.472, 1.488, 1.504, 1.52 , 1.536, 1.552, 1.568,\n",
              "       1.584, 1.6  , 1.616, 1.632, 1.648, 1.664, 1.68 , 1.696, 1.712,\n",
              "       1.728, 1.744, 1.76 , 1.776, 1.792, 1.808, 1.824, 1.84 , 1.856,\n",
              "       1.872, 1.888, 1.904, 1.92 , 1.936, 1.952, 1.968, 1.984, 2.   ,\n",
              "       2.016, 2.032, 2.048, 2.064, 2.08 , 2.096, 2.112, 2.128, 2.144,\n",
              "       2.16 , 2.176, 2.192, 2.208, 2.224, 2.24 , 2.256, 2.272, 2.288,\n",
              "       2.304, 2.32 , 2.336, 2.352, 2.368, 2.384, 2.4  , 2.416, 2.432,\n",
              "       2.448, 2.464, 2.48 , 2.496, 2.512, 2.528, 2.544, 2.56 , 2.576,\n",
              "       2.592, 2.608, 2.624, 2.64 , 2.656, 2.672, 2.688, 2.704, 2.72 ,\n",
              "       2.736, 2.752, 2.768, 2.784, 2.8  , 2.816, 2.832, 2.848, 2.864,\n",
              "       2.88 , 2.896, 2.912, 2.928, 2.944, 2.96 , 2.976, 2.992, 3.008,\n",
              "       3.024, 3.04 , 3.056, 3.072, 3.088, 3.104, 3.12 , 3.136, 3.152,\n",
              "       3.168, 3.184, 3.2  , 3.216, 3.232, 3.248, 3.264, 3.28 , 3.296,\n",
              "       3.312, 3.328, 3.344, 3.36 , 3.376, 3.392, 3.408, 3.424, 3.44 ,\n",
              "       3.456, 3.472, 3.488, 3.504, 3.52 , 3.536, 3.552, 3.568, 3.584,\n",
              "       3.6  , 3.616, 3.632, 3.648, 3.664, 3.68 , 3.696, 3.712, 3.728,\n",
              "       3.744, 3.76 , 3.776, 3.792, 3.808, 3.824, 3.84 , 3.856, 3.872,\n",
              "       3.888, 3.904, 3.92 , 3.936, 3.952, 3.968, 3.984, 4.016, 4.032,\n",
              "       4.048, 4.064, 4.08 , 4.096, 4.112, 4.128, 4.144, 4.16 , 4.176,\n",
              "       4.192, 4.208, 4.224, 4.24 , 4.256, 4.272, 4.288, 4.304, 4.32 ,\n",
              "       4.336, 4.352, 4.368, 4.384, 4.4  , 4.416, 4.432, 4.448, 4.464,\n",
              "       4.48 , 4.496, 4.512, 4.528, 4.544, 4.56 , 4.576, 4.592, 4.608,\n",
              "       4.624, 4.64 , 4.656, 4.672, 4.688, 4.704, 4.72 , 4.736, 4.752,\n",
              "       4.768, 4.784, 4.8  , 4.816, 4.832, 4.848, 4.864, 4.88 , 4.896,\n",
              "       4.912, 4.928, 4.944, 4.96 , 4.976, 4.992, 5.008, 5.024, 5.04 ,\n",
              "       5.056, 5.072, 5.088, 5.104, 5.12 , 5.136, 5.152, 5.168, 5.184,\n",
              "       5.2  , 5.216, 5.232, 5.248, 5.264, 5.28 , 5.296, 5.312, 5.328,\n",
              "       5.344, 5.36 , 5.376, 5.392, 5.408, 5.424, 5.44 , 5.456, 5.472,\n",
              "       5.488, 5.504, 5.52 , 5.536, 5.552, 5.568, 5.584, 5.6  , 5.616,\n",
              "       5.632, 5.648, 5.664, 5.68 , 5.696, 5.712, 5.728, 5.744, 5.76 ,\n",
              "       5.776, 5.792, 5.808, 5.824, 5.84 , 5.856, 5.872, 5.888, 5.904,\n",
              "       5.92 , 5.936, 5.952, 5.968, 5.984, 6.   , 6.016, 6.032, 6.048,\n",
              "       6.064, 6.08 , 6.096, 6.112, 6.128, 6.144, 6.16 , 6.176, 6.192,\n",
              "       6.208, 6.224, 6.24 , 6.256, 6.272, 6.288, 6.304, 6.32 , 6.336,\n",
              "       6.352, 6.368, 6.384, 6.4  , 6.416, 6.432, 6.448, 6.464, 6.48 ,\n",
              "       6.496, 6.512, 6.528, 6.544, 6.56 , 6.576, 6.592, 6.608, 6.624,\n",
              "       6.64 , 6.656, 6.672, 6.688, 6.704, 6.72 , 6.736, 6.752, 6.768,\n",
              "       6.784, 6.8  , 6.816, 6.832, 6.848, 6.864, 6.88 , 6.896, 6.912,\n",
              "       6.928, 6.944, 6.96 , 6.976, 6.992, 7.008, 7.024, 7.04 , 7.056,\n",
              "       7.072, 7.088, 7.104, 7.12 , 7.136, 7.152, 7.168, 7.184, 7.2  ,\n",
              "       7.216, 7.232, 7.248, 7.264, 7.28 , 7.296, 7.312, 7.328, 7.344,\n",
              "       7.36 , 7.376, 7.392, 7.408, 7.424, 7.44 , 7.456, 7.472, 7.488,\n",
              "       7.504, 7.52 , 7.536, 7.552, 7.568, 7.584, 7.6  , 7.616, 7.632,\n",
              "       7.648, 7.664, 7.68 , 7.696, 7.712, 7.728, 7.744, 7.76 , 7.776,\n",
              "       7.792, 7.808, 7.824, 7.84 , 7.856, 7.872, 7.888, 7.904, 7.92 ,\n",
              "       7.936, 7.952, 7.968, 7.984, 8.   ])"
            ]
          },
          "metadata": {
            "tags": []
          },
          "execution_count": 44
        }
      ]
    },
    {
      "cell_type": "markdown",
      "metadata": {
        "id": "3ITvrpVq2_Tk"
      },
      "source": [
        "* Reading through this list of numbers you will find there is no value exactly equal to 4, as required.\n",
        "\n",
        "* We now use this __excised__ interval __x__ to plot the function."
      ]
    },
    {
      "cell_type": "code",
      "metadata": {
        "colab": {
          "base_uri": "https://localhost:8080/",
          "height": 266
        },
        "id": "EuuNWli32_Tk",
        "outputId": "1445be77-2694-4081-82a8-f98522b844cc"
      },
      "source": [
        "plt.plot(x,h(x),color=\"red\")\n",
        "plt.show()"
      ],
      "execution_count": 45,
      "outputs": [
        {
          "output_type": "display_data",
          "data": {
            "image/png": "[encoded data removed]",
            "text/plain": [
              "<Figure size 432x288 with 1 Axes>"
            ]
          },
          "metadata": {
            "tags": [],
            "needs_background": "light"
          }
        }
      ]
    },
    {
      "cell_type": "markdown",
      "metadata": {
        "id": "oEUoDqn32_Tk"
      },
      "source": [
        "* __NO RUNTIME WARNING:__ As you can see we no longer get a __RuntimeWarning__\n",
        "since the denominator of __h__ does not become zero at any value in the excised array __x__.\n",
        "\n",
        "### Changing y-limits & zooming in\n",
        "\n",
        "* We can see from this plot that the $y$-axis lies in the range $-600\\leq y\\leq 600$. \n",
        "\n",
        "\n",
        "* To make this range smaller, and to increase the detail of the plot, we can use the __ylim([,])__ function to set the __y-limits__ of the plot. \n",
        "\n",
        "\n",
        "* In the cell below, we restrict the $y$-axis to the range $-100\\leq y\\leq 100$."
      ]
    },
    {
      "cell_type": "code",
      "metadata": {
        "colab": {
          "base_uri": "https://localhost:8080/",
          "height": 269
        },
        "id": "pD-cMjtM2_Tk",
        "outputId": "d98f0208-8b26-4c62-a8b1-31ff45d97b57"
      },
      "source": [
        "plt.plot(x,h(x),color=\"red\")\n",
        "plt.ylim([-100,100])\n",
        "plt.show()"
      ],
      "execution_count": 46,
      "outputs": [
        {
          "output_type": "display_data",
          "data": {
            "image/png": "[encoded data removed]",
            "text/plain": [
              "<Figure size 432x288 with 1 Axes>"
            ]
          },
          "metadata": {
            "tags": [],
            "needs_background": "light"
          }
        }
      ]
    },
    {
      "cell_type": "markdown",
      "metadata": {
        "id": "ZbNfeVpQ2_Tl"
      },
      "source": [
        "### The vertical asymptote\n",
        "\n",
        "* The last step to creating this plot is to include a plot of the vertical asymptote also. This is the vertical line which the function approaches, either side of 4.\n",
        "\n",
        "\n",
        "* This is achieved using the function __axvline()__ which will plot a vertical line at some point along the horizontal axis.\n",
        "\n",
        "\n",
        "* In this example we want to place a vertical asymptote at $x=4$, which we do in the following cell:"
      ]
    },
    {
      "cell_type": "code",
      "metadata": {
        "colab": {
          "base_uri": "https://localhost:8080/",
          "height": 269
        },
        "id": "nxMHTbHL2_Tl",
        "outputId": "171f3454-c889-4a5f-a397-014af4fac656"
      },
      "source": [
        "plt.plot(x,h(x),color=\"red\")\n",
        "plt.axvline(4)\n",
        "plt.ylim([-100,100])\n",
        "plt.show()"
      ],
      "execution_count": 47,
      "outputs": [
        {
          "output_type": "display_data",
          "data": {
            "image/png": "[encoded data removed]",
            "text/plain": [
              "<Figure size 432x288 with 1 Axes>"
            ]
          },
          "metadata": {
            "tags": [],
            "needs_background": "light"
          }
        }
      ]
    },
    {
      "cell_type": "markdown",
      "metadata": {
        "id": "5XsQiHc22_Tm"
      },
      "source": [
        "## Exercise 2\n",
        "\n",
        "__Part 1__ Create a Python function to represent the following ___rational function__\n",
        "$$\n",
        "U(t)=\\frac{3t-5}{4t+3}.\n",
        "$$\n",
        "\n",
        "\n",
        "\n",
        "__NOTE:__ This is called a __rational function__ because it is a __ratio (i.e. fraction)__ of two other functions $3t-5$ and $4t+3$."
      ]
    },
    {
      "cell_type": "code",
      "metadata": {
        "id": "lJcVBxNC2_Tm"
      },
      "source": [
        ""
      ],
      "execution_count": 19,
      "outputs": []
    },
    {
      "cell_type": "markdown",
      "metadata": {
        "id": "UGELKx0J2_Tm"
      },
      "source": [
        "__Part 2__ Confirm that this function has a singualrity at $-\\frac{3}{4}=-0.75$, i.e. show that Python returns an error at this value."
      ]
    },
    {
      "cell_type": "code",
      "metadata": {
        "id": "EMLRllP72_Tm"
      },
      "source": [
        ""
      ],
      "execution_count": 19,
      "outputs": []
    },
    {
      "cell_type": "markdown",
      "metadata": {
        "id": "z-XAMovU2_Tm"
      },
      "source": [
        "__Part 3__ Create an appropriate excised interval for plotting this function."
      ]
    },
    {
      "cell_type": "code",
      "metadata": {
        "id": "Q_U1O0Ui2_Tn"
      },
      "source": [
        ""
      ],
      "execution_count": 19,
      "outputs": []
    },
    {
      "cell_type": "markdown",
      "metadata": {
        "id": "zH4-LVOR2_Tn"
      },
      "source": [
        "__Part 4__ \n",
        "\n",
        "* Plot this function on the intrval you created in __Part 3__. Include the __vertical asymptote__ in this graph. Choose your own __y limits__ for the plot. \n",
        "\n",
        "\n",
        "* Choose your own __colours__ for the plot and the vertical asymptote \n",
        "(see __https://matplotlib.org/examples/color/named_colors.html__)."
      ]
    },
    {
      "cell_type": "code",
      "metadata": {
        "id": "3WsvRXok2_To"
      },
      "source": [
        ""
      ],
      "execution_count": 19,
      "outputs": []
    },
    {
      "cell_type": "markdown",
      "metadata": {
        "id": "R3rjunbd2_To"
      },
      "source": [
        "## Horizontal asymptotes\n",
        "\n",
        "* The horizontal asymptote of $f(x)$ is the value the function becomes as $x\\to+\\infty$ and as $x\\to-\\infty$.\n",
        "\n",
        "\n",
        "* When plotting rational functions, we sholud also include a horizontal line in the graph to indicate this horizontal asymptote of the function.\n",
        "\n",
        "\n",
        "* Formally, this may be done by taking the __limit__ of the funciton as $x\\to\\pm\\infty$, i.e. by evaluating $\\lim_{x\\to\\pm\\infty}f(x)$.\n",
        "\n",
        "\n",
        "* However, to do this in Python would require us to use the __sympy__ library, which we want to avoid for the time being, to keep things as simple as possible.\n",
        "\n",
        "\n",
        "* An alternative way to estimate these asymptotic values is to simply evlauate the function at __very large values of $x$__, to see if the function aproaches a specific asymptotic value."
      ]
    },
    {
      "cell_type": "markdown",
      "metadata": {
        "id": "bV44QyWu2_To"
      },
      "source": [
        "## Example 3\n",
        "\n",
        "Using the function __h__ defined in __Example 2__, estimate the asymptotic values of the function as $x\\to -\\infty$ and as $x\\to+\\infty$ by evaluating the following:\n",
        "$$\n",
        "h(\\pm10^3), h(\\pm10^6), h(\\pm10^9), h(\\pm10^{12}), h(\\pm10^{15}), h(\\pm10^{18}), h(10^{21}), h(\\pm10^{24})\n",
        "$$"
      ]
    },
    {
      "cell_type": "markdown",
      "metadata": {
        "id": "2p5nLMus2_To"
      },
      "source": [
        "#### Solution\n",
        "\n",
        "* We have already defined the function __h__ so there is no need to define it again. \n",
        "\n",
        "\n",
        "* We will evaluate the asymptotic values in two parts: First we are going to create a range of values we will call __large_x__, where we will evaluate the funciton. To do this we use the function __array()__\n",
        "\n",
        "* Using the Python notation __1E3 to mean $1\\times10^3$__, we can save alot of work and avoid having to write out a lot of zeros."
      ]
    },
    {
      "cell_type": "code",
      "metadata": {
        "colab": {
          "base_uri": "https://localhost:8080/"
        },
        "id": "bPUhhqn32_To",
        "outputId": "52f69e7e-f3f0-4288-fb12-6085ff7ac8b1"
      },
      "source": [
        "large_x=np.array([1E3,1E6,1E9,1E12,1E15,1E18,1E21,1E24])\n",
        "large_x"
      ],
      "execution_count": 37,
      "outputs": [
        {
          "output_type": "execute_result",
          "data": {
            "text/plain": [
              "array([1.e+03, 1.e+06, 1.e+09, 1.e+12, 1.e+15, 1.e+18, 1.e+21, 1.e+24])"
            ]
          },
          "metadata": {
            "tags": []
          },
          "execution_count": 37
        }
      ]
    },
    {
      "cell_type": "markdown",
      "metadata": {
        "id": "SoRKBUlL2_To"
      },
      "source": [
        "* Now to __estimate__ the asymptotic limit $\\lim_{x\\to\\infty}h(t)$ we can just compute __h(large_x)__"
      ]
    },
    {
      "cell_type": "code",
      "metadata": {
        "colab": {
          "base_uri": "https://localhost:8080/"
        },
        "id": "zKIhBo5m2_Tp",
        "outputId": "28f97138-f5a0-4764-ff03-60c1acda2dee"
      },
      "source": [
        "h(large_x)"
      ],
      "execution_count": 38,
      "outputs": [
        {
          "output_type": "execute_result",
          "data": {
            "text/plain": [
              "array([1.00903614, 1.000009  , 1.00000001, 1.        , 1.        ,\n",
              "       1.        , 1.        , 1.        ])"
            ]
          },
          "metadata": {
            "tags": []
          },
          "execution_count": 38
        }
      ]
    },
    {
      "cell_type": "markdown",
      "metadata": {
        "id": "o4PiAJgP2_Tp"
      },
      "source": [
        "* Hence we conclude that as $x\\to+\\infty$ then $h\\to +1$.\n",
        "\n",
        "* Evaluating the function on __-large_x__, we find:"
      ]
    },
    {
      "cell_type": "code",
      "metadata": {
        "colab": {
          "base_uri": "https://localhost:8080/"
        },
        "id": "Ll-IosGv2_Tq",
        "outputId": "e93de1d7-1cbd-4dc3-f7f3-3a9c8b7c31dc"
      },
      "source": [
        "h(-large_x)"
      ],
      "execution_count": 39,
      "outputs": [
        {
          "output_type": "execute_result",
          "data": {
            "text/plain": [
              "array([0.99103586, 0.999991  , 0.99999999, 1.        , 1.        ,\n",
              "       1.        , 1.        , 1.        ])"
            ]
          },
          "metadata": {
            "tags": []
          },
          "execution_count": 39
        }
      ]
    },
    {
      "cell_type": "markdown",
      "metadata": {
        "id": "aCOOgBj72_Tr"
      },
      "source": [
        "* We see that as $x\\to-\\infty$ then $h\\to 1$ also.\n",
        "\n",
        "\n",
        "* Hence the asymptotic value of the function is 1."
      ]
    },
    {
      "cell_type": "markdown",
      "metadata": {
        "id": "ZMfSzFBg2_Tr"
      },
      "source": [
        "### Plotting the horizontal asymptote\n",
        "\n",
        "* Since the asymptotic value of __h__ is +1, the graph of __h__ will approach a horizontal line as the graph moves out to the left and right.\n",
        "\n",
        "\n",
        "* We can plot this __horizontal asymptote__ using the Python function __axhline()__. This will plot a horizontal line at the height specified.\n",
        "\n",
        "\n",
        "* Since the asymptotic limit of __h__ is $1$ as we estimated above, we should plot this horizontal line at height 1.\n",
        "\n",
        "\n",
        "* We will re-use the code from __Example 2__ and simply adjust it by including the new commad to plot the horizontal asymptote also."
      ]
    },
    {
      "cell_type": "code",
      "metadata": {
        "colab": {
          "base_uri": "https://localhost:8080/",
          "height": 269
        },
        "id": "kdmpfyBs2_Tr",
        "outputId": "3782db26-aadb-459b-a013-782b277931da"
      },
      "source": [
        "X=np.linspace(0,8,501)\n",
        "x=X[np.where(X!=4)]\n",
        "plt.plot(x,h(x))\n",
        "plt.axvline(4)\n",
        "plt.axhline(1)\n",
        "plt.ylim([-100,100])\n",
        "plt.show()"
      ],
      "execution_count": 49,
      "outputs": [
        {
          "output_type": "display_data",
          "data": {
            "image/png": "[encoded data removed]",
            "text/plain": [
              "<Figure size 432x288 with 1 Axes>"
            ]
          },
          "metadata": {
            "tags": [],
            "needs_background": "light"
          }
        }
      ]
    },
    {
      "cell_type": "markdown",
      "metadata": {
        "id": "Ti9OZUnd2_Tt"
      },
      "source": [
        "* It is just about visible, but the horizontal line we just plotted is at height 1. \n",
        "\n",
        "\n",
        "* If we narrow the vertical range of the plot, the height of this horizontal asymptote should become clearer."
      ]
    },
    {
      "cell_type": "code",
      "metadata": {
        "colab": {
          "base_uri": "https://localhost:8080/",
          "height": 265
        },
        "id": "9Jq3HGK12_Tt",
        "outputId": "e1183fe5-b17d-44c8-c65b-56311c13d033"
      },
      "source": [
        "X=np.linspace(0,8,501)\n",
        "x=X[np.where(X!=4)]\n",
        "plt.plot(x,h(x))\n",
        "plt.axvline(4)\n",
        "plt.axhline(1)\n",
        "plt.ylim([-25,25])\n",
        "plt.show()"
      ],
      "execution_count": 51,
      "outputs": [
        {
          "output_type": "display_data",
          "data": {
            "image/png": "[encoded data removed]",
            "text/plain": [
              "<Figure size 432x288 with 1 Axes>"
            ]
          },
          "metadata": {
            "tags": [],
            "needs_background": "light"
          }
        }
      ]
    },
    {
      "cell_type": "markdown",
      "metadata": {
        "id": "3PtiSwVF2_Tt"
      },
      "source": [
        "## Exercise 3\n",
        "\n",
        "__Part 1__ Using the Python function __U__ defined in __Exercise 2__, estimate the asymptotic limits $\\lim_{t\\to\\pm\\infty}U(t)$. \n",
        "\n",
        "* You may choose your own __large_x__, or re-use the once above, to estimate these asymptotic limits."
      ]
    },
    {
      "cell_type": "code",
      "metadata": {
        "id": "j7v13-Tp2_Tu"
      },
      "source": [
        ""
      ],
      "execution_count": 24,
      "outputs": []
    },
    {
      "cell_type": "markdown",
      "metadata": {
        "id": "rDNZzbd12_Tu"
      },
      "source": [
        "__Part 2__ Create a plot of $U(t)$ showing both the horizontal and vertical asymptotes of the function also."
      ]
    },
    {
      "cell_type": "code",
      "metadata": {
        "id": "ncn7fZjA2_Tu"
      },
      "source": [
        ""
      ],
      "execution_count": 24,
      "outputs": []
    },
    {
      "cell_type": "markdown",
      "metadata": {
        "id": "OjkEylCP2_Tu"
      },
      "source": [
        "# Obtuse Asymptotes\n",
        "\n",
        "* Given a rational polynomial of the form\n",
        "$$\n",
        "R(x)= \\frac{a_1x^2+a_2x+a_3}{b_1x+b_2}\n",
        "$$\n",
        "the graph of $R(x)$, will have a vertical asymptote and an __obtuse asymptote__. \n",
        "\n",
        "\n",
        "* Using __polynomial long-division__, it is possible to divide the denominator into the numerator and so re-write the expression in the form\n",
        "$$\n",
        "R(x)=mx+c+\\frac{K}{b_1x+b_2}.\n",
        "$$\n",
        "\n",
        "\n",
        "* This __obtuse asymptote__ is in the form of a straight line $y=mx+c$. \n",
        "\n",
        "\n",
        "* The __vertcal asymptote__ comes from singular point of the remainder term $\\frac{K}{b_1x+b_2}$. This vertical asymptote occurs at $x=-\\frac{b_2}{b_1}$ (the same as the original expression). \n"
      ]
    },
    {
      "cell_type": "markdown",
      "metadata": {
        "id": "WOcER2KU2_Tu"
      },
      "source": [
        "### Polynomial long-division\n",
        "\n",
        "We can use the function __polydiv__ to perform the polynomial long-division for us automatically. First we import this function from the __numpy__ library in the cell below."
      ]
    },
    {
      "cell_type": "code",
      "metadata": {
        "id": "SO5cQ3Q42_Tv"
      },
      "source": [
        "from numpy import polydiv as pdiv"
      ],
      "execution_count": 25,
      "outputs": []
    },
    {
      "cell_type": "markdown",
      "metadata": {
        "id": "U-cVrgYE2_Tw"
      },
      "source": [
        "### Example 4\n",
        "\n",
        "Use the __polydiv()__ function to write the function \n",
        "$$\n",
        "R(x)=\\frac{x^2-4x+3}{2x+5}\n",
        "$$\n",
        "in the form\n",
        "$$\n",
        "R(x)=mx+c+\\frac{K}{2x+5}.\n",
        "$$"
      ]
    },
    {
      "cell_type": "markdown",
      "metadata": {
        "id": "MGRjWaeF2_Tw"
      },
      "source": [
        "### Solution\n",
        "* To use th __polydiv()__ function, we just use to __coefficients__ of the numerator and denominator of the expression.\n",
        "\n",
        "\n",
        "* The __coefficients of the numerator__ $x^2-4x+3$ are:\n",
        "\n",
        "  *  1.0 (from the $x^2$ term)\n",
        "  * -4.0 (from the $-4x$-term)\n",
        "  * 3.0 (from the constant term).\n",
        "\n",
        "\n",
        "* The __coefficients of the denominator__ \n",
        "  *  2.0 (from the $2x$ term)\n",
        "  *  5.0 (from the constant term).\n",
        "\n",
        "\n",
        "* We now use these coefficients as follows"
      ]
    },
    {
      "cell_type": "code",
      "metadata": {
        "colab": {
          "base_uri": "https://localhost:8080/"
        },
        "id": "4I4i4Mcd2_Tw",
        "outputId": "2d2c7d3c-c423-4b76-a025-c6397e66d62c"
      },
      "source": [
        "pdiv([1.0,-4.0,3.0],[2.0,5.0])"
      ],
      "execution_count": 26,
      "outputs": [
        {
          "output_type": "execute_result",
          "data": {
            "text/plain": [
              "(array([ 0.5 , -3.25]), array([19.25]))"
            ]
          },
          "metadata": {
            "tags": []
          },
          "execution_count": 26
        }
      ]
    },
    {
      "cell_type": "markdown",
      "metadata": {
        "id": "ozpgb0HB2_Tw"
      },
      "source": [
        "* This means the function $R(x)$ can be alternaitively written as \n",
        "$$\n",
        "R(x)=0.5x-3.25 +\\frac{19.25}{2x+5}\n",
        "$$"
      ]
    },
    {
      "cell_type": "markdown",
      "metadata": {
        "id": "h83tMd6H2_Tx"
      },
      "source": [
        "### The obtuse asymptote\n",
        "\n",
        "* The obtuse asymtote of the fucntion $R(x)$ is now given by the function\n",
        "$$\n",
        "A(x)=0.5x-3.25,\n",
        "$$\n",
        "which is the equation of a line.\n",
        "\n",
        "\n",
        "* As $x\\to\\pm\\infty$, the graph of $R(x)$ approachdes this straight line. "
      ]
    },
    {
      "cell_type": "markdown",
      "metadata": {
        "id": "T78PjOXI2_Tx"
      },
      "source": [
        "### Example 5:\n",
        "\n",
        "Plot the function $R(x)$ and its obtuse asymptote, as found in __Example 4__."
      ]
    },
    {
      "cell_type": "markdown",
      "metadata": {
        "id": "cblneL-A2_Tx"
      },
      "source": [
        "#### Solution\n",
        "\n",
        "* We create Python functions to represent the function $R$ and the __asymptotic limit__ of $R$ as follows:"
      ]
    },
    {
      "cell_type": "code",
      "metadata": {
        "id": "_mL2uMQC2_Ty"
      },
      "source": [
        "# The function R(x)\n",
        "def R(x):\n",
        "    return (x**2-4.0*x+3.0)/(2.0*x+3.0)\n",
        "\n",
        "# The Obtuse limit of R(x)\n",
        "def ObtuseR(x):\n",
        "    return 0.5*x-3.25"
      ],
      "execution_count": 28,
      "outputs": []
    },
    {
      "cell_type": "markdown",
      "metadata": {
        "id": "mOW0LzcU2_Ty"
      },
      "source": [
        "* Next we plot these functions on the same graph. \n",
        "\n",
        "\n",
        "* The graphs are plotted over the interval $-9\\leq x\\leq 5$\n",
        "\n",
        "\n",
        "* We do not worry about excluding the singularity from this interval, it does not seem to cause problems when we plot."
      ]
    },
    {
      "cell_type": "code",
      "metadata": {
        "colab": {
          "base_uri": "https://localhost:8080/",
          "height": 269
        },
        "id": "fBLKMiYR2_Ty",
        "outputId": "ad4acb7c-31af-4aae-86b8-c60758c47afc"
      },
      "source": [
        "x=np.arange(-9,5,0.005)\n",
        "plt.plot(x,R(S))\n",
        "plt.plot(x,ObtuseR(x))\n",
        "plt.ylim([-20,20])\n",
        "plt.xlim([-9,5])\n",
        "plt.show()"
      ],
      "execution_count": 33,
      "outputs": [
        {
          "output_type": "display_data",
          "data": {
            "image/png": "[encoded data removed]",
            "text/plain": [
              "<Figure size 432x288 with 1 Axes>"
            ]
          },
          "metadata": {
            "tags": [],
            "needs_background": "light"
          }
        }
      ]
    },
    {
      "cell_type": "markdown",
      "metadata": {
        "id": "ffefuYxH2_Tz"
      },
      "source": [
        "* The vertical asymptote is plotted for us automatically.\n",
        "\n",
        "\n",
        "* The obtuse asymptote is shown in orange."
      ]
    },
    {
      "cell_type": "markdown",
      "metadata": {
        "id": "emUaaG_32_Tz"
      },
      "source": [
        "### Exercise 4:\n",
        "\n",
        "Use the function __polydiv()__ to write the function\n",
        "$$\n",
        "Q(x)=\\frac{-3x^2+4x+5}{4x-1}\n",
        "$$\n",
        "in the form\n",
        "$$\n",
        " Q(x)=mx+c+\\frac{K}{4x-1}.\n",
        "$$\n",
        "\n",
        "That is to say, find the values of $m$, $c$ and $K$."
      ]
    },
    {
      "cell_type": "code",
      "metadata": {
        "id": "TdXKZINY2_Tz"
      },
      "source": [
        ""
      ],
      "execution_count": 21,
      "outputs": []
    },
    {
      "cell_type": "code",
      "metadata": {
        "id": "3mrpkW8g2_T0"
      },
      "source": [
        ""
      ],
      "execution_count": 21,
      "outputs": []
    },
    {
      "cell_type": "markdown",
      "metadata": {
        "id": "qMvbB3g12_T0"
      },
      "source": [
        "## Exercise 5:\n",
        "\n",
        "* Create Python functions to represent $Q(x)$ and its __obtuse asymptote__ $mx+c$ which you found in __Exercise 4__.\n",
        "\n",
        "\n",
        "* Using these Python functions, plot $Q(x)$ and its asymptotic limit over the interval $-8\\leq x<9$.\n",
        "\n",
        "\n",
        "* Set the $y$-range of this plot to be $-20\\leq y<20$, using the __ylim()__ funciton."
      ]
    },
    {
      "cell_type": "code",
      "metadata": {
        "id": "pab12WCF2_T0"
      },
      "source": [
        ""
      ],
      "execution_count": 21,
      "outputs": []
    },
    {
      "cell_type": "code",
      "metadata": {
        "id": "oEJaocGJ2_T0"
      },
      "source": [
        ""
      ],
      "execution_count": 21,
      "outputs": []
    },
    {
      "cell_type": "code",
      "metadata": {
        "id": "cyVc5ngzBSbN"
      },
      "source": [
        ""
      ],
      "execution_count": null,
      "outputs": []
    },
    {
      "cell_type": "code",
      "metadata": {
        "id": "sCWzuwYVBSd1"
      },
      "source": [
        ""
      ],
      "execution_count": null,
      "outputs": []
    },
    {
      "cell_type": "markdown",
      "metadata": {
        "id": "IUrHYKMK2_T1"
      },
      "source": [
        "# Submitting Your Work \n",
        "\n",
        "### Please ensure all changes are saved to your .ipynb file before submitting to Moodle!!!\n",
        "\n",
        "\n",
        "\n",
        "\n",
        "\n"
      ]
    },
    {
      "cell_type": "code",
      "metadata": {
        "id": "a_XrRP902_T1"
      },
      "source": [
        ""
      ],
      "execution_count": null,
      "outputs": []
    }
  ]
}