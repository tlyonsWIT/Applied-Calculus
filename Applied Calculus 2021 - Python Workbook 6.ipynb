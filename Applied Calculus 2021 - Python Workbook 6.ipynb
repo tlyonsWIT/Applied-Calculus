{
  "nbformat": 4,
  "nbformat_minor": 0,
  "metadata": {
    "anaconda-cloud": {},
    "kernelspec": {
      "display_name": "Python 3",
      "language": "python",
      "name": "python3"
    },
    "language_info": {
      "codemirror_mode": {
        "name": "ipython",
        "version": 3
      },
      "file_extension": ".py",
      "mimetype": "text/x-python",
      "name": "python",
      "nbconvert_exporter": "python",
      "pygments_lexer": "ipython3",
      "version": "3.8.3"
    },
    "colab": {
      "name": "Applied Calculus 2021 - Python Workbook 6.ipynb",
      "provenance": [],
      "include_colab_link": true
    }
  },
  "cells": [
    {
      "cell_type": "markdown",
      "metadata": {
        "id": "view-in-github",
        "colab_type": "text"
      },
      "source": [
        "<a href=\"https://colab.research.google.com/github/tlyonsWIT/Applied-Calculus/blob/main/Applied%20Calculus%202021%20-%20Python%20Workbook%206.ipynb\" target=\"_parent\"><img src=\"https://colab.research.google.com/assets/colab-badge.svg\" alt=\"Open In Colab\"/></a>"
      ]
    },
    {
      "cell_type": "markdown",
      "metadata": {
        "id": "oist7AXwFHF1"
      },
      "source": [
        "### Name:\n",
        "### Student Number:"
      ]
    },
    {
      "cell_type": "markdown",
      "metadata": {
        "id": "SwLMy6hCFHF-"
      },
      "source": [
        "# Python Workbook 6 - Applications of Differentitation\n",
        "\n",
        "\n",
        "In this practical we will use Python to study various problems based on applications of differentiation, particularly in relation to __max/min problems__ and __optimisation__. \n",
        " \n",
        "### Turning points (or stationary points) of a function\n",
        "\n",
        " * A __smooth__ function $f(t)$ has a __stationary point__ (local max, local min, points of inflection) at a specific value $t=t_0$ if the following holds:   \n",
        "$$\n",
        "\\frac{df}{dt}(t_0)=0.\n",
        "$$\n",
        "\n",
        "\n",
        "* We can implement this symbolically in Python using the __diff()__ and __solve()__ functions from the library.\n",
        "\n",
        "\n",
        "\n",
        "* To begin, we import the __sympy__ library in the ususal way. We also use the __init_printing__ environment to produce mathematical output when we run Python cells."
      ]
    },
    {
      "cell_type": "code",
      "metadata": {
        "id": "NcdHslD0FHF_"
      },
      "source": [
        "from sympy import *\n",
        "from sympy import init_printing \n",
        "init_printing()"
      ],
      "execution_count": 3,
      "outputs": []
    },
    {
      "cell_type": "markdown",
      "metadata": {
        "id": "DsY9Sx1LFHGA"
      },
      "source": [
        "## Example 1: \n",
        "\n",
        "Given the function\n",
        "$$\n",
        "F(t)=3t^{3}+26t^{2}-61t-468\n",
        "$$\n",
        "answer the following:\n",
        "\n",
        "1. Plot the function F(t) over the interval $-10<t<5$,\n",
        "\n",
        "2. From this plot, estimate how many tunring points the function will have.\n",
        "\n",
        "3. Use the __solve()__ function to determine the values of $t$ where the function is stationary.\n",
        "\n",
        "4. Use the __subs()__ function to determine the correpsonding $y$-values of the turining points."
      ]
    },
    {
      "cell_type": "markdown",
      "metadata": {
        "id": "8G4PXJxgFHGB"
      },
      "source": [
        "### Part 1:\n",
        "First we must create a symbolic variable for $t$, and then define the function $F(t)$."
      ]
    },
    {
      "cell_type": "code",
      "metadata": {
        "colab": {
          "base_uri": "https://localhost:8080/",
          "height": 39
        },
        "id": "AZwRPW7rFHGC",
        "outputId": "b266267c-262d-4018-f2c9-460b71ea3a65"
      },
      "source": [
        "t=symbols('t')\n",
        "F=3*t**3+26*t**2-61*t-468\n",
        "F"
      ],
      "execution_count": 4,
      "outputs": [
        {
          "output_type": "execute_result",
          "data": {
            "image/png": "[encoded data removed]",
            "text/latex": "$\\displaystyle 3 t^{3} + 26 t^{2} - 61 t - 468$",
            "text/plain": [
              "   3       2             \n",
              "3⋅t  + 26⋅t  - 61⋅t - 468"
            ]
          },
          "metadata": {
            "tags": []
          },
          "execution_count": 4
        }
      ]
    },
    {
      "cell_type": "markdown",
      "metadata": {
        "id": "i-8AVIBfFHGF"
      },
      "source": [
        "Now we can plot the function $F(t)$."
      ]
    },
    {
      "cell_type": "code",
      "metadata": {
        "colab": {
          "base_uri": "https://localhost:8080/",
          "height": 297
        },
        "id": "ZfZnjXbfFHGF",
        "outputId": "6271f3c7-2f3d-4e63-8427-5006cb7ef6a6"
      },
      "source": [
        "plot(F,(t,-9,4));"
      ],
      "execution_count": 5,
      "outputs": [
        {
          "output_type": "display_data",
          "data": {
            "image/png": "[encoded data removed]",
            "text/plain": [
              "<Figure size 432x288 with 1 Axes>"
            ]
          },
          "metadata": {
            "tags": [],
            "needs_background": "light"
          }
        }
      ]
    },
    {
      "cell_type": "markdown",
      "metadata": {
        "id": "Ba4vfZ8MFHGG"
      },
      "source": [
        "### Part 2:\n",
        "From the graph it appear the function has __two__ stationary points."
      ]
    },
    {
      "cell_type": "markdown",
      "metadata": {
        "id": "cUvJam7wFHGH"
      },
      "source": [
        "### Part 3:\n",
        "\n",
        "* To find the values of $t$ which are turning points, we must find all values of $t$ such that\n",
        "\\\\[\n",
        "\\frac{dF}{dt}=0.\n",
        "\\\\]\n",
        "\n",
        "* First we find the derivative of $F(t)$ using __diff()__"
      ]
    },
    {
      "cell_type": "code",
      "metadata": {
        "colab": {
          "base_uri": "https://localhost:8080/",
          "height": 39
        },
        "id": "V7fgT0lsFHGH",
        "outputId": "f1c464fe-d91f-457e-dfab-084f1dfd856e"
      },
      "source": [
        "dF=diff(F,t)\n",
        "dF"
      ],
      "execution_count": 6,
      "outputs": [
        {
          "output_type": "execute_result",
          "data": {
            "image/png": "[encoded data removed]",
            "text/latex": "$\\displaystyle 9 t^{2} + 52 t - 61$",
            "text/plain": [
              "   2            \n",
              "9⋅t  + 52⋅t - 61"
            ]
          },
          "metadata": {
            "tags": []
          },
          "execution_count": 6
        }
      ]
    },
    {
      "cell_type": "markdown",
      "metadata": {
        "id": "gU61UDpTFHGJ"
      },
      "source": [
        "* Now we use __solve()__ to find all values of $t$ such that $\\frac{dF}{dt}=0$."
      ]
    },
    {
      "cell_type": "code",
      "metadata": {
        "colab": {
          "base_uri": "https://localhost:8080/",
          "height": 58
        },
        "id": "IABG0JCIFHGJ",
        "outputId": "2bb35490-2f6a-4287-ed09-bc26ac1a7f45"
      },
      "source": [
        "Sp_F=solve(dF,t)\n",
        "Sp_F"
      ],
      "execution_count": 7,
      "outputs": [
        {
          "output_type": "execute_result",
          "data": {
            "image/png": "[encoded data removed]",
            "text/latex": "$\\displaystyle \\left[ - \\frac{61}{9}, \\  1\\right]$",
            "text/plain": [
              "[-61/9, 1]"
            ]
          },
          "metadata": {
            "tags": []
          },
          "execution_count": 7
        }
      ]
    },
    {
      "cell_type": "markdown",
      "metadata": {
        "id": "rucj2EISFHGK"
      },
      "source": [
        "* We see there are two values of $t$ at which the derivative vanishes. We call these values __Sp_F__ for _Stationary-points of F_."
      ]
    },
    {
      "cell_type": "markdown",
      "metadata": {
        "id": "AYVOFMUlFHGK"
      },
      "source": [
        "### Part 4:\n",
        "\n",
        "* We note that __Sp_F__ is an array of values. \n",
        "\n",
        "* We can select a specific value from this array using the index identifiers __Sp_F[0]__ and __Sp_F[1]__.\n",
        "\n",
        "* ___Note:___ The index starts at __zero!!__"
      ]
    },
    {
      "cell_type": "code",
      "metadata": {
        "colab": {
          "base_uri": "https://localhost:8080/",
          "height": 51
        },
        "id": "uvmiDO5HFHGL",
        "outputId": "fc032921-0754-414b-db98-85c2038fb548"
      },
      "source": [
        "Sp_F[0]"
      ],
      "execution_count": 8,
      "outputs": [
        {
          "output_type": "execute_result",
          "data": {
            "image/png": "[encoded data removed]",
            "text/latex": "$\\displaystyle - \\frac{61}{9}$",
            "text/plain": [
              "-61/9"
            ]
          },
          "metadata": {
            "tags": []
          },
          "execution_count": 8
        }
      ]
    },
    {
      "cell_type": "code",
      "metadata": {
        "colab": {
          "base_uri": "https://localhost:8080/",
          "height": 37
        },
        "id": "wVQYSm26FHGL",
        "outputId": "ba59bd6c-9bb1-417b-981f-7cc38381c82a"
      },
      "source": [
        "Sp_F[1]"
      ],
      "execution_count": 9,
      "outputs": [
        {
          "output_type": "execute_result",
          "data": {
            "image/png": "[encoded data removed]",
            "text/latex": "$\\displaystyle 1$",
            "text/plain": [
              "1"
            ]
          },
          "metadata": {
            "tags": []
          },
          "execution_count": 9
        }
      ]
    },
    {
      "cell_type": "markdown",
      "metadata": {
        "id": "X5nMEfDzFHGM"
      },
      "source": [
        "* The $y$-coordinates corresponding to these stationary values are easily found using __subs().__\n",
        "\n",
        "* The first turing point has $(x,y)$-cordinates:"
      ]
    },
    {
      "cell_type": "code",
      "metadata": {
        "colab": {
          "base_uri": "https://localhost:8080/",
          "height": 58
        },
        "id": "J7V-UflJFHGM",
        "outputId": "f7c89c0f-c7ad-4263-ff6a-a84e71e2ff2d"
      },
      "source": [
        "Sp_F[0],F.subs(t,Sp_F[0])"
      ],
      "execution_count": 10,
      "outputs": [
        {
          "output_type": "execute_result",
          "data": {
            "image/png": "[encoded data removed]",
            "text/latex": "$\\displaystyle \\left( - \\frac{61}{9}, \\  \\frac{50000}{243}\\right)$",
            "text/plain": [
              "⎛       50000⎞\n",
              "⎜-61/9, ─────⎟\n",
              "⎝        243 ⎠"
            ]
          },
          "metadata": {
            "tags": []
          },
          "execution_count": 10
        }
      ]
    },
    {
      "cell_type": "markdown",
      "metadata": {
        "id": "jfJ2WdONFvlR"
      },
      "source": [
        "* These numbers can also be written in decimal form using the function __N()__"
      ]
    },
    {
      "cell_type": "code",
      "metadata": {
        "colab": {
          "base_uri": "https://localhost:8080/",
          "height": 37
        },
        "id": "2WiiXEcDF4Qi",
        "outputId": "2e65661c-2c09-44f0-899f-f543af980819"
      },
      "source": [
        "N(Sp_F[0]),N(F.subs(t,Sp_F[0]))"
      ],
      "execution_count": 12,
      "outputs": [
        {
          "output_type": "execute_result",
          "data": {
            "image/png": "[encoded data removed]",
            "text/latex": "$\\displaystyle \\left( -6.77777777777778, \\  205.761316872428\\right)$",
            "text/plain": [
              "(-6.77777777777778, 205.761316872428)"
            ]
          },
          "metadata": {
            "tags": []
          },
          "execution_count": 12
        }
      ]
    },
    {
      "cell_type": "markdown",
      "metadata": {
        "id": "dA7vppsSFHGN"
      },
      "source": [
        "* The second turing point has $(x,y)$-coordinates given by"
      ]
    },
    {
      "cell_type": "code",
      "metadata": {
        "id": "Efhe43jhFHGN",
        "outputId": "6acbb731-37fb-4da4-9235-498f79f99f0e"
      },
      "source": [
        "Sp_F[1],F.subs(t,Sp_F[1])"
      ],
      "execution_count": null,
      "outputs": [
        {
          "output_type": "execute_result",
          "data": {
            "image/png": "[encoded data removed]",
            "text/latex": "$$\\left ( 1, \\quad -500\\right )$$",
            "text/plain": [
              "(1, -500)"
            ]
          },
          "metadata": {
            "tags": []
          },
          "execution_count": 11
        }
      ]
    },
    {
      "cell_type": "markdown",
      "metadata": {
        "id": "IUI03ICBFHGN"
      },
      "source": [
        "### The tangents at the turning points.\n",
        "\n",
        "* The tangent at the turning point $\\left(-\\frac{61}{9},\\frac{50000}{243}\\right)$ is simply the __horizontal line__ at height $\\frac{50000}{243}$.\n",
        "\n",
        "\n",
        "\n",
        "* In other words, the equation of the tangent is:\n",
        "\n",
        "$$y=\\frac{50000}{243}.$$\n",
        "\n",
        "\n",
        "* Similary, the equation of the tangent at the turning point $(1,-500)$ is simply the __horizontal line:__\n",
        "\n",
        "$$y=-500.$$\n",
        "\n",
        "\n",
        "* We can easily plot these on the original graph as follows:"
      ]
    },
    {
      "cell_type": "code",
      "metadata": {
        "colab": {
          "base_uri": "https://localhost:8080/",
          "height": 297
        },
        "id": "JsDdmFKMFHGO",
        "outputId": "c2489309-123a-43d7-d84d-518aa662a9df"
      },
      "source": [
        "plot(F,F.subs(t,Sp_F[0]),F.subs(t,Sp_F[1]), (t,-9,4));\n"
      ],
      "execution_count": 13,
      "outputs": [
        {
          "output_type": "display_data",
          "data": {
            "image/png": "[encoded data removed]",
            "text/plain": [
              "<Figure size 432x288 with 1 Axes>"
            ]
          },
          "metadata": {
            "tags": [],
            "needs_background": "light"
          }
        }
      ]
    },
    {
      "cell_type": "code",
      "metadata": {
        "id": "E-CHKacQFHGO"
      },
      "source": [
        ""
      ],
      "execution_count": null,
      "outputs": []
    },
    {
      "cell_type": "code",
      "metadata": {
        "id": "Ts_sL8iVFHGO"
      },
      "source": [
        ""
      ],
      "execution_count": null,
      "outputs": []
    },
    {
      "cell_type": "markdown",
      "metadata": {
        "id": "YXaAjmaUFHGP"
      },
      "source": [
        "## Exercise 1: \n",
        "\n",
        "Given the function\n",
        "$$\n",
        "G(t)=8t^{3}-66t^{2}-81t+243\n",
        "$$\n",
        "answer the following:\n",
        "\n",
        "1. Plot the function G(t) over the interval $-4<t<10$,\n",
        "\n",
        "2. From this plot, estimate how many tunring points the function will have.\n",
        "\n",
        "3. Use the __solve()__ function to determine the values of $t$ where the function is stationary.\n",
        "\n",
        "4. Use the __subs()__ function to determine the correpsonding $y$-values of the turining points.\n",
        "\n",
        "5. Plot the function and the tangents at the turning point(s)."
      ]
    },
    {
      "cell_type": "code",
      "metadata": {
        "id": "3rmyvx30FHGP"
      },
      "source": [
        ""
      ],
      "execution_count": null,
      "outputs": []
    },
    {
      "cell_type": "code",
      "metadata": {
        "id": "rVbVl-mqFHGQ"
      },
      "source": [
        ""
      ],
      "execution_count": null,
      "outputs": []
    },
    {
      "cell_type": "code",
      "metadata": {
        "id": "cbO3DQTtFHGQ"
      },
      "source": [
        ""
      ],
      "execution_count": null,
      "outputs": []
    },
    {
      "cell_type": "code",
      "metadata": {
        "id": "z9YeJmQVFHGQ"
      },
      "source": [
        ""
      ],
      "execution_count": null,
      "outputs": []
    },
    {
      "cell_type": "markdown",
      "metadata": {
        "id": "gy7HoOOBFHGQ"
      },
      "source": [
        "## Classifying stationary points\n",
        "\n",
        "* Given a function $f(t)$, with turning point $(t_0,f(t_0))$, then the turninig point is classified as follows:\n",
        "\n",
        "    1. $(t_0,f(t_0))$ is a __max (maximum)__ if\n",
        "    $$\n",
        "        \\frac{d^2f}{dt^2}(t_0)<0\n",
        "    $$\n",
        "    \n",
        "    2. $(t_0,f(t_0))$ is a __min (minimum)__ if\n",
        "    $$\n",
        "        \\frac{d^2f}{dt^2}(t_0)>0\n",
        "    $$\n",
        "    \n",
        "    3. $(t_0,f(t_0))$ is a __point of inflection__ if\n",
        "    $$\n",
        "        \\frac{d^2f}{dt^2}(t_0)=0.\n",
        "    $$"
      ]
    },
    {
      "cell_type": "markdown",
      "metadata": {
        "id": "Cr8vIhtaFHGR"
      },
      "source": [
        "## Example 2 - Oil refinery profit\n",
        "\n",
        "The daily profit of an oil refinery is given by the function\n",
        "$$\n",
        "    p(b) = 8b − 0.02b^2,\n",
        "$$\n",
        "\n",
        "where $b$ is the number of barrels (bbl.) of oil refined. \n",
        "\n",
        "1. Plot the profit, and interpret the graph.\n",
        "\n",
        "2. Use __diff()__ and __solve__ to find all possible turning points of $p(b)$.\n",
        "\n",
        "3. Classify these turing points as __max__ or __min__ points.\n",
        "\n",
        "4. Hence find the __maximum daily profit__ of the oil refinery."
      ]
    },
    {
      "cell_type": "markdown",
      "metadata": {
        "id": "tXZ7QVUYFHGR"
      },
      "source": [
        "### Part 1:\n",
        "We create a symbol for $b$, and then define the function $p(b)$."
      ]
    },
    {
      "cell_type": "code",
      "metadata": {
        "id": "KL-5P_DQFHGR",
        "outputId": "cafede68-ef40-473b-e990-90761b2141b2"
      },
      "source": [
        "b=Symbol('b')\n",
        "p=8*b - 0.02*b**2\n",
        "p"
      ],
      "execution_count": null,
      "outputs": [
        {
          "output_type": "execute_result",
          "data": {
            "image/png": "[encoded data removed]",
            "text/latex": "$$- 0.02 b^{2} + 8 b$$",
            "text/plain": [
              "        2      \n",
              "- 0.02⋅b  + 8⋅b"
            ]
          },
          "metadata": {
            "tags": []
          },
          "execution_count": 12
        }
      ]
    },
    {
      "cell_type": "markdown",
      "metadata": {
        "id": "XU1or7MUFHGS"
      },
      "source": [
        "* We can now plot the profit as a function of $b$.\n",
        "\n",
        "\n",
        "* Since $b$ is the number of barrels refined, it does not make much sense to let $b$ be negative, so we plot the function over the interval $0< b< 500$."
      ]
    },
    {
      "cell_type": "code",
      "metadata": {
        "id": "eZ7boItCFHGS",
        "outputId": "7041ea69-93b3-42ee-b205-852bc0b3e223"
      },
      "source": [
        "plot(p,(b,0,500));"
      ],
      "execution_count": null,
      "outputs": [
        {
          "output_type": "display_data",
          "data": {
            "image/png": "[encoded data removed]",
            "text/plain": [
              "<matplotlib.figure.Figure at 0x7fca1a612d50>"
            ]
          },
          "metadata": {
            "tags": []
          }
        }
      ]
    },
    {
      "cell_type": "markdown",
      "metadata": {
        "id": "k3PB_7BrFHGT"
      },
      "source": [
        "* From the graph we see that the __maximim daily profit__ is achieved at about $200$ bbl. per day. If the refinery refines more than 400 bbl. per day the refinery starts to loose money (i.e. negative profits)."
      ]
    },
    {
      "cell_type": "markdown",
      "metadata": {
        "id": "3amLdJ-bFHGT"
      },
      "source": [
        "### Part 2:\n",
        "\n",
        "* Differentiating using __diff()__, we have"
      ]
    },
    {
      "cell_type": "code",
      "metadata": {
        "id": "WUcMnh6MFHGT",
        "outputId": "ce6a593c-d4c8-4ecc-e9e1-a840a82eee61"
      },
      "source": [
        "dp=diff(p,b)\n",
        "dp"
      ],
      "execution_count": null,
      "outputs": [
        {
          "output_type": "execute_result",
          "data": {
            "image/png": "[encoded data removed]",
            "text/latex": "$$- 0.04 b + 8$$",
            "text/plain": [
              "-0.04⋅b + 8"
            ]
          },
          "metadata": {
            "tags": []
          },
          "execution_count": 21
        }
      ]
    },
    {
      "cell_type": "markdown",
      "metadata": {
        "id": "sZQRs_7cFHGU"
      },
      "source": [
        "* Solving for $\\frac{dp}{db}=0$ we have"
      ]
    },
    {
      "cell_type": "code",
      "metadata": {
        "id": "b3dI6uoMFHGU",
        "outputId": "49c17998-4429-4ad5-82da-116498b28a09"
      },
      "source": [
        "Sp_p=solve(dp,b)\n",
        "Sp_p"
      ],
      "execution_count": null,
      "outputs": [
        {
          "output_type": "execute_result",
          "data": {
            "image/png": "[encoded data removed]",
            "text/latex": "$$\\left [ 200.0\\right ]$$",
            "text/plain": [
              "[200.0]"
            ]
          },
          "metadata": {
            "tags": []
          },
          "execution_count": 22
        }
      ]
    },
    {
      "cell_type": "markdown",
      "metadata": {
        "id": "tIncKsdZFHGU"
      },
      "source": [
        "* There is only one turning point at $b=200$."
      ]
    },
    {
      "cell_type": "markdown",
      "metadata": {
        "id": "gXk57PNwFHGU"
      },
      "source": [
        "### Part 3\n",
        "\n",
        "* We find the __second derivative__ by differentiating $\\frac{dp}{db}$:"
      ]
    },
    {
      "cell_type": "code",
      "metadata": {
        "id": "tA1JWYFBFHGV",
        "outputId": "00a5555a-239c-47cc-af56-b82a55046ee7"
      },
      "source": [
        "ddp=diff(dp,b)\n",
        "ddp"
      ],
      "execution_count": null,
      "outputs": [
        {
          "output_type": "execute_result",
          "data": {
            "image/png": "[encoded data removed]",
            "text/latex": "$$-0.04$$",
            "text/plain": [
              "-0.0400000000000000"
            ]
          },
          "metadata": {
            "tags": []
          },
          "execution_count": 23
        }
      ]
    },
    {
      "cell_type": "markdown",
      "metadata": {
        "id": "9n4F9_dPFHGW"
      },
      "source": [
        "* We evaluate the second derivative __ddp__ at the stationary points __Sp_p__, to see whether it is a max or a min"
      ]
    },
    {
      "cell_type": "code",
      "metadata": {
        "id": "65La051xFHGW",
        "outputId": "2f440850-6963-49a6-fd95-febf0c4d96d3"
      },
      "source": [
        "ddp.subs(b,Sp_p[0])"
      ],
      "execution_count": null,
      "outputs": [
        {
          "output_type": "execute_result",
          "data": {
            "image/png": "[encoded data removed]",
            "text/latex": "$$-0.04$$",
            "text/plain": [
              "-0.0400000000000000"
            ]
          },
          "metadata": {
            "tags": []
          },
          "execution_count": 17
        }
      ]
    },
    {
      "cell_type": "markdown",
      "metadata": {
        "id": "hUtur6LuFHGW"
      },
      "source": [
        "* Mathematically, this means\n",
        "\n",
        "\n",
        "$$\n",
        "\\frac{d^2p}{db^2}(200.00)=-0.04<0.\n",
        "$$\n",
        "\n",
        "\n",
        "* Hence the turning point $b=200.00$ is a __maximum__."
      ]
    },
    {
      "cell_type": "markdown",
      "metadata": {
        "id": "hSvTmNmMFHGW"
      },
      "source": [
        "### Part 4\n",
        "\n",
        "* The __maximum profits__ are found by substiuting this turing point into the __original function__:"
      ]
    },
    {
      "cell_type": "code",
      "metadata": {
        "id": "yTp5f6AjFHGX",
        "outputId": "623dc7f7-b3de-4f6c-cd9e-b02109bc466e"
      },
      "source": [
        "p_max=p.subs(b,Sp_p[0])\n",
        "p_max"
      ],
      "execution_count": null,
      "outputs": [
        {
          "output_type": "execute_result",
          "data": {
            "image/png": "[encoded data removed]",
            "text/latex": "$$800.0$$",
            "text/plain": [
              "800.000000000000"
            ]
          },
          "metadata": {
            "tags": []
          },
          "execution_count": 24
        }
      ]
    },
    {
      "cell_type": "markdown",
      "metadata": {
        "id": "2S3k7sclFHGX"
      },
      "source": [
        "## Exercise 2\n",
        "\n",
        "Consider the function \n",
        "$$\n",
        "    f(x) = x(4-x)\n",
        "$$\n",
        "\n",
        "1. Plot the function $f(x)$ and from the graph estimate how many turning points the function will have.\n",
        "\n",
        "2. Use __diff()__ and __solve__ to find all possible turning points of $f(x)$.\n",
        "\n",
        "3. Classify these turing points as __max__ or __min__ points.\n",
        "\n",
        "4. Hence find the __maximum__ and __minimum__ values of the function."
      ]
    },
    {
      "cell_type": "code",
      "metadata": {
        "id": "uIT3YvpNFHGY"
      },
      "source": [
        ""
      ],
      "execution_count": null,
      "outputs": []
    },
    {
      "cell_type": "code",
      "metadata": {
        "id": "1-kRS1NtFHGY"
      },
      "source": [
        ""
      ],
      "execution_count": null,
      "outputs": []
    },
    {
      "cell_type": "code",
      "metadata": {
        "id": "oOVm73RHFHGY"
      },
      "source": [
        ""
      ],
      "execution_count": null,
      "outputs": []
    },
    {
      "cell_type": "code",
      "metadata": {
        "id": "5tgPOc6KFHGY"
      },
      "source": [
        ""
      ],
      "execution_count": null,
      "outputs": []
    },
    {
      "cell_type": "markdown",
      "metadata": {
        "id": "fxvaV-YHFHGZ"
      },
      "source": [
        "## Exercise 3\n",
        "\n",
        "Consider the function \n",
        "$$\n",
        "    g(t) = t^2(8-t^2)\n",
        "$$\n",
        "\n",
        "1. Plot the function $g(t)$ and from the graph estimate how many turning points the funciton will have.\n",
        "\n",
        "2. Use __diff()__ and __solve__ to find all possible turning points of $f(x)$.\n",
        "\n",
        "3. Classify these turing points a __max__ or __min__ points.\n",
        "\n",
        "4. Hence find the __maximum__ and __minimum__ values of the function."
      ]
    },
    {
      "cell_type": "code",
      "metadata": {
        "id": "0wn3e5nJFHGZ"
      },
      "source": [
        ""
      ],
      "execution_count": null,
      "outputs": []
    },
    {
      "cell_type": "code",
      "metadata": {
        "id": "C-R4IaThFHGZ"
      },
      "source": [
        ""
      ],
      "execution_count": null,
      "outputs": []
    },
    {
      "cell_type": "code",
      "metadata": {
        "id": "j_t3ODOyFHGa"
      },
      "source": [
        ""
      ],
      "execution_count": null,
      "outputs": []
    },
    {
      "cell_type": "code",
      "metadata": {
        "id": "6QMXkQCQFHGa"
      },
      "source": [
        ""
      ],
      "execution_count": null,
      "outputs": []
    },
    {
      "cell_type": "markdown",
      "metadata": {
        "id": "sxFohS8bFHGa"
      },
      "source": [
        "## Exercise 4\n",
        "\n",
        "The acceleration of a machine is given by\n",
        "$$\n",
        "    a(r) = \\frac{10r+1}{5r^2+3150}\n",
        "$$\n",
        "\n",
        "where $r$ is the gear ratio. \n",
        "\n",
        "1. Plot the function $a(r)$ and interpret the graph.\n",
        "\n",
        "2. Use __diff()__ and __solve__ to find all possible turning points of $a(r)$.\n",
        "\n",
        "3. Classify these turing points as __max__ or __min__ points.\n",
        "\n",
        "4. Hence find the __maximum__ and __minimum__ accelerations of the machine."
      ]
    },
    {
      "cell_type": "code",
      "metadata": {
        "id": "rTWpMemFFHGb"
      },
      "source": [
        ""
      ],
      "execution_count": null,
      "outputs": []
    },
    {
      "cell_type": "code",
      "metadata": {
        "id": "z4eWefmpFHGb"
      },
      "source": [
        ""
      ],
      "execution_count": null,
      "outputs": []
    },
    {
      "cell_type": "code",
      "metadata": {
        "id": "gfbwbkwcFHGb"
      },
      "source": [
        ""
      ],
      "execution_count": null,
      "outputs": []
    },
    {
      "cell_type": "code",
      "metadata": {
        "id": "t41J8Kd2FHGb"
      },
      "source": [
        ""
      ],
      "execution_count": null,
      "outputs": []
    },
    {
      "cell_type": "markdown",
      "metadata": {
        "id": "YY55At8qFHGc"
      },
      "source": [
        "## Exercise 5\n",
        "The displacement (position) of a moving object at time $t$ is given by\n",
        "$$\n",
        "    D(t) = (1-t^2)e^{-t}\n",
        "$$\n",
        "\n",
        "\n",
        "1. Plot the function $D(t)$ and interpret the graph.\n",
        "\n",
        "2. Use __diff()__ and __solve__ to find all possible turning points of $D(t)$.\n",
        "\n",
        "3. Classify these turing points as __max__ or __min__ points.\n",
        "\n",
        "4. Hence find the __maximum__ and __minimum__ displacement of the particle.\n",
        "\n",
        "\n",
        "__NOTE:__ We may write the function $e^{-t}$ in python as __exp(-t)__"
      ]
    },
    {
      "cell_type": "code",
      "metadata": {
        "id": "eiHhyEP-FHGc"
      },
      "source": [
        ""
      ],
      "execution_count": null,
      "outputs": []
    },
    {
      "cell_type": "code",
      "metadata": {
        "id": "lCiygmUmFHGc"
      },
      "source": [
        ""
      ],
      "execution_count": null,
      "outputs": []
    },
    {
      "cell_type": "code",
      "metadata": {
        "id": "JEhlrRyBFHGc"
      },
      "source": [
        ""
      ],
      "execution_count": null,
      "outputs": []
    },
    {
      "cell_type": "code",
      "metadata": {
        "id": "Iqk2OvXPFHGc"
      },
      "source": [
        ""
      ],
      "execution_count": null,
      "outputs": []
    }
  ]
}