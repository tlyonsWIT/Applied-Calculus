{
  "nbformat": 4,
  "nbformat_minor": 0,
  "metadata": {
    "anaconda-cloud": {},
    "kernelspec": {
      "display_name": "Python 3",
      "language": "python",
      "name": "python3"
    },
    "language_info": {
      "codemirror_mode": {
        "name": "ipython",
        "version": 3
      },
      "file_extension": ".py",
      "mimetype": "text/x-python",
      "name": "python",
      "nbconvert_exporter": "python",
      "pygments_lexer": "ipython3",
      "version": "3.8.3"
    },
    "colab": {
      "name": "Applied Calculus 2021 - Python Workbook 5.ipynb",
      "provenance": [],
      "include_colab_link": true
    }
  },
  "cells": [
    {
      "cell_type": "markdown",
      "metadata": {
        "id": "view-in-github",
        "colab_type": "text"
      },
      "source": [
        "<a href=\"https://colab.research.google.com/github/tlyonsWIT/Applied-Calculus/blob/main/Applied%20Calculus%202021%20-%20Python%20Workbook%205.ipynb\" target=\"_parent\"><img src=\"https://colab.research.google.com/assets/colab-badge.svg\" alt=\"Open In Colab\"/></a>"
      ]
    },
    {
      "cell_type": "markdown",
      "metadata": {
        "id": "Sv91QygY_MOK"
      },
      "source": [
        "### Name:\n",
        "### Student Number:"
      ]
    },
    {
      "cell_type": "markdown",
      "metadata": {
        "id": "hyWijEES_MOT"
      },
      "source": [
        "# Python Workbook 5 - Applications of differentiation\n",
        "\n",
        "## Testing for smoothness\n",
        "\n",
        "\n",
        "* In the first part of this Python workbook we will use the __sympy__ library to test  __piecewise functions__ for __continuity__ and __smoothness.__ \n",
        "\n",
        "\n",
        "* As a first step we import the __sympy__ library in the ususal way. \n",
        "\n",
        "\n",
        "* We will also import the __init_printing__ option from __sympy__ to render the output of each cell in mathematical notation."
      ]
    },
    {
      "cell_type": "code",
      "metadata": {
        "id": "ihcFIdxs_MOV"
      },
      "source": [
        "from sympy import *\n",
        "from sympy import init_printing\n",
        "init_printing()"
      ],
      "execution_count": 1,
      "outputs": []
    },
    {
      "cell_type": "markdown",
      "metadata": {
        "id": "fZ3YyeEA_MOW"
      },
      "source": [
        "## Defining piecewise functions\n",
        "\n",
        "* We can use the __sympy__ function __Piecewise()__ to define a piecewise function.\n",
        "\n",
        "## Example 1: \n",
        "\n",
        "Use the function __Piecewise()__ to define the function\n",
        "$$\n",
        "f(t)=\\begin{cases}\n",
        "        t^2-1, t<3\\\\\n",
        "        2t+5, t\\geq3\n",
        "     \\end{cases}   \n",
        "$$"
      ]
    },
    {
      "cell_type": "markdown",
      "metadata": {
        "id": "Ho8612Ni_MOX"
      },
      "source": [
        "__Solution:__ Before we define the function, we must first define a symbol to represent $t$, in the usual way:"
      ]
    },
    {
      "cell_type": "code",
      "metadata": {
        "colab": {
          "base_uri": "https://localhost:8080/",
          "height": 39
        },
        "id": "a50sENZI_MOY",
        "outputId": "4d7f8b5f-59a3-4206-c069-cd74ca7f2f41"
      },
      "source": [
        "t=symbols('t',real=True)\n",
        "t"
      ],
      "execution_count": 2,
      "outputs": [
        {
          "output_type": "execute_result",
          "data": {
            "image/png": "[encoded data removed]",
            "text/latex": "$\\displaystyle t$",
            "text/plain": [
              "t"
            ]
          },
          "metadata": {
            "tags": []
          },
          "execution_count": 2
        }
      ]
    },
    {
      "cell_type": "markdown",
      "metadata": {
        "id": "LSUNVm8h_MOa"
      },
      "source": [
        "* Now we define the function $f(t)$ using __Piecewise()__"
      ]
    },
    {
      "cell_type": "code",
      "metadata": {
        "colab": {
          "base_uri": "https://localhost:8080/",
          "height": 68
        },
        "id": "p1wg-j8h_MOb",
        "outputId": "62979861-f661-4055-cb5d-2f40ad07c20e"
      },
      "source": [
        "f=Piecewise((t**2-1,t<3), (2*t+5,t>=3))\n",
        "f"
      ],
      "execution_count": 3,
      "outputs": [
        {
          "output_type": "execute_result",
          "data": {
            "text/latex": "$\\displaystyle \\begin{cases} t^{2} - 1 & \\text{for}\\: t < 3 \\\\2 t + 5 & \\text{otherwise} \\end{cases}$",
            "text/plain": [
              "⎧ 2                \n",
              "⎪t  - 1   for t < 3\n",
              "⎨                  \n",
              "⎪2⋅t + 5  otherwise\n",
              "⎩                  "
            ]
          },
          "metadata": {
            "tags": []
          },
          "execution_count": 3
        }
      ]
    },
    {
      "cell_type": "markdown",
      "metadata": {
        "id": "btU9BNTB_MOc"
      },
      "source": [
        "* Note that each part of the piecewise function and its domain are contained within their own set of brackets within the __Piecewise()__ function. "
      ]
    },
    {
      "cell_type": "markdown",
      "metadata": {
        "id": "ToFebcxi_MOd"
      },
      "source": [
        "### Exercise 1:\n",
        "\n",
        "* Use __Piecewise()__ to define the following piecewise function\n",
        "$$\n",
        "g(x)=\\begin{cases}\n",
        "        4x+3, x<-2\\\\\n",
        "        x^2-3,x\\geq -2.\n",
        "     \\end{cases}   \n",
        "$$\n",
        "\n",
        "__Note:__ You must define the symbol $x$ first!!"
      ]
    },
    {
      "cell_type": "code",
      "metadata": {
        "id": "gIY18ody_MOe"
      },
      "source": [
        ""
      ],
      "execution_count": null,
      "outputs": []
    },
    {
      "cell_type": "code",
      "metadata": {
        "id": "WFgz0mUo_MOf"
      },
      "source": [
        ""
      ],
      "execution_count": null,
      "outputs": []
    },
    {
      "cell_type": "code",
      "metadata": {
        "id": "Y4z3kA48_MOf"
      },
      "source": [
        ""
      ],
      "execution_count": null,
      "outputs": []
    },
    {
      "cell_type": "markdown",
      "metadata": {
        "id": "HkqDOd0B_MOg"
      },
      "source": [
        "## Testing for continuity\n",
        "\n",
        "A function $f(t)$ is defined to be continuous at $t=t_0$ if\n",
        "\n",
        "1. The left-hand and right-hand limits at $t_0$ are equal to some value $L$, i.e.\n",
        "$$\n",
        " \\lim_{t\\to t_0^{-}}f(t)=\\lim_{t\\to t_{0}^{+}}f(t)= L\\\\\n",
        "$$\n",
        "2. If the value of the function at $t_0$ is equal to this limit $L$, i.e.\n",
        "$$\n",
        "f(t_0)=L\n",
        "$$"
      ]
    },
    {
      "cell_type": "markdown",
      "metadata": {
        "id": "J2H3kW7J_MOg"
      },
      "source": [
        "### Example 2: \n",
        "\n",
        "Test the function $f(t)$ defined in __Example 1__ to see if it is continuous (__cns.__) at $t=3$"
      ]
    },
    {
      "cell_type": "markdown",
      "metadata": {
        "id": "pwwYdvN3_MOh"
      },
      "source": [
        "__Solution:__ We can use the __limit()__ function from __sympy__ to evaluate these left and right-hand limits at $t=3$.\n",
        "\n",
        "* We evaluate the __left-hand limit__\n",
        "$$\n",
        "\\lim_{t\\to3^{-}}f(t)\n",
        "$$\n",
        "using __limit()__ as follows:"
      ]
    },
    {
      "cell_type": "code",
      "metadata": {
        "colab": {
          "base_uri": "https://localhost:8080/",
          "height": 37
        },
        "id": "-g0Djpcp_MOh",
        "outputId": "89d0e794-7f01-4804-d03d-09ebdd9efab6"
      },
      "source": [
        "limit(f,t,3,'-')"
      ],
      "execution_count": 4,
      "outputs": [
        {
          "output_type": "execute_result",
          "data": {
            "image/png": "[encoded data removed]",
            "text/latex": "$\\displaystyle 8$",
            "text/plain": [
              "8"
            ]
          },
          "metadata": {
            "tags": []
          },
          "execution_count": 4
        }
      ]
    },
    {
      "cell_type": "markdown",
      "metadata": {
        "id": "yE3piQEo_MOi"
      },
      "source": [
        "* Hence the __left-hand limit__ is 8.\n",
        "\n",
        "\n",
        "\n",
        "* Similarly, the __right-hand limit__\n",
        "$$\n",
        "\\lim_{t\\to3^+}f(t)\n",
        "$$\n",
        "is evaluated using "
      ]
    },
    {
      "cell_type": "code",
      "metadata": {
        "colab": {
          "base_uri": "https://localhost:8080/",
          "height": 37
        },
        "id": "C9BtGypc_MOi",
        "outputId": "0357cfec-e2de-49ae-c875-94c7ed82e960"
      },
      "source": [
        "limit(f,t,3,'+')"
      ],
      "execution_count": 5,
      "outputs": [
        {
          "output_type": "execute_result",
          "data": {
            "image/png": "[encoded data removed]",
            "text/latex": "$\\displaystyle 11$",
            "text/plain": [
              "11"
            ]
          },
          "metadata": {
            "tags": []
          },
          "execution_count": 5
        }
      ]
    },
    {
      "cell_type": "markdown",
      "metadata": {
        "id": "Bk4CnY_Z_MOi"
      },
      "source": [
        "* Hence the __right-hand limit__ is 11.\n",
        "\n",
        "\n",
        "* Since the left-hand and right-hand limits of $f(t)$ __are not equal__ at $t=3$, the function is not continuous at $t=3$\n",
        "\n",
        "\n",
        "* We already know the function is not continuous at $t=3$, but for the sake of it, the value of the function at $t=3$ is eavluated using __f.subs()__ as follows:"
      ]
    },
    {
      "cell_type": "code",
      "metadata": {
        "colab": {
          "base_uri": "https://localhost:8080/",
          "height": 37
        },
        "id": "QVX_za-__MOk",
        "outputId": "a8379888-5ae3-4024-e2f2-a3603cc1f9dd"
      },
      "source": [
        "f.subs(t,3)"
      ],
      "execution_count": 6,
      "outputs": [
        {
          "output_type": "execute_result",
          "data": {
            "image/png": "[encoded data removed]",
            "text/latex": "$\\displaystyle 11$",
            "text/plain": [
              "11"
            ]
          },
          "metadata": {
            "tags": []
          },
          "execution_count": 6
        }
      ]
    },
    {
      "cell_type": "markdown",
      "metadata": {
        "id": "a1ivE2nG_MOk"
      },
      "source": [
        "## Exercise 2:\n",
        "\n",
        "Test the function $g(x)$ given in __Exercise 1__ for continuity at $x=-2$."
      ]
    },
    {
      "cell_type": "code",
      "metadata": {
        "id": "nHHjRJrG_MOk"
      },
      "source": [
        ""
      ],
      "execution_count": null,
      "outputs": []
    },
    {
      "cell_type": "code",
      "metadata": {
        "id": "igG_YWF-_MOk"
      },
      "source": [
        ""
      ],
      "execution_count": null,
      "outputs": []
    },
    {
      "cell_type": "code",
      "metadata": {
        "id": "5UjQgiwV_MOl"
      },
      "source": [
        ""
      ],
      "execution_count": null,
      "outputs": []
    },
    {
      "cell_type": "code",
      "metadata": {
        "id": "8ci6sb6r_MOl"
      },
      "source": [
        ""
      ],
      "execution_count": null,
      "outputs": []
    },
    {
      "cell_type": "markdown",
      "metadata": {
        "id": "zeK6ERrc_MOm"
      },
      "source": [
        "## Testing for smoothness\n",
        "A function $f(t)$ is smooth at $t=t_0$ if the following conditions are met:\n",
        "\n",
        "__(1)__ The function is cns. at $t=t_0$.\n",
        "\n",
        "\n",
        "\n",
        "__(2)__ If the left-hand and right-hand limits of the derivative at $t=t_0$ match, i.e.\n",
        "\n",
        "$$\n",
        "\\lim_{t\\to t_{0}^{-}}\\frac{df}{dt}(t)=\\lim_{t\\to t_{0}^{+}}\\frac{df}{dt}(t)\n",
        "$$"
      ]
    },
    {
      "cell_type": "markdown",
      "metadata": {
        "id": "EvqYyORc_MOm"
      },
      "source": [
        "## Example 3:\n",
        "\n",
        "Given the piecewise function\n",
        "\n",
        "$$\n",
        "p(t)=\\begin{cases}\n",
        "      6t-7, t<3\\\\\n",
        "      t^2+2,t\\geq 3\n",
        "     \\end{cases}   \n",
        "$$\n",
        "answer the following:\n",
        "\n",
        "__(1)__ Plot the graph of $p(t)$.\n",
        "\n",
        "\n",
        "__(2)__ Test $p(t)$ for continuity at $t=3$.\n",
        "\n",
        "\n",
        "__(3)__ Test $p(t)$ for smoothness at $t=3$.\n",
        "\n",
        "\n",
        "__(4)__ Does this agree with your graph from Part 1?"
      ]
    },
    {
      "cell_type": "markdown",
      "metadata": {
        "id": "a1HnJp3P_MOm"
      },
      "source": [
        "__Part 1__ First we define the function $p(t)$ and then plot it:"
      ]
    },
    {
      "cell_type": "code",
      "metadata": {
        "colab": {
          "base_uri": "https://localhost:8080/",
          "height": 68
        },
        "id": "8qHBGQwP_MOm",
        "outputId": "9ddf6943-3949-4df3-8752-49f167872819"
      },
      "source": [
        "p=Piecewise((6*t-7,t<3),(t**2+2,t>=3))\n",
        "p"
      ],
      "execution_count": 20,
      "outputs": [
        {
          "output_type": "execute_result",
          "data": {
            "text/latex": "$\\displaystyle \\begin{cases} 6 t - 7 & \\text{for}\\: t < 3 \\\\t^{2} + 2 & \\text{otherwise} \\end{cases}$",
            "text/plain": [
              "⎧6⋅t - 7  for t < 3\n",
              "⎪                  \n",
              "⎨ 2                \n",
              "⎪t  + 2   otherwise\n",
              "⎩                  "
            ]
          },
          "metadata": {
            "tags": []
          },
          "execution_count": 20
        }
      ]
    },
    {
      "cell_type": "markdown",
      "metadata": {
        "id": "dpWSbwJP_MOm"
      },
      "source": [
        "* We will plot the function over the interval $0\\leq t\\leq 6$, so that the point $t=3$ is in the centre of our plot.\n",
        "\n"
      ]
    },
    {
      "cell_type": "code",
      "metadata": {
        "colab": {
          "base_uri": "https://localhost:8080/",
          "height": 315
        },
        "id": "4l-L93xI_MOm",
        "outputId": "73f2cab1-3f8b-4c46-fe11-347256de34bb"
      },
      "source": [
        "plot(p, (t,0,6))"
      ],
      "execution_count": 22,
      "outputs": [
        {
          "output_type": "display_data",
          "data": {
            "image/png": "[encoded data removed]",
            "text/plain": [
              "<Figure size 432x288 with 1 Axes>"
            ]
          },
          "metadata": {
            "tags": [],
            "needs_background": "light"
          }
        },
        {
          "output_type": "execute_result",
          "data": {
            "text/plain": [
              "<sympy.plotting.plot.Plot at 0x7f3b346cb9d0>"
            ]
          },
          "metadata": {
            "tags": []
          },
          "execution_count": 22
        }
      ]
    },
    {
      "cell_type": "markdown",
      "metadata": {
        "id": "NzmFrVh__MOo"
      },
      "source": [
        "__Part 2__ From the graph, it appears the function is cns. at $t=3$, but we will confirm this like we did in __Example 2:__"
      ]
    },
    {
      "cell_type": "code",
      "metadata": {
        "id": "laxOh1Tp_MOp",
        "outputId": "4c1bc8c0-17ae-4931-cd4b-f6dd723c04ea"
      },
      "source": [
        "limit(p,t,3,'-'),limit(p,t,3,'+'),p.subs(t,3)"
      ],
      "execution_count": null,
      "outputs": [
        {
          "output_type": "execute_result",
          "data": {
            "image/png": "[encoded data removed]",
            "text/latex": "$\\displaystyle \\left( 11, \\  11, \\  11\\right)$",
            "text/plain": [
              "(11, 11, 11)"
            ]
          },
          "metadata": {
            "tags": []
          },
          "execution_count": 7
        }
      ]
    },
    {
      "cell_type": "markdown",
      "metadata": {
        "id": "BNcLaFVA_MOp"
      },
      "source": [
        "* The left hand limit of $p(t)$ at $t=3$ is 11.\n",
        "\n",
        "\n",
        "* The right hand limit of $p(t)$ at $t=3$ is 11.\n",
        "\n",
        "\n",
        "* The value of $p(t)$ at $t=3$ is 11.\n",
        "\n",
        "\n",
        "* Hence the function is continuous at $t=3$, which agrees with the graph above."
      ]
    },
    {
      "cell_type": "markdown",
      "metadata": {
        "id": "d1sR24dO_MOq"
      },
      "source": [
        "__Part 3__  The derivative of $p(t)$ is obtained using the function __diff()__ in the usual way"
      ]
    },
    {
      "cell_type": "code",
      "metadata": {
        "id": "1PjGna3N_MOq",
        "outputId": "9f383979-0e4c-48d9-e71b-67ca10241b18"
      },
      "source": [
        "dp=diff(p,t)\n",
        "dp"
      ],
      "execution_count": null,
      "outputs": [
        {
          "output_type": "execute_result",
          "data": {
            "image/png": "[encoded data removed]",
            "text/latex": "$\\displaystyle \\begin{cases} 6 & \\text{for}\\: t < 3 \\\\2 t & \\text{otherwise} \\end{cases}$",
            "text/plain": [
              "⎧ 6   for t < 3\n",
              "⎨              \n",
              "⎩2⋅t  otherwise"
            ]
          },
          "metadata": {
            "tags": []
          },
          "execution_count": 8
        }
      ]
    },
    {
      "cell_type": "markdown",
      "metadata": {
        "id": "ND_-YR1E_MOq"
      },
      "source": [
        "The left-hand and right-hand limits of this derivative at $t=3$ are now given by"
      ]
    },
    {
      "cell_type": "code",
      "metadata": {
        "id": "efPp6sid_MO0",
        "outputId": "674167b7-02cd-4870-a391-d4ea8d2d4c22"
      },
      "source": [
        "limit(dp,t,3,'-'), limit(dp,t,3,'+'), dp.subs(t,3)"
      ],
      "execution_count": null,
      "outputs": [
        {
          "output_type": "execute_result",
          "data": {
            "image/png": "[encoded data removed]",
            "text/latex": "$\\displaystyle \\left( 6, \\  6, \\  6\\right)$",
            "text/plain": [
              "(6, 6, 6)"
            ]
          },
          "metadata": {
            "tags": []
          },
          "execution_count": 9
        }
      ]
    },
    {
      "cell_type": "markdown",
      "metadata": {
        "id": "7XnAPL7I_MO1"
      },
      "source": [
        "* The left-hand limit of $\\frac{dp}{dt}$ at $t=3$ is 6.\n",
        "\n",
        "\n",
        "* The right-hand limit of $\\frac{dp}{dt}$ at $t=3$ is also $6$.\n",
        "\n",
        "\n",
        "* The value of $\\frac{dp}{dt}$ at $t=3$ is also $6$.\n",
        "\n",
        "\n",
        "* Hence the derivative $\\frac{dp}{dt}$ is continuos at $t=3$."
      ]
    },
    {
      "cell_type": "markdown",
      "metadata": {
        "id": "siNw-XsO_MO2"
      },
      "source": [
        "__Part 4__ \n",
        "\n",
        "* Since the graph of $p(t)$ does not suddenly jump in value at $t=3$, it is continuous there. \n",
        "\n",
        "\n",
        "* Secondly, since there are no sharp corners in the graph of $p(t)$ at $t=3$, we also expect the function to be smooth at that point.\n",
        "\n",
        "\n",
        "* This is exactly what we found in __Part 2__ and __Part 3__ respectively. "
      ]
    },
    {
      "cell_type": "markdown",
      "metadata": {
        "id": "DV20nFCR_MO2"
      },
      "source": [
        "## Exercise 3:\n",
        "\n",
        "Given the piecewise function\n",
        "\n",
        "$$\n",
        "Q(x)=\\begin{cases}\n",
        "      5x+1, x<0\\\\\n",
        "      x^2+2,x\\geq 0\n",
        "     \\end{cases}   \n",
        "$$\n",
        "answer the following:\n",
        "\n",
        "\n",
        "__(1)__ Test $Q(x)$ for continuity at $x=0$.\n",
        "\n",
        "\n",
        "__(2)__ Test $Q(x)$ for smoothness at $x=0$.\n",
        "\n",
        "\n",
        "__(3)__ Plot the function $Q(x)$ for $-5\\leq x\\leq 5$.\n",
        " "
      ]
    },
    {
      "cell_type": "code",
      "metadata": {
        "id": "wEqNWLx8_MO2"
      },
      "source": [
        ""
      ],
      "execution_count": null,
      "outputs": []
    },
    {
      "cell_type": "code",
      "metadata": {
        "id": "y-liGPgV_MO2"
      },
      "source": [
        ""
      ],
      "execution_count": null,
      "outputs": []
    },
    {
      "cell_type": "code",
      "metadata": {
        "id": "qaFuCllE_MO3"
      },
      "source": [
        ""
      ],
      "execution_count": null,
      "outputs": []
    },
    {
      "cell_type": "code",
      "metadata": {
        "id": "r95tzX62_MO3"
      },
      "source": [
        ""
      ],
      "execution_count": null,
      "outputs": []
    },
    {
      "cell_type": "markdown",
      "metadata": {
        "id": "T7zP0pXB_MO3"
      },
      "source": [
        "## Position, velocity and acceleration\n",
        "\n",
        "* When describing the motion of a particle or object, we often write the position of the particle as a function __parameterised__ by time, in other words as a function of $t$, e.g. $s(t)$.\n",
        "\n",
        "\n",
        "* Once we have this function, we can tell several things about the particle's motion, using derivatives.\n",
        "\n",
        "\n",
        "* The __velocity__ of the particle is the __first-derivative__ of the position, i.e.\n",
        "$$\n",
        "v(t)=\\frac{ds}{dt}.\n",
        "$$\n",
        "\n",
        "* The __acceleration__ of the particle is the __second-derivative__ of the position, i.e.\n",
        "$$\n",
        "a(t)=\\frac{d^2s}{dt^2}.\n",
        "$$\n",
        "\n",
        "* Alternatively, the accleration can be written as the first derivative of the velocity, both give the same result."
      ]
    },
    {
      "cell_type": "markdown",
      "metadata": {
        "id": "OFMMxzlB_MO3"
      },
      "source": [
        "## Example 4:\n",
        "\n",
        "The position of a particle is given by the function\n",
        "$$\n",
        "s(t)=t^3-8t+9.\n",
        "$$\n",
        "Using this, answer the following:\n",
        "\n",
        "__(1)__ Determine the position of the particle at time $t=0$ and $t=3$.\n",
        "\n",
        "\n",
        "__(2)__ Find an expression for the velocity of the particle. Hence evaluate the velocity at $t=1$ and $t=5$.\n",
        "\n",
        "\n",
        "__(3)__ Find an expression for the acceleration of the particle. Hence evaluate the acceleration at $t=3$ and $t=8$.\n",
        "\n",
        "\n",
        "\n",
        "__(4)__ Use the __sympy__ function __solve()__ to determine when the velocity is $0$.\n",
        "\n",
        "\n",
        "\n",
        "__(5)__ Use __solve()__ to determine the time when the acceleration is $4$.\n",
        "\n",
        "\n",
        "\n",
        "__(6)__ Plot the graph of the position, velocity and accleration. \n",
        "\n",
        "A list of Python colours is available at __https://matplotlib.org/examples/color/named_colors.html__"
      ]
    },
    {
      "cell_type": "markdown",
      "metadata": {
        "id": "tLz-aZ-B_MO4"
      },
      "source": [
        "__Part 1__ The postion is given by the function"
      ]
    },
    {
      "cell_type": "code",
      "metadata": {
        "colab": {
          "base_uri": "https://localhost:8080/",
          "height": 39
        },
        "id": "jfkA5amH_MO5",
        "outputId": "c05eba21-b815-43e0-d4be-aee3d3fbf9b4"
      },
      "source": [
        "s=t**3-8*t+9\n",
        "s"
      ],
      "execution_count": 9,
      "outputs": [
        {
          "output_type": "execute_result",
          "data": {
            "image/png": "[encoded data removed]",
            "text/latex": "$\\displaystyle t^{3} - 8 t + 9$",
            "text/plain": [
              " 3          \n",
              "t  - 8⋅t + 9"
            ]
          },
          "metadata": {
            "tags": []
          },
          "execution_count": 9
        }
      ]
    },
    {
      "cell_type": "markdown",
      "metadata": {
        "id": "PghXkpsz_MO5"
      },
      "source": [
        "The postion of the perticle at $t=0$ and $t=3$ is "
      ]
    },
    {
      "cell_type": "code",
      "metadata": {
        "colab": {
          "base_uri": "https://localhost:8080/",
          "height": 37
        },
        "id": "U6-5VSWr_MO6",
        "outputId": "ae479cbe-5353-416a-8219-b8ea5d349314"
      },
      "source": [
        "s.subs(t,0), s.subs(t,3)"
      ],
      "execution_count": 10,
      "outputs": [
        {
          "output_type": "execute_result",
          "data": {
            "image/png": "[encoded data removed]",
            "text/latex": "$\\displaystyle \\left( 9, \\  12\\right)$",
            "text/plain": [
              "(9, 12)"
            ]
          },
          "metadata": {
            "tags": []
          },
          "execution_count": 10
        }
      ]
    },
    {
      "cell_type": "markdown",
      "metadata": {
        "id": "7wCTSp2R_MO7"
      },
      "source": [
        "__Part 2__ The velocity is given by the derivative of the position:"
      ]
    },
    {
      "cell_type": "code",
      "metadata": {
        "colab": {
          "base_uri": "https://localhost:8080/",
          "height": 39
        },
        "id": "6sBUwj-B_MO7",
        "outputId": "3a178916-52fe-483f-aa5d-cbeb99567e2b"
      },
      "source": [
        "v=diff(s,t)\n",
        "v"
      ],
      "execution_count": 11,
      "outputs": [
        {
          "output_type": "execute_result",
          "data": {
            "image/png": "[encoded data removed]",
            "text/latex": "$\\displaystyle 3 t^{2} - 8$",
            "text/plain": [
              "   2    \n",
              "3⋅t  - 8"
            ]
          },
          "metadata": {
            "tags": []
          },
          "execution_count": 11
        }
      ]
    },
    {
      "cell_type": "markdown",
      "metadata": {
        "id": "YdOEhlQw_MO7"
      },
      "source": [
        "The velocity at $t=1$ and $t=5$ is given by"
      ]
    },
    {
      "cell_type": "code",
      "metadata": {
        "colab": {
          "base_uri": "https://localhost:8080/",
          "height": 37
        },
        "id": "RWIIvmY0_MO7",
        "outputId": "4d70d80a-b943-46a5-e80f-712b2bc0855f"
      },
      "source": [
        "v.subs(t,1), v.subs(t,5)"
      ],
      "execution_count": 12,
      "outputs": [
        {
          "output_type": "execute_result",
          "data": {
            "image/png": "[encoded data removed]",
            "text/latex": "$\\displaystyle \\left( -5, \\  67\\right)$",
            "text/plain": [
              "(-5, 67)"
            ]
          },
          "metadata": {
            "tags": []
          },
          "execution_count": 12
        }
      ]
    },
    {
      "cell_type": "markdown",
      "metadata": {
        "id": "U7NPrBgL_MO7"
      },
      "source": [
        "__Part 3__ The accleration is given by the second derivative of $s$, i.e."
      ]
    },
    {
      "cell_type": "code",
      "metadata": {
        "colab": {
          "base_uri": "https://localhost:8080/",
          "height": 39
        },
        "id": "P-N0Insa_MO9",
        "outputId": "d6d6c614-3aaf-4988-e4d3-2fedbcb5df9a"
      },
      "source": [
        "a=diff(s,t,2)\n",
        "a"
      ],
      "execution_count": 13,
      "outputs": [
        {
          "output_type": "execute_result",
          "data": {
            "image/png": "[encoded data removed]",
            "text/latex": "$\\displaystyle 6 t$",
            "text/plain": [
              "6⋅t"
            ]
          },
          "metadata": {
            "tags": []
          },
          "execution_count": 13
        }
      ]
    },
    {
      "cell_type": "markdown",
      "metadata": {
        "id": "Yt9RZoPL_MO9"
      },
      "source": [
        "The accleration at $t=3$ and $t=8$ is "
      ]
    },
    {
      "cell_type": "code",
      "metadata": {
        "colab": {
          "base_uri": "https://localhost:8080/",
          "height": 37
        },
        "id": "KRB6rcli_MO-",
        "outputId": "0aaea14c-bce1-428d-ff40-dd2e15f9b686"
      },
      "source": [
        "a.subs(t,3), a.subs(t,8)"
      ],
      "execution_count": 14,
      "outputs": [
        {
          "output_type": "execute_result",
          "data": {
            "image/png": "[encoded data removed]",
            "text/latex": "$\\displaystyle \\left( 18, \\  48\\right)$",
            "text/plain": [
              "(18, 48)"
            ]
          },
          "metadata": {
            "tags": []
          },
          "execution_count": 14
        }
      ]
    },
    {
      "cell_type": "markdown",
      "metadata": {
        "id": "GyLc2U8J_MO-"
      },
      "source": [
        "__Part 4__\n",
        "\n",
        "* The sympy function __solve(f(x),x)__ will find all possible values of $x$ such that $f(x)=0$.\n",
        "\n",
        "\n",
        "* If we want to find all values of $x$ where $f(x)=K$, then use __solve(f(x)-K,x)__, i.e. we solve for $f(x)-K=0$!"
      ]
    },
    {
      "cell_type": "code",
      "metadata": {
        "colab": {
          "base_uri": "https://localhost:8080/",
          "height": 68
        },
        "id": "h4nnyDDb_MO_",
        "outputId": "58fc032a-b07e-4e6f-db8d-86995548d872"
      },
      "source": [
        "solve(v,t)"
      ],
      "execution_count": 15,
      "outputs": [
        {
          "output_type": "execute_result",
          "data": {
            "image/png": "[encoded data removed]",
            "text/latex": "$\\displaystyle \\left[ - \\frac{2 \\sqrt{6}}{3}, \\  \\frac{2 \\sqrt{6}}{3}\\right]$",
            "text/plain": [
              "⎡-2⋅√6   2⋅√6⎤\n",
              "⎢──────, ────⎥\n",
              "⎣  3      3  ⎦"
            ]
          },
          "metadata": {
            "tags": []
          },
          "execution_count": 15
        }
      ]
    },
    {
      "cell_type": "markdown",
      "metadata": {
        "collapsed": true,
        "id": "-mvCgwNY_MO_"
      },
      "source": [
        "These are the two values of $t$ where the velocity of the particle is __zero__"
      ]
    },
    {
      "cell_type": "markdown",
      "metadata": {
        "id": "yfb5GdL6_MO_"
      },
      "source": [
        "__Part 5__\n",
        "\n",
        "The accleration is $4$ when "
      ]
    },
    {
      "cell_type": "code",
      "metadata": {
        "colab": {
          "base_uri": "https://localhost:8080/",
          "height": 58
        },
        "id": "W5O5wwwy_MO_",
        "outputId": "e7b5f964-1db5-43cb-ead6-71e011e9ef47"
      },
      "source": [
        "solve(a-4,t)"
      ],
      "execution_count": 16,
      "outputs": [
        {
          "output_type": "execute_result",
          "data": {
            "image/png": "[encoded data removed]",
            "text/latex": "$\\displaystyle \\left[ \\frac{2}{3}\\right]$",
            "text/plain": [
              "[2/3]"
            ]
          },
          "metadata": {
            "tags": []
          },
          "execution_count": 16
        }
      ]
    },
    {
      "cell_type": "markdown",
      "metadata": {
        "id": "T9HpvSLD_MO_"
      },
      "source": [
        "__Part 6__ The plots of the position, velocity and accleration are given by"
      ]
    },
    {
      "cell_type": "code",
      "metadata": {
        "colab": {
          "base_uri": "https://localhost:8080/",
          "height": 297
        },
        "id": "AYxZ4m7K_MO_",
        "outputId": "c85c9d05-3fcf-4067-a341-d9cc4e374926"
      },
      "source": [
        "P2=plot(s,v,a,(t,-4,3), show=False)\n",
        "P2[0].line_color = 'cornflowerblue'\n",
        "P2[1].line_color = 'darkslategray'\n",
        "P2[2].line_color = 'sienna'\n",
        "P2.show()"
      ],
      "execution_count": 17,
      "outputs": [
        {
          "output_type": "display_data",
          "data": {
            "image/png": "[encoded data removed]",
            "text/plain": [
              "<Figure size 432x288 with 1 Axes>"
            ]
          },
          "metadata": {
            "tags": [],
            "needs_background": "light"
          }
        }
      ]
    },
    {
      "cell_type": "markdown",
      "metadata": {
        "id": "rKWRfcU8_MO_"
      },
      "source": [
        "### Exercise 4\n",
        "The displacement (position) of a particle at time $t$ is given by\n",
        "$$\n",
        "    D(t) = 4t^3-16t^2+25.\n",
        "$$\n",
        "Using this, answer the following:\n",
        "\n",
        "__(1)__  Determine the position of the particle at time $t=-3$ and $t=3$.\n",
        "\n",
        "\n",
        "__(2)__ Find an expression for the velocity of the particle. Hence evaluate the velocity at $t=-1$ and $t=6$.\n",
        "\n",
        "\n",
        "__(3)__ Find an expression for the acceleration of the particle. Hence evaluate the acceleration at $t=-2$ and $t=4$.\n",
        "\n",
        "\n",
        "__(4)__ Use the __sympy__ function __solve()__ to determine when the velocity is $8$.\n",
        "\n",
        "\n",
        "__(5)__ Use __solve()__ to determine the time when the acceleration is $6$.\n",
        "\n",
        "\n",
        "__(6)__ Plot the graph of the position, velocity and accleration."
      ]
    },
    {
      "cell_type": "code",
      "metadata": {
        "id": "vPVaPLJY_MPA"
      },
      "source": [
        ""
      ],
      "execution_count": null,
      "outputs": []
    },
    {
      "cell_type": "code",
      "metadata": {
        "id": "TjGFbwKG_MPA"
      },
      "source": [
        ""
      ],
      "execution_count": null,
      "outputs": []
    },
    {
      "cell_type": "code",
      "metadata": {
        "id": "MDu4RAZN_MPB"
      },
      "source": [
        ""
      ],
      "execution_count": null,
      "outputs": []
    },
    {
      "cell_type": "code",
      "metadata": {
        "id": "t6PRCCOl_MPB"
      },
      "source": [
        ""
      ],
      "execution_count": null,
      "outputs": []
    },
    {
      "cell_type": "code",
      "metadata": {
        "id": "9DaGZAzt_MPB"
      },
      "source": [
        ""
      ],
      "execution_count": null,
      "outputs": []
    },
    {
      "cell_type": "code",
      "metadata": {
        "id": "gVJFfPD__MPC"
      },
      "source": [
        ""
      ],
      "execution_count": null,
      "outputs": []
    }
  ]
}