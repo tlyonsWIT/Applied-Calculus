{
  "nbformat": 4,
  "nbformat_minor": 0,
  "metadata": {
    "kernelspec": {
      "display_name": "Python 2",
      "language": "python",
      "name": "python2"
    },
    "language_info": {
      "codemirror_mode": {
        "name": "ipython",
        "version": 2
      },
      "file_extension": ".py",
      "mimetype": "text/x-python",
      "name": "python",
      "nbconvert_exporter": "python",
      "pygments_lexer": "ipython2",
      "version": "2.7.17"
    },
    "colab": {
      "name": "Applied Calculus 2021 - Python Workbook 7.ipynb",
      "provenance": [],
      "include_colab_link": true
    }
  },
  "cells": [
    {
      "cell_type": "markdown",
      "metadata": {
        "id": "view-in-github",
        "colab_type": "text"
      },
      "source": [
        "<a href=\"https://colab.research.google.com/github/tlyonsWIT/Applied-Calculus/blob/main/Applied%20Calculus%202021%20-%20Python%20Workbook%207.ipynb\" target=\"_parent\"><img src=\"https://colab.research.google.com/assets/colab-badge.svg\" alt=\"Open In Colab\"/></a>"
      ]
    },
    {
      "cell_type": "markdown",
      "metadata": {
        "id": "5DkAxPp7Qd0e"
      },
      "source": [
        "### Name:\n",
        "### Student Number:"
      ]
    },
    {
      "cell_type": "markdown",
      "metadata": {
        "id": "isUr01YjQd0l"
      },
      "source": [
        "# Python Workbook 7 - Integration\n",
        "\n",
        "## Introduction\n",
        "\n",
        "In this practical we will use Python to study integration and some of its applications (average value, area, etc).\n",
        " \n",
        "## Mathematical Concepts\n",
        "\n",
        " * The __indefinite integral__ (or __anti-derivative__) of a function, $f(x)$, is the function $F(x)$ defined by\n",
        "$$\n",
        "   \\frac{dF}{dx} = f(x),\n",
        "$$\n",
        "where the function $F(x)$ is found by integrating $f(x)$\n",
        "$$\n",
        " F(x) = \\int f(x) dx + C      \\implies \n",
        "$$\n",
        "where $C$ is an arbitrary constant called an __integration constant__.\n",
        "\n",
        "\n",
        " * The __definite integral__ of a function, $f(x)$, is the *number*, $A$, defined by\n",
        "$$\n",
        "    A = \\int_a^b f(x) dx \n",
        "$$\n",
        "and **if** $f(x)\\ge 0$ then the definite integral is equal to the area between the function and the x-axis over the interval $x=a$ to $x=b$.\n",
        "\n",
        " \n",
        "### Python Functions\n",
        "\n",
        " * In this workbook we will use the following functions from the  symbolic python module __sympy__: \n",
        "    * __symbols__ or (better) __Symbol__ used to define a symbol. \n",
        "    * __Function__ to define a symbolic function.\n",
        "    * __limit(f, t, t0)__ to compute the limit of the experssion, __f__, as the variable __t__ tends towards __t0__.\n",
        "    * __diff(f, t)__ to differentiate the function, __f__, with respect to variable __t__.\n",
        "    * __display__ to dispaly an experssion using mathematics notation.\n",
        "    * __integrate(f,t)__ to calculate the indefinite integral of $f(t)$.\n",
        "    * __integrate(f,(t,a,b))__ to calculate the definite integral of $f(t)$ over the interval $a\\leq t\\leq b$.\n",
        "and standard methods.\n",
        "    * __subs(exp_old,exp_new)__ to substitute sub-expresion __exp_old__ with __exp_new__. \n",
        "    * __solve(eqn,x)__ finds all values of $x$ which make $eqn=0$."
      ]
    },
    {
      "cell_type": "code",
      "metadata": {
        "id": "h4TNtMpFQd0m"
      },
      "source": [
        "# for numeric work\n",
        "import numpy as np\n",
        "import matplotlib.pyplot as plt\n",
        "\n",
        "# for symbolic work\n",
        "from sympy import *\n",
        "from sympy.plotting import plot, plot_parametric\n",
        "from sympy import init_printing\n",
        "init_printing()\n"
      ],
      "execution_count": null,
      "outputs": []
    },
    {
      "cell_type": "markdown",
      "metadata": {
        "id": "BYmH1K5SQd0p"
      },
      "source": [
        "## Example 1 - Indefinite Integration (or Anti-derivatives)\n",
        "\n",
        "Given the function \n",
        "$$\n",
        "f(x)=x^3+x^2+1\n",
        "$$\n",
        "answer the following:\n",
        "\n",
        "1. Find the indefinite integral of $f(x)$.\n",
        "\n",
        "2. Check that the derivative of this integral returns $f(x)$."
      ]
    },
    {
      "cell_type": "markdown",
      "metadata": {
        "id": "vjjOIQc7Qd0q"
      },
      "source": [
        "### Part 1:\n",
        "\n",
        "To answer this we must first define the __symbol__ $x$ in the usual way. We are also going to require a second symbol $C$, to denote the arbitrary __integration constant__."
      ]
    },
    {
      "cell_type": "code",
      "metadata": {
        "id": "ILqf5kb3Qd0q"
      },
      "source": [
        "x = symbols('x')\n",
        "C = symbols('C')"
      ],
      "execution_count": null,
      "outputs": []
    },
    {
      "cell_type": "markdown",
      "metadata": {
        "id": "ZoS7qd_tQd0s"
      },
      "source": [
        "Next we define the function $f(x)$:"
      ]
    },
    {
      "cell_type": "code",
      "metadata": {
        "id": "yZpBcpg0Qd0s"
      },
      "source": [
        "f=x**3+x**2+1"
      ],
      "execution_count": null,
      "outputs": []
    },
    {
      "cell_type": "markdown",
      "metadata": {
        "id": "1JlcCUtKQd0s"
      },
      "source": [
        "To find the idefinite integral of $f$ we use the __sympy__ function __integrate(f,x)__.\n",
        "\n",
        "This function requires __two arguments__:\n",
        "\n",
        "* The funciton $f$ we wish to integrate\n",
        "\n",
        "* The varibale $x$ we wish to integrate with respect to"
      ]
    },
    {
      "cell_type": "code",
      "metadata": {
        "scrolled": true,
        "id": "Dss90Fu3Qd0t",
        "outputId": "d3e7a231-10a7-4213-8cb9-1276f201cf85"
      },
      "source": [
        "integrate(f,x)"
      ],
      "execution_count": null,
      "outputs": [
        {
          "output_type": "execute_result",
          "data": {
            "image/png": "[encoded data removed]",
            "text/latex": "$$\\frac{x^{4}}{4} + \\frac{x^{3}}{3} + x$$",
            "text/plain": [
              " 4    3    \n",
              "x    x     \n",
              "── + ── + x\n",
              "4    3     "
            ]
          },
          "metadata": {
            "tags": []
          },
          "execution_count": 4
        }
      ]
    },
    {
      "cell_type": "markdown",
      "metadata": {
        "id": "suyu8W6kQd0w"
      },
      "source": [
        "Notice that the integral does not contain an arbitrary integration constant. We mus add this manually, to give the following __anti-derivative__"
      ]
    },
    {
      "cell_type": "code",
      "metadata": {
        "id": "V9kCL42WQd0x",
        "outputId": "60861868-6cc8-461e-d23b-aa3915340625"
      },
      "source": [
        "F=integrate(f,x)+C\n",
        "F"
      ],
      "execution_count": null,
      "outputs": [
        {
          "output_type": "execute_result",
          "data": {
            "image/png": "[encoded data removed]",
            "text/latex": "$$C + \\frac{x^{4}}{4} + \\frac{x^{3}}{3} + x$$",
            "text/plain": [
              "     4    3    \n",
              "    x    x     \n",
              "C + ── + ── + x\n",
              "    4    3     "
            ]
          },
          "metadata": {
            "tags": []
          },
          "execution_count": 5
        }
      ]
    },
    {
      "cell_type": "markdown",
      "metadata": {
        "id": "sP2D9KsEQd0x"
      },
      "source": [
        "### Part 2\n",
        "\n",
        "Since  **F** as defined above is an anti-derivative of $f$, this means that if we  __differnetate F__  we should get back __f__. \n",
        "\n",
        "We can check this using the familiar __sympy__ function __diff()__"
      ]
    },
    {
      "cell_type": "code",
      "metadata": {
        "id": "0pfSSFROQd0y",
        "outputId": "5d40566f-e9d6-4e86-b959-b0c2af6f4a8f"
      },
      "source": [
        "diff(F,x)"
      ],
      "execution_count": null,
      "outputs": [
        {
          "output_type": "execute_result",
          "data": {
            "image/png": "[encoded data removed]",
            "text/latex": "$$x^{3} + x^{2} + 1$$",
            "text/plain": [
              " 3    2    \n",
              "x  + x  + 1"
            ]
          },
          "metadata": {
            "tags": []
          },
          "execution_count": 6
        }
      ]
    },
    {
      "cell_type": "markdown",
      "metadata": {
        "id": "IQHyjMHCQd0z"
      },
      "source": [
        "Hence when we differentate **F** it returns the original function __f__."
      ]
    },
    {
      "cell_type": "markdown",
      "metadata": {
        "id": "09y58YGIQd0z"
      },
      "source": [
        "## Exercise 1\n",
        "\n",
        "Given the functions\n",
        "$$\n",
        "g(t)=e^{2t}\\sin(\\pi t)\\\\\n",
        "h(s)=\\ln(s)\n",
        "$$\n",
        "answer the following:\n",
        "\n",
        "1. Declare symbols $s$ and $t$\n",
        "\n",
        "\n",
        "2. Find the anti-derivative of $g(t)$ and $h(s)$\n",
        "\n",
        "\n",
        "3. Differentiate these anti-derivatives and ensure this returns the original function, in each case.\n",
        "\n",
        "__Note:__ The function $e^{t}$ is written in Python as __exp(t)__. The function $\\ln(s)$ is written in Python as __log(s)__"
      ]
    },
    {
      "cell_type": "code",
      "metadata": {
        "id": "mY1Ld-cGQd0z"
      },
      "source": [
        ""
      ],
      "execution_count": null,
      "outputs": []
    },
    {
      "cell_type": "code",
      "metadata": {
        "id": "rrPY8DLFQd00"
      },
      "source": [
        ""
      ],
      "execution_count": null,
      "outputs": []
    },
    {
      "cell_type": "code",
      "metadata": {
        "id": "4RCFtd9mQd00"
      },
      "source": [
        ""
      ],
      "execution_count": null,
      "outputs": []
    },
    {
      "cell_type": "markdown",
      "metadata": {
        "id": "f_ehVQMEQd01"
      },
      "source": [
        "## Example 2 - Definite Integration\n",
        "\n",
        "Evaluate the following __definite integal__ \n",
        "\n",
        "$$\n",
        "\\int_{-2}^{1} (x^2+1) dx.\n",
        "$$"
      ]
    },
    {
      "cell_type": "markdown",
      "metadata": {
        "id": "ZaqfeUoQQd01"
      },
      "source": [
        "This can be achieved directly, by including an extra pair of parameters in the __integrate(f,x)__ function:\n",
        "\n",
        "* First we define a function to represent the __integrand__ (just to make it easier to work with)"
      ]
    },
    {
      "cell_type": "code",
      "metadata": {
        "id": "5rrlRxVTQd02"
      },
      "source": [
        "p=x**2+1"
      ],
      "execution_count": null,
      "outputs": []
    },
    {
      "cell_type": "markdown",
      "metadata": {
        "id": "FH7tm8JQQd02"
      },
      "source": [
        "* Next we integrate this function between the __limits__ -2 and 1 as follows:"
      ]
    },
    {
      "cell_type": "code",
      "metadata": {
        "id": "kdJOgs7mQd02",
        "outputId": "058ef53a-f45d-4666-baae-a1f0e7727ba8"
      },
      "source": [
        "integrate(p,(x,-2,1))"
      ],
      "execution_count": null,
      "outputs": [
        {
          "output_type": "execute_result",
          "data": {
            "image/png": "[encoded data removed]",
            "text/latex": "$$6$$",
            "text/plain": [
              "6"
            ]
          },
          "metadata": {
            "tags": []
          },
          "execution_count": 8
        }
      ]
    },
    {
      "cell_type": "markdown",
      "metadata": {
        "id": "cHzsM9csQd02"
      },
      "source": [
        "* We could also do this the __pen and paper__ way, first getting the __anti-derivative__ of $p$, and then finding the __difference in values__ at the upper and lower limits of integration, i.e."
      ]
    },
    {
      "cell_type": "code",
      "metadata": {
        "id": "wgZiTi2OQd03",
        "outputId": "ab6c1ff5-a3f1-4358-d99c-f9c304d868bc"
      },
      "source": [
        "P=integrate(p,x)+C\n",
        "P"
      ],
      "execution_count": null,
      "outputs": [
        {
          "output_type": "execute_result",
          "data": {
            "image/png": "[encoded data removed]",
            "text/latex": "$$C + \\frac{x^{3}}{3} + x$$",
            "text/plain": [
              "     3    \n",
              "    x     \n",
              "C + ── + x\n",
              "    3     "
            ]
          },
          "metadata": {
            "tags": []
          },
          "execution_count": 9
        }
      ]
    },
    {
      "cell_type": "code",
      "metadata": {
        "id": "MqR-ypc4Qd04",
        "outputId": "f7e58264-c29d-41e2-d649-a5f2f6cdcc3c"
      },
      "source": [
        "P.subs(x,1)-P.subs(x,-2)"
      ],
      "execution_count": null,
      "outputs": [
        {
          "output_type": "execute_result",
          "data": {
            "image/png": "[encoded data removed]",
            "text/latex": "$$6$$",
            "text/plain": [
              "6"
            ]
          },
          "metadata": {
            "tags": []
          },
          "execution_count": 10
        }
      ]
    },
    {
      "cell_type": "markdown",
      "metadata": {
        "id": "ddG8wLjjQd04"
      },
      "source": [
        "## Interpreteation of the Integral"
      ]
    },
    {
      "cell_type": "markdown",
      "metadata": {
        "id": "j05FYh-YQd05"
      },
      "source": [
        "* To emphasise the significance of the integral we will create some of our plots using __matplotlib__ in this workbook.\n",
        "\n",
        "\n",
        "* __matplotlib__ is a numerical package, and __cannot__ work with symbols and symbolic functions defined using __sympy__\n",
        "\n",
        "\n",
        "* For this reason, we have to be careful when creating variables and functions for matplotlip, so they do not clash with symbolic symbols and functions.\n",
        "\n",
        "\n",
        "* In this workbook, all numerical variables will be followed by __**n**__ (for numerical), so for example **xn** is the __numerical__ version of **x**."
      ]
    },
    {
      "cell_type": "code",
      "metadata": {
        "id": "RdJEuzlKQd05"
      },
      "source": [
        "xn=np.linspace(-3,2)\n",
        "\n",
        "def pn(xn):\n",
        "    return xn**2+1"
      ],
      "execution_count": null,
      "outputs": []
    },
    {
      "cell_type": "code",
      "metadata": {
        "id": "k_aar0kBQd05",
        "outputId": "1502347c-f488-4446-9f64-2dd6163c2e0e"
      },
      "source": [
        "plt.plot(xn,pn(xn),color='steelblue');"
      ],
      "execution_count": null,
      "outputs": [
        {
          "output_type": "display_data",
          "data": {
            "image/png": "[encoded data removed]",
            "text/plain": [
              "<matplotlib.figure.Figure at 0x7fe6af49b650>"
            ]
          },
          "metadata": {
            "tags": [],
            "needs_background": "light"
          }
        }
      ]
    },
    {
      "cell_type": "markdown",
      "metadata": {
        "id": "0_NihEuLQd05"
      },
      "source": [
        "* This is a plot of the function $p$, and we see that the $x$-interval of the plot is just slightly larger that than the interval of integration.\n",
        "\n",
        "* To hilight the interpretation of the integral, we add a vertical line from $(-2,0)$ to $(-2,p(-2))$ and another from $(1,0)$ to $(1,p(1))$.\n",
        "\n",
        "* To plot the first vertical line we use __plt.plot([-2,-2],[0,pn(-2)])__. The plot lists all $x$-coordinates first then all $y$-coordinates "
      ]
    },
    {
      "cell_type": "code",
      "metadata": {
        "id": "gjEsOpdgQd05",
        "outputId": "8fc527a6-a15e-494c-d332-ccdefbc91406"
      },
      "source": [
        "plt.plot(xn,pn(xn),color='steelblue')\n",
        "plt.plot([-2,-2],[0,pn(-2)],color='steelblue',linestyle='--')\n",
        "plt.plot([1,1],[0,pn(1)],color='steelblue',linestyle='--')\n",
        "plt.ylim(0,10);"
      ],
      "execution_count": null,
      "outputs": [
        {
          "output_type": "display_data",
          "data": {
            "image/png": "[encoded data removed]",
            "text/plain": [
              "<matplotlib.figure.Figure at 0x7fe6af7c8a50>"
            ]
          },
          "metadata": {
            "tags": [],
            "needs_background": "light"
          }
        }
      ]
    },
    {
      "cell_type": "markdown",
      "metadata": {
        "id": "n52Z9bmPQd06"
      },
      "source": [
        "* The intergal $\\int_{-2}^{1}p(x)dx$ is the area between the two vertical lines and between the $x$-axis and the blue curve.\n",
        "\n",
        "* To indicate this we can use the function __plt.text(-0.75,0.5,'Area=6')__, which places the text __Area=6__ at the point __(-0.75,0.5)__ on the plot"
      ]
    },
    {
      "cell_type": "code",
      "metadata": {
        "id": "35dtmx8eQd07",
        "outputId": "e423ea36-58e5-45dd-f93e-c6a5b41baae4"
      },
      "source": [
        "plt.plot(xn,pn(xn),color='steelblue')\n",
        "plt.plot([-2,-2],[0,pn(-2)],color='steelblue',linestyle='--')\n",
        "plt.plot([1,1],[0,pn(1)],color='steelblue',linestyle='--')\n",
        "plt.ylim(0,10)\n",
        "plt.text(-0.75,0.5,'Area=6',size=12)"
      ],
      "execution_count": null,
      "outputs": [
        {
          "output_type": "execute_result",
          "data": {
            "text/plain": [
              "Text(-0.75,0.5,u'Area=6')"
            ]
          },
          "metadata": {
            "tags": []
          },
          "execution_count": 14
        },
        {
          "output_type": "display_data",
          "data": {
            "image/png": "[encoded data removed]",
            "text/plain": [
              "<matplotlib.figure.Figure at 0x7fe6af424cd0>"
            ]
          },
          "metadata": {
            "tags": [],
            "needs_background": "light"
          }
        }
      ]
    },
    {
      "cell_type": "markdown",
      "metadata": {
        "id": "vENFAQbuQd07"
      },
      "source": [
        "## Exercise 2\n",
        "\n",
        "Given the function\n",
        "$$\n",
        "m(x)=x^2+\\frac{1}{x^2}\n",
        "$$\n",
        "answer the following:\n",
        "\n",
        "1. Evaluate the definite integal\n",
        "$$\n",
        "\\int_{1}^{3}m(x)dx\n",
        "$$\n",
        "by the using one of the methods outlined in __Example 2.__\n",
        "\n",
        "\n",
        "\n",
        "2. Create a plot showing the graph of $m(x)$ and indicating the area calculated in the integral above. You will have to select apropriate $y$-limits for the plot and find an apropriate location to place any text."
      ]
    },
    {
      "cell_type": "code",
      "metadata": {
        "id": "Ib9gQs2gQd07"
      },
      "source": [
        ""
      ],
      "execution_count": null,
      "outputs": []
    },
    {
      "cell_type": "code",
      "metadata": {
        "id": "B5uS_4-zQd07"
      },
      "source": [
        ""
      ],
      "execution_count": null,
      "outputs": []
    },
    {
      "cell_type": "code",
      "metadata": {
        "id": "K26B1LhYQd08"
      },
      "source": [
        ""
      ],
      "execution_count": null,
      "outputs": []
    },
    {
      "cell_type": "markdown",
      "metadata": {
        "id": "yi3-PmuDQd08"
      },
      "source": [
        "# Applications of Integration"
      ]
    },
    {
      "cell_type": "markdown",
      "metadata": {
        "id": "HG0Fgy0JQd09"
      },
      "source": [
        "## Example 3\n",
        "\n",
        "An object is moving so that its speed after t minutes is \n",
        "$$\n",
        "v(t) = 1+4t+3t^2\n",
        "$$\n",
        "meters per minute. \n",
        "\n",
        "1. Find a general formula for the displacement, if the displacement at $t=1$ is 25 meters.\n",
        "\n",
        "2. Hence, find the distance travelled between $t=1$ and $t=5$\n",
        "\n",
        "__Note:__ Recall that displacement and velocity are related  by\n",
        "$$\n",
        " v(t)=\\frac{ds}{dt}\\quad\n",
        " \\Rightarrow\\quad s(t)=\\int v(t)dt\n",
        "$$\n",
        "\n",
        "\n"
      ]
    },
    {
      "cell_type": "markdown",
      "metadata": {
        "id": "FOMAuteUQd09"
      },
      "source": [
        "### Part 1\n",
        "\n",
        "#### Step 1 - Define a symbol for time\n"
      ]
    },
    {
      "cell_type": "code",
      "metadata": {
        "id": "8KJmk6JEQd09"
      },
      "source": [
        "t=symbols('t')"
      ],
      "execution_count": null,
      "outputs": []
    },
    {
      "cell_type": "markdown",
      "metadata": {
        "id": "pz_H8Sd_Qd09"
      },
      "source": [
        "#### Step 2 - Write an expression for $v(t)$\n"
      ]
    },
    {
      "cell_type": "code",
      "metadata": {
        "id": "Ok0NJES-Qd0-"
      },
      "source": [
        "v=1+4*t*3*t**2"
      ],
      "execution_count": null,
      "outputs": []
    },
    {
      "cell_type": "markdown",
      "metadata": {
        "id": "4phcKvldQd0-"
      },
      "source": [
        "#### Step 3 - Find the _indefinite_ integral of $v(t)$ to find the general formula for s\n"
      ]
    },
    {
      "cell_type": "code",
      "metadata": {
        "id": "cs3VSWY2Qd0-",
        "outputId": "ac23f03b-08d1-4b33-d75b-f4633147c9c9"
      },
      "source": [
        "s=integrate(v,t)+C\n",
        "s"
      ],
      "execution_count": null,
      "outputs": [
        {
          "output_type": "execute_result",
          "data": {
            "image/png": "[encoded data removed]",
            "text/latex": "$$C + 3 t^{4} + t$$",
            "text/plain": [
              "       4    \n",
              "C + 3⋅t  + t"
            ]
          },
          "metadata": {
            "tags": []
          },
          "execution_count": 17
        }
      ]
    },
    {
      "cell_type": "markdown",
      "metadata": {
        "id": "D3P4Sga2Qd0_"
      },
      "source": [
        "#### Step 4 - Solve for $c$\n",
        "\n",
        "* We know that at $t=1$ then $s=25$.\n",
        "\n",
        "\n",
        "* Finding an expression for $s$ at $t=1$ we use __subs()__ as follows:"
      ]
    },
    {
      "cell_type": "code",
      "metadata": {
        "id": "_aSEv1AGQd0_",
        "outputId": "ec47225e-ee94-44f9-d37a-ff6e2121593f"
      },
      "source": [
        "s1=s.subs(t,1)\n",
        "s1"
      ],
      "execution_count": null,
      "outputs": [
        {
          "output_type": "execute_result",
          "data": {
            "image/png": "[encoded data removed]",
            "text/latex": "$$C + 4$$",
            "text/plain": [
              "C + 4"
            ]
          },
          "metadata": {
            "tags": []
          },
          "execution_count": 18
        }
      ]
    },
    {
      "cell_type": "markdown",
      "metadata": {
        "id": "mUUSu6XNQd1A"
      },
      "source": [
        "* Now we use __sovle(s1-25,c)__ to see which value of $c$ gives an initial displacement of $25$ meters  "
      ]
    },
    {
      "cell_type": "code",
      "metadata": {
        "id": "MEnBIvtbQd1A",
        "outputId": "08eb4451-3709-49fd-ea11-844feeb0d37d"
      },
      "source": [
        "solve(s1-25,C)"
      ],
      "execution_count": null,
      "outputs": [
        {
          "output_type": "execute_result",
          "data": {
            "image/png": "[encoded data removed]",
            "text/latex": "$$\\left [ 21\\right ]$$",
            "text/plain": [
              "[21]"
            ]
          },
          "metadata": {
            "tags": []
          },
          "execution_count": 19
        }
      ]
    },
    {
      "cell_type": "markdown",
      "metadata": {
        "id": "QHvURYX-Qd1B"
      },
      "source": [
        "Hence, the actual formula for the displacement is given by"
      ]
    },
    {
      "cell_type": "code",
      "metadata": {
        "id": "MF-psyQ1Qd1B",
        "outputId": "baad8ab9-71f0-4772-b99f-6101a9e772d7"
      },
      "source": [
        "s=integrate(v,t)+21\n",
        "s"
      ],
      "execution_count": null,
      "outputs": [
        {
          "output_type": "execute_result",
          "data": {
            "image/png": "[encoded data removed]",
            "text/latex": "$$3 t^{4} + t + 21$$",
            "text/plain": [
              "   4         \n",
              "3⋅t  + t + 21"
            ]
          },
          "metadata": {
            "tags": []
          },
          "execution_count": 20
        }
      ]
    },
    {
      "cell_type": "markdown",
      "metadata": {
        "id": "ZWKqKiMdQd1C"
      },
      "source": [
        "### Part 2 -Find the _definite_ integral of $v(t)$ when $t$ is between 1 and 5 minutes. \n",
        "This gives the total distance travelled in that time interval"
      ]
    },
    {
      "cell_type": "code",
      "metadata": {
        "id": "pxlgHwPwQd1C",
        "outputId": "9fe98863-b3c3-4fc2-d5b2-c758853e7781"
      },
      "source": [
        "D=integrate(v,(t,1,5))\n",
        "D"
      ],
      "execution_count": null,
      "outputs": [
        {
          "output_type": "execute_result",
          "data": {
            "image/png": "[encoded data removed]",
            "text/latex": "$$1876$$",
            "text/plain": [
              "1876"
            ]
          },
          "metadata": {
            "tags": []
          },
          "execution_count": 21
        }
      ]
    },
    {
      "cell_type": "markdown",
      "metadata": {
        "id": "0AAxSQu_Qd1C"
      },
      "source": [
        "Hence the distance travelled between $t=1$ and $t=5$ is $1876$ meters."
      ]
    },
    {
      "cell_type": "markdown",
      "metadata": {
        "id": "oGDksdtjQd1C"
      },
      "source": [
        "## Exercise 3\n",
        "\n",
        "A body starts from __rest__  with an acceleration\n",
        "$$\n",
        " a(t)=\\frac{dv}{dt}=\\frac{d^{2}p}{dt^2}=-2.5\\cos(30t), \n",
        "$$\n",
        "where $a$ is accleration, $v$ is velocity and $p$ is position."
      ]
    },
    {
      "cell_type": "markdown",
      "metadata": {
        "id": "I7emBqweQd1D"
      },
      "source": [
        "#### Part 1- Write a function for $a(t)$, and integrate once to give $v(t)$. "
      ]
    },
    {
      "cell_type": "code",
      "metadata": {
        "id": "zSFwUncQQd1D"
      },
      "source": [
        ""
      ],
      "execution_count": null,
      "outputs": []
    },
    {
      "cell_type": "markdown",
      "metadata": {
        "id": "TYeG2hEHQd1E"
      },
      "source": [
        ""
      ]
    },
    {
      "cell_type": "markdown",
      "metadata": {
        "id": "tQ7owncuQd1E"
      },
      "source": [
        "#### Part 2 - Use solve to find the time $t_1$ when $v(t_1)=2.3$m/s."
      ]
    },
    {
      "cell_type": "code",
      "metadata": {
        "id": "hYynJkCYQd1E"
      },
      "source": [
        ""
      ],
      "execution_count": null,
      "outputs": []
    },
    {
      "cell_type": "code",
      "metadata": {
        "id": "9eJVQKn_Qd1E"
      },
      "source": [
        ""
      ],
      "execution_count": null,
      "outputs": []
    },
    {
      "cell_type": "markdown",
      "metadata": {
        "id": "2dPH222BQd1F"
      },
      "source": [
        "#### Part 3 - Integrate $v(t)$, the answer from Part 1, to find an expression for the position $p(t)$."
      ]
    },
    {
      "cell_type": "code",
      "metadata": {
        "id": "ppUqTTjoQd1F"
      },
      "source": [
        ""
      ],
      "execution_count": null,
      "outputs": []
    },
    {
      "cell_type": "code",
      "metadata": {
        "id": "NYXQsRCEQd1F"
      },
      "source": [
        ""
      ],
      "execution_count": null,
      "outputs": []
    },
    {
      "cell_type": "markdown",
      "metadata": {
        "id": "S6oNAeH4Qd1F"
      },
      "source": [
        "#### Part 4 - Use .subs() to find the position of the particle at time $t_1$ found in Part 2."
      ]
    },
    {
      "cell_type": "code",
      "metadata": {
        "id": "EKoaCN-MQd1F"
      },
      "source": [
        ""
      ],
      "execution_count": null,
      "outputs": []
    },
    {
      "cell_type": "code",
      "metadata": {
        "id": "44T1abKfQd1F"
      },
      "source": [
        ""
      ],
      "execution_count": null,
      "outputs": []
    },
    {
      "cell_type": "markdown",
      "metadata": {
        "id": "nGCpAuW_Qd1G"
      },
      "source": [
        "## Example 4\n",
        "\n",
        "Recall that given, two functions, $f$ and $g$, with $f(x)\\ge g(x)$ over an interval $x=a$ to $x=b$ then the area between the two functions is given by\n",
        "$$\n",
        "    \\int_a^b \\big[f(x)-g(x)\\big] dx.\n",
        "$$\n",
        "\n",
        "\n",
        "#### Steps for finding this area\n",
        "\n",
        " 1. Define functions, $f$ and $g$ to represent each curve. (__Note:__ Make sure $f$ is the __upper function__)\n",
        "    \n",
        " 2. Determine the points of intersection of the curves - these are the integration limits $a$ and $b$.\n",
        " \n",
        " 3. Determine the required area using definite integration.\n",
        " \n",
        " 4. Plot the curves and the shaded area using __matplotlib__."
      ]
    },
    {
      "cell_type": "markdown",
      "metadata": {
        "collapsed": true,
        "id": "mFfwI7t5Qd1G"
      },
      "source": [
        "#### Part 1 - Define the functions $f$ and $g$ \n"
      ]
    },
    {
      "cell_type": "code",
      "metadata": {
        "id": "drvqA_3xQd1G"
      },
      "source": [
        "f=-x**2+6\n",
        "g=x**2-2*x+2"
      ],
      "execution_count": null,
      "outputs": []
    },
    {
      "cell_type": "markdown",
      "metadata": {
        "collapsed": true,
        "id": "6hah9pwsQd1G"
      },
      "source": [
        "#### Part 2 - Use __solve(f-g,x)__ to find points of intersection of the curves\n"
      ]
    },
    {
      "cell_type": "code",
      "metadata": {
        "id": "FSVyGh5HQd1G",
        "outputId": "b2cbdb15-5274-4351-ccb9-bbdb998ec883"
      },
      "source": [
        "L=solve(f-g,x)\n",
        "L"
      ],
      "execution_count": null,
      "outputs": [
        {
          "output_type": "execute_result",
          "data": {
            "image/png": "[encoded data removed]",
            "text/latex": "$$\\left [ -1, \\quad 2\\right ]$$",
            "text/plain": [
              "[-1, 2]"
            ]
          },
          "metadata": {
            "tags": []
          },
          "execution_count": 23
        }
      ]
    },
    {
      "cell_type": "markdown",
      "metadata": {
        "id": "M-oN_DjJQd1H"
      },
      "source": [
        "These are the limits of integration, and we cal call an individual limit using the index notation __L[0]__ and __L[1]__."
      ]
    },
    {
      "cell_type": "markdown",
      "metadata": {
        "id": "zgte3vOsQd1H"
      },
      "source": [
        "#### Part 3 - Integrate $f-g$ between these two points of interestion."
      ]
    },
    {
      "cell_type": "code",
      "metadata": {
        "id": "5MpPL3EYQd1I",
        "outputId": "64caa8c0-5763-4ea0-e3cd-10b82a58dfc6"
      },
      "source": [
        "integrate(f-g,(x,L[0],L[1]))"
      ],
      "execution_count": null,
      "outputs": [
        {
          "output_type": "execute_result",
          "data": {
            "image/png": "[encoded data removed]",
            "text/latex": "$$9$$",
            "text/plain": [
              "9"
            ]
          },
          "metadata": {
            "tags": []
          },
          "execution_count": 24
        }
      ]
    },
    {
      "cell_type": "markdown",
      "metadata": {
        "id": "2_ZW8kR3Qd1J"
      },
      "source": [
        "Hence, the area between the two curves is $9$ square units."
      ]
    },
    {
      "cell_type": "markdown",
      "metadata": {
        "id": "ZO8GOOUZQd1J"
      },
      "source": [
        "#### Part 4 - Plotting the functions and area\n",
        "\n",
        "* Since we are using __matplotlib__ to plot these functions, we define a numerial variable **xn** and numerical functions **fn** and **gn**. "
      ]
    },
    {
      "cell_type": "code",
      "metadata": {
        "id": "xSxk03G3Qd1J"
      },
      "source": [
        "xn=np.linspace(-2,3,251)   \n",
        "## We make xn big enough to contain the intersction points found in Part 2"
      ],
      "execution_count": null,
      "outputs": []
    },
    {
      "cell_type": "code",
      "metadata": {
        "id": "NI3vyf-tQd1J"
      },
      "source": [
        "fn=-xn**2+6       \n",
        "## Define a numerical version of f using the numerical xn "
      ],
      "execution_count": null,
      "outputs": []
    },
    {
      "cell_type": "code",
      "metadata": {
        "id": "gBm5eCXjQd1J"
      },
      "source": [
        "gn = xn**2-2*xn +2  \n",
        "## Define a numerical version of g using the numerical xn "
      ],
      "execution_count": null,
      "outputs": []
    },
    {
      "cell_type": "code",
      "metadata": {
        "id": "vc6q7hL7Qd1J",
        "outputId": "506d3e1c-58b8-47f0-f61c-5ce2044448b4"
      },
      "source": [
        "plt.plot(xn,fn,color='red')\n",
        "plt.plot(xn,gn,color='gray')"
      ],
      "execution_count": null,
      "outputs": [
        {
          "output_type": "execute_result",
          "data": {
            "text/plain": [
              "[<matplotlib.lines.Line2D at 0x7fe6ad26d150>]"
            ]
          },
          "metadata": {
            "tags": []
          },
          "execution_count": 28
        },
        {
          "output_type": "display_data",
          "data": {
            "image/png": "[encoded data removed]",
            "text/plain": [
              "<matplotlib.figure.Figure at 0x7fe6af49bf50>"
            ]
          },
          "metadata": {
            "tags": [],
            "needs_background": "light"
          }
        }
      ]
    },
    {
      "cell_type": "markdown",
      "metadata": {
        "id": "_cZk2I3qQd1J"
      },
      "source": [
        "* To shade the area, we can use the function __fill_between()__ as follows:"
      ]
    },
    {
      "cell_type": "code",
      "metadata": {
        "id": "vnVZsdQvQd1J",
        "outputId": "de9461a1-e77d-4677-df37-207fb17fcefa"
      },
      "source": [
        "plt.plot(xn,fn,color='red')\n",
        "plt.plot(xn,gn,color='gray')\n",
        "plt.fill_between(xn,fn,gn, where= fn>=gn)"
      ],
      "execution_count": null,
      "outputs": [
        {
          "output_type": "execute_result",
          "data": {
            "text/plain": [
              "<matplotlib.collections.PolyCollection at 0x7fe6ad3f5910>"
            ]
          },
          "metadata": {
            "tags": []
          },
          "execution_count": 29
        },
        {
          "output_type": "display_data",
          "data": {
            "image/png": "[encoded data removed]",
            "text/plain": [
              "<matplotlib.figure.Figure at 0x7fe6af552b90>"
            ]
          },
          "metadata": {
            "tags": [],
            "needs_background": "light"
          }
        }
      ]
    },
    {
      "cell_type": "markdown",
      "metadata": {
        "id": "reSanoK0Qd1K"
      },
      "source": [
        "* We use the option __where= fn(xn)>=gn(xn)__ to indicate we only want to fill the area where $f\\geq g$."
      ]
    },
    {
      "cell_type": "markdown",
      "metadata": {
        "id": "6fnEGxDeQd1K"
      },
      "source": [
        "## Exercise 4\n",
        "\n",
        "Determine the size of the shaded area in the following diagram\n",
        "\n",
        "![](http://bestmaths.net/online/files/8213/8655/6257/Y12_Area_under_Curves_09.gif)\n"
      ]
    },
    {
      "cell_type": "markdown",
      "metadata": {
        "collapsed": true,
        "id": "paTS2-HbQd1K"
      },
      "source": [
        "#### Part 1 - Define the funcitons $y_1$ and $y_2$"
      ]
    },
    {
      "cell_type": "code",
      "metadata": {
        "id": "qnCohKkCQd1K"
      },
      "source": [
        ""
      ],
      "execution_count": null,
      "outputs": []
    },
    {
      "cell_type": "code",
      "metadata": {
        "id": "arBypV_pQd1L"
      },
      "source": [
        ""
      ],
      "execution_count": null,
      "outputs": []
    },
    {
      "cell_type": "markdown",
      "metadata": {
        "id": "8fYADoSlQd1L"
      },
      "source": [
        ""
      ]
    },
    {
      "cell_type": "markdown",
      "metadata": {
        "collapsed": true,
        "id": "p7dmGb3tQd1M"
      },
      "source": [
        "#### Part 2 - Use .solve() to find the points of intersection of __$y_1$__ and __$y_2$__"
      ]
    },
    {
      "cell_type": "code",
      "metadata": {
        "id": "O09jRjT7Qd1M"
      },
      "source": [
        ""
      ],
      "execution_count": null,
      "outputs": []
    },
    {
      "cell_type": "code",
      "metadata": {
        "id": "4FPnjreqQd1M"
      },
      "source": [
        ""
      ],
      "execution_count": null,
      "outputs": []
    },
    {
      "cell_type": "markdown",
      "metadata": {
        "collapsed": true,
        "id": "uA4jzII0Qd1M"
      },
      "source": [
        "#### Part 3 - Determine the area by integrating  $y_1-y_2$ between these two points"
      ]
    },
    {
      "cell_type": "code",
      "metadata": {
        "id": "GFLf-z2IQd1M"
      },
      "source": [
        ""
      ],
      "execution_count": null,
      "outputs": []
    },
    {
      "cell_type": "code",
      "metadata": {
        "id": "Xh3SDOb0Qd1M"
      },
      "source": [
        ""
      ],
      "execution_count": null,
      "outputs": []
    }
  ]
}