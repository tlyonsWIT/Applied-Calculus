{
  "nbformat": 4,
  "nbformat_minor": 0,
  "metadata": {
    "kernelspec": {
      "display_name": "Python 3",
      "language": "python",
      "name": "python3"
    },
    "language_info": {
      "codemirror_mode": {
        "name": "ipython",
        "version": 3
      },
      "file_extension": ".py",
      "mimetype": "text/x-python",
      "name": "python",
      "nbconvert_exporter": "python",
      "pygments_lexer": "ipython3",
      "version": "3.8.3"
    },
    "colab": {
      "name": "Applied Calculus 2021 - Python Workbook 3.ipynb",
      "provenance": [],
      "include_colab_link": true
    }
  },
  "cells": [
    {
      "cell_type": "markdown",
      "metadata": {
        "id": "view-in-github",
        "colab_type": "text"
      },
      "source": [
        "<a href=\"https://colab.research.google.com/github/tlyonsWIT/Applied-Calculus/blob/main/Applied%20Calculus%202021%20-%20Python%20Workbook%203.ipynb\" target=\"_parent\"><img src=\"https://colab.research.google.com/assets/colab-badge.svg\" alt=\"Open In Colab\"/></a>"
      ]
    },
    {
      "cell_type": "markdown",
      "metadata": {
        "id": "1MqhxbkTzU_w"
      },
      "source": [
        "### Name:\n",
        "### Student Number:"
      ]
    },
    {
      "cell_type": "code",
      "metadata": {
        "id": "siqLu3TdzU_z"
      },
      "source": [
        "import matplotlib.pyplot as plt\n",
        "\n",
        "import numpy as np \n",
        "\n",
        "from numpy import cos, sin, tan, log, exp, pi, sqrt"
      ],
      "execution_count": 27,
      "outputs": []
    },
    {
      "cell_type": "markdown",
      "metadata": {
        "id": "OaHV4tNFzU_0"
      },
      "source": [
        "# Python Workbook 3 - Limits and Derivatives\n",
        "\n",
        "In this Python workbook we will examine limits and derivatives of functions. \n",
        "\n",
        "\n",
        "\n",
        "## Limits of functions\n",
        "\n",
        "Given a function $f(x)$, the limit of $f$ as $x$ approaches a __fixed value__ $x_0$ is written as  \n",
        "$$\n",
        " \\lim_{x\\to x_0}f(x)=L,\n",
        "$$\n",
        "where the __number__ $L$ is called the limit of $f$ at $x_0$.\n",
        "\n",
        "* What this really means is that we take a sequence of numbers  __approaching $x_0$ from the left__, and see what happens to the value of $f$ at each value of this sequence.\n",
        "\n",
        "\n",
        "* This __left-hand limit__ is denoted by $\\lim_{x\\to x_0^{-}}f(x)$.\n",
        "\n",
        " \n",
        "* At the same time we take a sequence of numbers __approaching $x_0$ from the right__, and see what happens to the value of $f$ along this sequence.\n",
        "\n",
        "\n",
        "* This __right-hand limit__ is denoted by $\\lim_{x\\to x_{0}^{+}}f(x)$.\n",
        "\n",
        "\n",
        "* If the limits each side of $x_0$ match up, then we say the limit at $x_0$ exists."
      ]
    },
    {
      "cell_type": "markdown",
      "metadata": {
        "id": "ErS668KkzU_2"
      },
      "source": [
        "### Example 1\n",
        "\n",
        "__Part 1__ Create a Python function to represent the quadratic function\n",
        "\\\\[\n",
        "f(x)=x^2-3x+9.\n",
        "\\\\]\n",
        "\n",
        "\n",
        "__Part 2__ Create a sequence of numbers to determine the __left-hand limit__ of $f$ at $5$. What is the value of this left-hand limit?\n",
        "\n",
        "\n",
        "__Part 3__ Create a sequence of numbers to determine the __right-hand limit__ of $f$ at $5$. What is the value of this right-hand limit?\n",
        "\n",
        "\n",
        "__Part 4__ Do the left-hand and right-hand limits match up, i.e. does $\\lim_{x\\to5}f(x)$ exist?"
      ]
    },
    {
      "cell_type": "markdown",
      "metadata": {
        "id": "-LkLPeLSzU_3"
      },
      "source": [
        "#### Solution - Part 1"
      ]
    },
    {
      "cell_type": "code",
      "metadata": {
        "id": "lGhHkwwgzU_4"
      },
      "source": [
        "def f(x):\n",
        "    return x**2-3*x+9"
      ],
      "execution_count": 28,
      "outputs": []
    },
    {
      "cell_type": "markdown",
      "metadata": {
        "id": "zMvZpGgWzU_5"
      },
      "source": [
        "#### Solution - Part 2\n",
        "\n",
        "We want the sequence to approach 5 __from the left__. Hence we will create the following sequence:\n",
        "$$\n",
        "4.9,4.99,4.999, 4.9999, 4.99999, 4.9999999, 5-10^{-9}.\n",
        "$$\n"
      ]
    },
    {
      "cell_type": "code",
      "metadata": {
        "id": "kIiN5g3CzU_6"
      },
      "source": [
        "x_left=np.array([4.9,4.99,4.999,4.9999,4.99999,4.9999999,5-1E-9]) "
      ],
      "execution_count": 29,
      "outputs": []
    },
    {
      "cell_type": "markdown",
      "metadata": {
        "id": "RUydNgRjzU_6"
      },
      "source": [
        "The value of the function on the sequence is:"
      ]
    },
    {
      "cell_type": "code",
      "metadata": {
        "colab": {
          "base_uri": "https://localhost:8080/"
        },
        "id": "BZMY9H-vzU_6",
        "outputId": "3140f31b-879e-4ea6-d516-375b52828476"
      },
      "source": [
        "f(x_left)"
      ],
      "execution_count": 30,
      "outputs": [
        {
          "output_type": "execute_result",
          "data": {
            "text/plain": [
              "array([18.31      , 18.9301    , 18.993001  , 18.99930001, 18.99993   ,\n",
              "       18.9999993 , 18.99999999])"
            ]
          },
          "metadata": {
            "tags": []
          },
          "execution_count": 30
        }
      ]
    },
    {
      "cell_type": "markdown",
      "metadata": {
        "id": "k_T5bC7hzU_7"
      },
      "source": [
        "Hence we see that \n",
        "$$\n",
        "\\lim_{x\\to 5^-}f(x)=19.\n",
        "$$"
      ]
    },
    {
      "cell_type": "markdown",
      "metadata": {
        "id": "kQnEk11ozU_-"
      },
      "source": [
        "#### Solution - Part 3"
      ]
    },
    {
      "cell_type": "markdown",
      "metadata": {
        "id": "zE7ZpkbezU_-"
      },
      "source": [
        "We want the sequence to approach 5 __from the right__. Hence we will create the following sequence:\n",
        "$$\n",
        "5.1,5.01,5.001, 5.0001, 5.00001, 5.000001, 5+10^{-9}.\n",
        "$$"
      ]
    },
    {
      "cell_type": "code",
      "metadata": {
        "id": "qlW4XyvszU_-"
      },
      "source": [
        "x_right=np.array([5.1,5.01,5.001,5.0001,5.00001, 5.000001, 5+1E-9]) "
      ],
      "execution_count": 31,
      "outputs": []
    },
    {
      "cell_type": "markdown",
      "metadata": {
        "id": "ptVogC5PzU_-"
      },
      "source": [
        "The value of the function on the sequence is:"
      ]
    },
    {
      "cell_type": "code",
      "metadata": {
        "colab": {
          "base_uri": "https://localhost:8080/"
        },
        "id": "tO6TWlc0zU_-",
        "outputId": "42fc4550-d869-4ac9-97b3-b516b7d94181"
      },
      "source": [
        "f(x_right)"
      ],
      "execution_count": 32,
      "outputs": [
        {
          "output_type": "execute_result",
          "data": {
            "text/plain": [
              "array([19.71      , 19.0701    , 19.007001  , 19.00070001, 19.00007   ,\n",
              "       19.000007  , 19.00000001])"
            ]
          },
          "metadata": {
            "tags": []
          },
          "execution_count": 32
        }
      ]
    },
    {
      "cell_type": "markdown",
      "metadata": {
        "id": "IcF3u-HvzU__"
      },
      "source": [
        "Hence we see that\n",
        "$$\n",
        "\\lim_{x\\to5^+}f(x)=19.\n",
        "$$"
      ]
    },
    {
      "cell_type": "markdown",
      "metadata": {
        "id": "KP-kFZIczU__"
      },
      "source": [
        "#### Solution - Part 4\n",
        "\n",
        "Since $\\lim_{x\\to5^-}f(x) =\\lim_{x\\to5^+}f(x)=19$. Hence __the limit at $5$ exists__, and \n",
        "$$\n",
        "\\lim_{x\\to 5}f(x)=19.\n",
        "$$"
      ]
    },
    {
      "cell_type": "markdown",
      "metadata": {
        "id": "6SIskRWyzU__"
      },
      "source": [
        "## Exercise 1: \n",
        "__Part 1__\n",
        "Create a Python function to represent the __cubic__ function\n",
        "$$\n",
        " H(x)=x^3-5x^2+8x+38\n",
        "$$"
      ]
    },
    {
      "cell_type": "code",
      "metadata": {
        "id": "me6zy9NPzVAA"
      },
      "source": [
        ""
      ],
      "execution_count": null,
      "outputs": []
    },
    {
      "cell_type": "markdown",
      "metadata": {
        "id": "edPyL112zVAB"
      },
      "source": [
        "__Part 2__ Create a sequence using __array()__ to evaluate the __left-hand limit__ of $H$ at $x=12$. What is the value of this left-hand limit? "
      ]
    },
    {
      "cell_type": "code",
      "metadata": {
        "id": "aQIZIsD7zVAB"
      },
      "source": [
        ""
      ],
      "execution_count": null,
      "outputs": []
    },
    {
      "cell_type": "markdown",
      "metadata": {
        "id": "18_6q_dSzVAB"
      },
      "source": [
        "The left-hand limit at $12$ is:"
      ]
    },
    {
      "cell_type": "markdown",
      "metadata": {
        "id": "3Whr5hyDzVAB"
      },
      "source": [
        "__Part 3__ Create a sequence using __array()__ to evaluate the __right-hand limit__ of $H$ at $x=12$. What is the value of this right-hand limit? "
      ]
    },
    {
      "cell_type": "code",
      "metadata": {
        "id": "XFlL-en0zVAC"
      },
      "source": [
        ""
      ],
      "execution_count": null,
      "outputs": []
    },
    {
      "cell_type": "markdown",
      "metadata": {
        "id": "vQSwZ4WyzVAC"
      },
      "source": [
        "The right-hand limit at $12$ is:"
      ]
    },
    {
      "cell_type": "markdown",
      "metadata": {
        "id": "CaVqv-0PzVAC"
      },
      "source": [
        "#### Part 4\n",
        "\n",
        "Does the limit $\\lim_{x\\to12}H(x)$ exist?"
      ]
    },
    {
      "cell_type": "code",
      "metadata": {
        "id": "I8flzGp0zVAC"
      },
      "source": [
        ""
      ],
      "execution_count": null,
      "outputs": []
    },
    {
      "cell_type": "code",
      "metadata": {
        "id": "z9_qHRSyzVAD"
      },
      "source": [
        ""
      ],
      "execution_count": null,
      "outputs": []
    },
    {
      "cell_type": "markdown",
      "metadata": {
        "id": "uLN9qYe4zVAD"
      },
      "source": [
        "## Singular limits\n",
        "\n",
        "* If a function $f(x)$ grows arbitrarily large as $x$ approaches $x_0$, then we say\n",
        "$$\n",
        "\\lim_{x\\to x_0}f(x)=\\pm\\infty.\n",
        "$$\n",
        "\n",
        "* In such cases we say that $\\lim_{x\\to x_0}f(x)$ __does not exist.__"
      ]
    },
    {
      "cell_type": "markdown",
      "metadata": {
        "id": "6WVzAy4qzVAD"
      },
      "source": [
        "## Example 2\n",
        "\n",
        "__Part 1__ Create a Pythom function to represent the rational function\n",
        "$$\n",
        " R(x)=\\frac{2x-75}{5x-9}.\n",
        "$$\n",
        "\n",
        "__Part 2__  Check the function returns an error at $x=\\frac{9}{5}=1.8$.\n",
        "\n",
        "__Part 3__ Create a sequence using the __array()__ function to evaluate the left-hand limit of $R(x)$ at $x=\\frac{9}{5}$. What is the value $\\lim_{x\\to \\frac{9}{5}^{-}}R(x)$?\n",
        "\n",
        "__Part 4__ Create a sequence using the __array()__ function to evaluate right-hand limit of $R(x)$ at $x=\\frac{9}{5}$. What is the value $\\lim_{x\\to \\frac{9}{5}^{+}}R(x)$?\n",
        "\n",
        "__Part 5__ Plot the graph of $R(x)$. Does this agree with the limits you found above?"
      ]
    },
    {
      "cell_type": "markdown",
      "metadata": {
        "id": "7UnU_Ck-zVAE"
      },
      "source": [
        "#### Solution - Part 1"
      ]
    },
    {
      "cell_type": "code",
      "metadata": {
        "id": "MtkqSp6GzVAE"
      },
      "source": [
        "def R(x):\n",
        "    return (2*x-75)/(5*x-9)"
      ],
      "execution_count": 33,
      "outputs": []
    },
    {
      "cell_type": "markdown",
      "metadata": {
        "id": "-awnY6cTzVAE"
      },
      "source": [
        "#### Solution - Part 2"
      ]
    },
    {
      "cell_type": "code",
      "metadata": {
        "colab": {
          "base_uri": "https://localhost:8080/",
          "height": 248
        },
        "id": "Cd8m4v0HzVAE",
        "outputId": "52743ee2-b663-41a3-9a25-0e86afde57b3"
      },
      "source": [
        "R(9.0/5.0)"
      ],
      "execution_count": 34,
      "outputs": [
        {
          "output_type": "error",
          "ename": "ZeroDivisionError",
          "evalue": "ignored",
          "traceback": [
            "\u001b[0;31m---------------------------------------------------------------------------\u001b[0m",
            "\u001b[0;31mZeroDivisionError\u001b[0m                         Traceback (most recent call last)",
            "\u001b[0;32m<ipython-input-34-3ac524d47c77>\u001b[0m in \u001b[0;36m<module>\u001b[0;34m()\u001b[0m\n\u001b[0;32m----> 1\u001b[0;31m \u001b[0mR\u001b[0m\u001b[0;34m(\u001b[0m\u001b[0;36m9.0\u001b[0m\u001b[0;34m/\u001b[0m\u001b[0;36m5.0\u001b[0m\u001b[0;34m)\u001b[0m\u001b[0;34m\u001b[0m\u001b[0;34m\u001b[0m\u001b[0m\n\u001b[0m",
            "\u001b[0;32m<ipython-input-33-54cfd1af91b5>\u001b[0m in \u001b[0;36mR\u001b[0;34m(x)\u001b[0m\n\u001b[1;32m      1\u001b[0m \u001b[0;32mdef\u001b[0m \u001b[0mR\u001b[0m\u001b[0;34m(\u001b[0m\u001b[0mx\u001b[0m\u001b[0;34m)\u001b[0m\u001b[0;34m:\u001b[0m\u001b[0;34m\u001b[0m\u001b[0;34m\u001b[0m\u001b[0m\n\u001b[0;32m----> 2\u001b[0;31m     \u001b[0;32mreturn\u001b[0m \u001b[0;34m(\u001b[0m\u001b[0;36m2\u001b[0m\u001b[0;34m*\u001b[0m\u001b[0mx\u001b[0m\u001b[0;34m-\u001b[0m\u001b[0;36m75\u001b[0m\u001b[0;34m)\u001b[0m\u001b[0;34m/\u001b[0m\u001b[0;34m(\u001b[0m\u001b[0;36m5\u001b[0m\u001b[0;34m*\u001b[0m\u001b[0mx\u001b[0m\u001b[0;34m-\u001b[0m\u001b[0;36m9\u001b[0m\u001b[0;34m)\u001b[0m\u001b[0;34m\u001b[0m\u001b[0;34m\u001b[0m\u001b[0m\n\u001b[0m",
            "\u001b[0;31mZeroDivisionError\u001b[0m: float division by zero"
          ]
        }
      ]
    },
    {
      "cell_type": "markdown",
      "metadata": {
        "id": "x9nqjMovzVAF"
      },
      "source": [
        "#### Solution - Part 3"
      ]
    },
    {
      "cell_type": "code",
      "metadata": {
        "colab": {
          "base_uri": "https://localhost:8080/"
        },
        "id": "b0EK02STzVAF",
        "outputId": "0ba9540a-bed8-4760-ac63-52bb9f41758c"
      },
      "source": [
        "x_left=np.array([1.7,1.79,1.799,1.7999,1.79999,1.799999,1.8-1E-9])\n",
        "R(x_left)"
      ],
      "execution_count": 35,
      "outputs": [
        {
          "output_type": "execute_result",
          "data": {
            "text/plain": [
              "array([1.43200000e+02, 1.42840000e+03, 1.42804000e+04, 1.42800400e+05,\n",
              "       1.42800040e+06, 1.42800004e+07, 1.42799988e+10])"
            ]
          },
          "metadata": {
            "tags": []
          },
          "execution_count": 35
        }
      ]
    },
    {
      "cell_type": "markdown",
      "metadata": {
        "id": "VEPmTh7tzVAG"
      },
      "source": [
        "* 1.33982089e+10 means\n",
        "$$\n",
        "1.33982089\\times10^{+10}=13398208900.\n",
        "$$"
      ]
    },
    {
      "cell_type": "markdown",
      "metadata": {
        "id": "2kTpbml-zVAH"
      },
      "source": [
        "Hence\n",
        "$$\n",
        "\\lim_{x\\to\\frac{9}{5}^{-}}R(x)=+\\infty\n",
        "$$"
      ]
    },
    {
      "cell_type": "markdown",
      "metadata": {
        "id": "0DFSf4OnzVAH"
      },
      "source": [
        "#### Solution - Part 4"
      ]
    },
    {
      "cell_type": "code",
      "metadata": {
        "colab": {
          "base_uri": "https://localhost:8080/"
        },
        "id": "z9idG4RYzVAH",
        "outputId": "5411d8f5-c5c2-4453-fc52-50f78070fe40"
      },
      "source": [
        "x_right=np.array([1.81,1.801,1.8001,1.80001,1.800001,1.8000001,1.80000001,1.8+1E-9])\n",
        "R(x_right)"
      ],
      "execution_count": 36,
      "outputs": [
        {
          "output_type": "execute_result",
          "data": {
            "text/plain": [
              "array([-1.42760000e+03, -1.42796000e+04, -1.42799600e+05, -1.42799960e+06,\n",
              "       -1.42799996e+07, -1.42799999e+08, -1.42799998e+09, -1.42799988e+10])"
            ]
          },
          "metadata": {
            "tags": []
          },
          "execution_count": 36
        }
      ]
    },
    {
      "cell_type": "markdown",
      "metadata": {
        "id": "bXO10al_zVAH"
      },
      "source": [
        "Hence\n",
        "$$\n",
        "\\lim_{x\\to\\frac{9}{5}^{+}}R(x)=-\\infty.\n",
        "$$"
      ]
    },
    {
      "cell_type": "markdown",
      "metadata": {
        "id": "eAQKdtg-zVAH"
      },
      "source": [
        "#### Solution - Part 5\n",
        "\n",
        "* For the plot, we want the singularity to appear in the centre of the plot.\n",
        "\n",
        "* The singularity appears at $x=\\frac{9}{5}=1.8$, so we will start our plot at $x=1.8-5$ and end it at $x=1.8+5$, with 501 steps in between.\n",
        "\n",
        "* As with last week's workbook, we will also remove the point $x=1.8$ from the sequence of $x$-values using the function __where(x!=1.8)__."
      ]
    },
    {
      "cell_type": "code",
      "metadata": {
        "colab": {
          "base_uri": "https://localhost:8080/",
          "height": 283
        },
        "id": "91U2Wt9zzVAH",
        "outputId": "bd1beb0f-aa0d-44d1-b932-b968815e113a"
      },
      "source": [
        "X=np.round(np.linspace(-3,7,501),3) # We use np.round() to round each number in the linspace to 3 decimal places\n",
        "x=X[np.where(X!=1.8)]\n",
        "plt.plot(x,R(x))"
      ],
      "execution_count": 58,
      "outputs": [
        {
          "output_type": "execute_result",
          "data": {
            "text/plain": [
              "[<matplotlib.lines.Line2D at 0x7f290a5977f0>]"
            ]
          },
          "metadata": {
            "tags": []
          },
          "execution_count": 58
        },
        {
          "output_type": "display_data",
          "data": {
            "image/png": "[encoded data removed]",
            "text/plain": [
              "<Figure size 432x288 with 1 Axes>"
            ]
          },
          "metadata": {
            "tags": [],
            "needs_background": "light"
          }
        }
      ]
    },
    {
      "cell_type": "markdown",
      "metadata": {
        "id": "r_OSL-eQzVAJ"
      },
      "source": [
        "The graph agrees with the limits. As the graph approaches $1.8$ from the left, the value of $R$ grows to $+\\infty$. As the graph approaches $1.8$ from the right, the value of $R$ grows to $-\\infty$."
      ]
    },
    {
      "cell_type": "markdown",
      "metadata": {
        "id": "THL8nlkKzVAJ"
      },
      "source": [
        "## Exercise 2\n",
        "\n",
        "__Part 1__ Create a Python function to represent the rational function\n",
        "$$\n",
        " T(x)=\\frac{-5x+34}{4x-25}.\n",
        "$$"
      ]
    },
    {
      "cell_type": "code",
      "metadata": {
        "id": "Qg99mETKzVAJ"
      },
      "source": [
        ""
      ],
      "execution_count": null,
      "outputs": []
    },
    {
      "cell_type": "markdown",
      "metadata": {
        "id": "mVnOdsxwzVAJ"
      },
      "source": [
        "__Part 2__  Check the function returns an error at this value of $\\frac{25}{4}=6.25$."
      ]
    },
    {
      "cell_type": "code",
      "metadata": {
        "id": "PJPQGC4vzVAJ"
      },
      "source": [
        ""
      ],
      "execution_count": null,
      "outputs": []
    },
    {
      "cell_type": "markdown",
      "metadata": {
        "id": "DCnSuOI4zVAJ"
      },
      "source": [
        "__Part 3__ Create a sequence using the __array()__ function to evaluate the left-hand limit of $T(x)$ at $x=6.25$. What is the value $\\lim_{x\\to 6.25^{-}}T(x)$?"
      ]
    },
    {
      "cell_type": "code",
      "metadata": {
        "id": "LZnODy11zVAK"
      },
      "source": [
        ""
      ],
      "execution_count": null,
      "outputs": []
    },
    {
      "cell_type": "markdown",
      "metadata": {
        "id": "5_lWkmH6zVAL"
      },
      "source": [
        "The left hand limit is \n",
        "$$\n",
        "\\lim_{x\\to6.25^{-}}T(x)=\n",
        "$$"
      ]
    },
    {
      "cell_type": "markdown",
      "metadata": {
        "id": "hjRqzcTszVAL"
      },
      "source": [
        "__Part 4__ Create a sequence using the __array()__ function to evaluate right-hand limit of $T(p)$ at $s=6.25$. What is the value $\\lim_{p\\to 6.25^{+}}T(p)$?"
      ]
    },
    {
      "cell_type": "code",
      "metadata": {
        "id": "7AAW1vLwzVAL"
      },
      "source": [
        ""
      ],
      "execution_count": null,
      "outputs": []
    },
    {
      "cell_type": "markdown",
      "metadata": {
        "id": "gkkw8UZrzVAL"
      },
      "source": [
        "The right hand limit is\n",
        "$$\n",
        "\\lim_{x\\to 6.25^{+}}T(x)=\n",
        "$$"
      ]
    },
    {
      "cell_type": "markdown",
      "metadata": {
        "id": "HrHLjUc2zVAM"
      },
      "source": [
        "__Part 5__ Plot the graph of $T(x)$. Does this agree with the limits you found above?"
      ]
    },
    {
      "cell_type": "code",
      "metadata": {
        "id": "SDiiAd0vzVAN"
      },
      "source": [
        ""
      ],
      "execution_count": null,
      "outputs": []
    },
    {
      "cell_type": "markdown",
      "metadata": {
        "id": "bJ6RCEnczVAN"
      },
      "source": [
        "# Some important limits\n",
        "\n",
        "* When we want to differentiate functions, such as $\\sin(x)$, and $\\cos(x)$, we will need the limit of these functions under various circumstances.\n",
        "\n",
        "## Example 3: Trigonometric Limit I\n",
        "\n",
        "* We will now show the important trigonometric limit\n",
        "$$\n",
        " \\lim_{x\\to 0}\\frac{\\sin(x)}{x}=1\n",
        "$$\n",
        "\n",
        "* We set up __two__ sequences approaching 0 from the left and approaching 0 from the right:"
      ]
    },
    {
      "cell_type": "code",
      "metadata": {
        "id": "ZcZDZrrlzVAN"
      },
      "source": [
        "x_left=np.array([-0.1,-0.01,-0.001,-0.0001,-0.000001,-1E-10])\n",
        "x_right=np.array([0.1,0.01,0.001,0.0001,0.000001,1E-10])"
      ],
      "execution_count": 42,
      "outputs": []
    },
    {
      "cell_type": "markdown",
      "metadata": {
        "id": "ujxG3MyRzVAN"
      },
      "source": [
        "* Next we create a Python function to represent our first trigonometric expression, which we call __Trig1__."
      ]
    },
    {
      "cell_type": "code",
      "metadata": {
        "id": "wqUKxt8DzVAO"
      },
      "source": [
        "def Trig1(x):\n",
        "    return sin(x)/x"
      ],
      "execution_count": 43,
      "outputs": []
    },
    {
      "cell_type": "markdown",
      "metadata": {
        "id": "_K7aJK4LzVAO"
      },
      "source": [
        "* We evaluate this expresson on the sequences, to give the left hand and right hand limits:"
      ]
    },
    {
      "cell_type": "code",
      "metadata": {
        "colab": {
          "base_uri": "https://localhost:8080/"
        },
        "id": "mvKf8_vszVAO",
        "outputId": "b8063747-db91-451e-8c51-f80930dfb383"
      },
      "source": [
        "Trig1(x_left)"
      ],
      "execution_count": 44,
      "outputs": [
        {
          "output_type": "execute_result",
          "data": {
            "text/plain": [
              "array([0.99833417, 0.99998333, 0.99999983, 1.        , 1.        ,\n",
              "       1.        ])"
            ]
          },
          "metadata": {
            "tags": []
          },
          "execution_count": 44
        }
      ]
    },
    {
      "cell_type": "markdown",
      "metadata": {
        "id": "oBeRk54HzVAO"
      },
      "source": [
        "* Hence, $\\lim_{x\\to0^-}\\frac{\\sin(x)}{x} =1$."
      ]
    },
    {
      "cell_type": "code",
      "metadata": {
        "colab": {
          "base_uri": "https://localhost:8080/"
        },
        "id": "XPB5fOgozVAO",
        "outputId": "1935053d-8dfc-43f2-e2cc-755bfe3b0785"
      },
      "source": [
        "Trig1(x_right)"
      ],
      "execution_count": 47,
      "outputs": [
        {
          "output_type": "execute_result",
          "data": {
            "text/plain": [
              "array([0.99833417, 0.99998333, 0.99999983, 1.        , 1.        ,\n",
              "       1.        ])"
            ]
          },
          "metadata": {
            "tags": []
          },
          "execution_count": 47
        }
      ]
    },
    {
      "cell_type": "markdown",
      "metadata": {
        "id": "MrnrT5nQzVAP"
      },
      "source": [
        "* Hence, $\\lim_{x\\to0^+}\\frac{\\sin(x)}{x} =1$.\n",
        "\n",
        "\n",
        "* The left-hand and right hand limits are equal, so the limit at $x=0$ exists and we have\n",
        "\n",
        "$$\n",
        "\\lim_{x\\to0}\\frac{\\sin(x)}{x}=1.\n",
        "$$"
      ]
    },
    {
      "cell_type": "markdown",
      "metadata": {
        "id": "xy2iLnnmzVAP"
      },
      "source": [
        "## Exercise 3:\n",
        "Follow the steps of __Example 3__ to show that\n",
        "$$\n",
        "\\lim_{x\\to0}\\frac{1-\\cos(x)}{x}=0\n",
        "$$"
      ]
    },
    {
      "cell_type": "code",
      "metadata": {
        "id": "QNpvgUG_zVAP"
      },
      "source": [
        ""
      ],
      "execution_count": null,
      "outputs": []
    },
    {
      "cell_type": "code",
      "metadata": {
        "id": "iGmOylapzVAP"
      },
      "source": [
        ""
      ],
      "execution_count": null,
      "outputs": []
    },
    {
      "cell_type": "markdown",
      "metadata": {
        "id": "iTaq3KoEzVAP"
      },
      "source": [
        "# Derivatives of continuous functions\n",
        "\n",
        "* A function $f(x)$ is continuous (cns.) at $x_0$ if \n",
        "    1. $\\lim_{x\\to x_0^-}f(x)=\\lim_{x\\to x_0^+}f(x)\\neq \\pm\\infty$.\n",
        "    2. $\\lim_{x\\to x_0} f(x)=f(x_0)$\n",
        "\n",
        "\n",
        "* A function __must be cns.__ at $x_0$ if it is to be differentiated there.\n",
        "\n",
        "\n",
        "* When we differentiate the function $f(x)$ and then substitute in the value $x_0$, this tells us how quickly $f$ increaes or decreases, as we move away from $x_0$.\n",
        "\n",
        "\n",
        "* It also tells us __the slope of the tangent__ to the graph of $f(x)$ at $x_0$."
      ]
    },
    {
      "cell_type": "markdown",
      "metadata": {
        "id": "sfaV8tAozVAP"
      },
      "source": [
        "## Differentiation from first principles\n",
        "\n",
        "* The derivative of $f(x)$ is defined by\n",
        "$$\n",
        "\\frac{df}{dx}=\\lim_{h\\to0}\\frac{f(x+h)-f(x)}{h}\n",
        "$$\n",
        "\n",
        "\n",
        "* The value of this derivative at $x_0$ is found by subbing in $x_0$ for $x$.\n",
        "\n",
        "\n",
        "* This tells us the slope of the tangent to the graph.\n",
        "\n",
        "\n",
        "* Using the equation of the line\n",
        "$$\n",
        "y-y_0=m(x-x_0)\\Rightarrow y=y_0+m(x-x_0)\n",
        "$$\n",
        "were $y_0=f(x_0)$ and $m=\\frac{df}{dx}(x_0)$, we can then plot the tangent to the graph of $f(x)$."
      ]
    },
    {
      "cell_type": "markdown",
      "metadata": {
        "id": "iOQkLXuzzVAP"
      },
      "source": [
        "## Example 4\n",
        "\n",
        "__Part 1__ Create a  Python function to represent the expression\n",
        "$$\n",
        "s(t)=40+23t-4.9t^2.\n",
        "$$\n",
        "\n",
        "* __Note:__ This represents the vertical height of an object at time $t$, which was released at time $t=0$ from a height of 40 m, with an initial velocity of 23 m/s upwards and subject to a constant gravitational acceleration of 9.8m/s/s downwards. "
      ]
    },
    {
      "cell_type": "code",
      "metadata": {
        "id": "CJDEh9QvzVAQ"
      },
      "source": [
        "def s(t):\n",
        "    return 40+23*t-4.9*t**2"
      ],
      "execution_count": 48,
      "outputs": []
    },
    {
      "cell_type": "markdown",
      "metadata": {
        "id": "bO-kFgsWzVAQ"
      },
      "source": [
        "__Part 2__ Create a Python function to represent the derivative of this function, using first principles."
      ]
    },
    {
      "cell_type": "code",
      "metadata": {
        "id": "2QbLpVeNzVAQ"
      },
      "source": [
        "h=1E-8 # Choose a very small value of h\n",
        "\n",
        "def ds(t):\n",
        "    return (s(t+h)-s(t))/h"
      ],
      "execution_count": 49,
      "outputs": []
    },
    {
      "cell_type": "markdown",
      "metadata": {
        "id": "fzFexuqQzVAQ"
      },
      "source": [
        "__Part 3__ Evaluate the function $s(t_0)$ and the derivative $\\frac{ds}{dt}(t_0)$, where $t_0=5$. "
      ]
    },
    {
      "cell_type": "code",
      "metadata": {
        "colab": {
          "base_uri": "https://localhost:8080/"
        },
        "id": "buNk6saMzVAR",
        "outputId": "594acf9c-d59a-4b9b-c9d3-7aee6bba8e92"
      },
      "source": [
        "t0=5\n",
        "s(t0), ds(t0)"
      ],
      "execution_count": 50,
      "outputs": [
        {
          "output_type": "execute_result",
          "data": {
            "text/plain": [
              "(32.499999999999986, -25.999999309078703)"
            ]
          },
          "metadata": {
            "tags": []
          },
          "execution_count": 50
        }
      ]
    },
    {
      "cell_type": "markdown",
      "metadata": {
        "id": "ZgbGW8b_zVAR"
      },
      "source": [
        "__Part 4__ Create a Python function to represent the tangent line at $t_0$ to the graph of $V(t)$."
      ]
    },
    {
      "cell_type": "code",
      "metadata": {
        "id": "SVJzbo5BzVAS"
      },
      "source": [
        "t0=5\n",
        "m=ds(t0)\n",
        "y0=s(t0)\n",
        "\n",
        "def Tangent_s(t):\n",
        "    return m*(t-t0)+y0\n"
      ],
      "execution_count": 51,
      "outputs": []
    },
    {
      "cell_type": "markdown",
      "metadata": {
        "id": "ZWygEYFCzVAS"
      },
      "source": [
        "__Part 5__ Plot the graph of $V$ and its tangent line at $t_0$."
      ]
    },
    {
      "cell_type": "code",
      "metadata": {
        "id": "rEPQeUo4zVAS"
      },
      "source": [
        "t=np.linspace(t0-5,t0+5,501)"
      ],
      "execution_count": 55,
      "outputs": []
    },
    {
      "cell_type": "code",
      "metadata": {
        "colab": {
          "base_uri": "https://localhost:8080/",
          "height": 265
        },
        "id": "FhiOt-YxzVAS",
        "outputId": "485af7e6-c935-4bd1-84f3-0d928036fa0f"
      },
      "source": [
        "plt.plot(t,s(t),color='red',label='$y=40+23t-4.9t^2$')\n",
        "plt.plot(t,Tangent_s(t),color='blue',label='Tangent at $t_0=5$')\n",
        "plt.legend()\n",
        "plt.show()"
      ],
      "execution_count": 57,
      "outputs": [
        {
          "output_type": "display_data",
          "data": {
            "image/png": "[encoded data removed]",
            "text/plain": [
              "<Figure size 432x288 with 1 Axes>"
            ]
          },
          "metadata": {
            "tags": [],
            "needs_background": "light"
          }
        }
      ]
    },
    {
      "cell_type": "markdown",
      "metadata": {
        "id": "rRcdYtNczVAS"
      },
      "source": [
        "## Exercise 4\n",
        "\n",
        "__Part 1__ Create a  Python function to represent the expression\n",
        "$$\n",
        "g(x)=\\sin(2x)+2x.\n",
        "$$"
      ]
    },
    {
      "cell_type": "code",
      "metadata": {
        "id": "sAdyGE2vzVAT"
      },
      "source": [
        ""
      ],
      "execution_count": null,
      "outputs": []
    },
    {
      "cell_type": "markdown",
      "metadata": {
        "id": "7xW1K4yTzVAT"
      },
      "source": [
        "__Part 2__ Create a function to represent the derivative of this function, using __first principles__."
      ]
    },
    {
      "cell_type": "code",
      "metadata": {
        "id": "b8N4DiHlzVAT"
      },
      "source": [
        ""
      ],
      "execution_count": null,
      "outputs": []
    },
    {
      "cell_type": "markdown",
      "metadata": {
        "id": "VagtXZebzVAT"
      },
      "source": [
        "__Part 3__ Evaluate the function $g(x_0)$ and the derivative $\\frac{dg}{dx}(x_0)$, where $x_0=\\pi$. "
      ]
    },
    {
      "cell_type": "code",
      "metadata": {
        "id": "oDwFqL5lzVAU"
      },
      "source": [
        ""
      ],
      "execution_count": null,
      "outputs": []
    },
    {
      "cell_type": "markdown",
      "metadata": {
        "id": "c2SP1FFWzVAU"
      },
      "source": [
        "__Part 4__ Create a Python function to represent the tangent line at $x_0$."
      ]
    },
    {
      "cell_type": "code",
      "metadata": {
        "id": "k40-vwNazVAU"
      },
      "source": [
        ""
      ],
      "execution_count": null,
      "outputs": []
    },
    {
      "cell_type": "markdown",
      "metadata": {
        "id": "4oXBRN2GzVAU"
      },
      "source": [
        "__Part 5__ Plot the graph of $g$ and its tangentline at $\\pi$."
      ]
    },
    {
      "cell_type": "code",
      "metadata": {
        "id": "W5iGHX6FzVAV"
      },
      "source": [
        ""
      ],
      "execution_count": null,
      "outputs": []
    },
    {
      "cell_type": "code",
      "metadata": {
        "id": "MHU9_88AzVAV"
      },
      "source": [
        ""
      ],
      "execution_count": null,
      "outputs": []
    },
    {
      "cell_type": "code",
      "metadata": {
        "id": "S2tGHuk6zVAV"
      },
      "source": [
        ""
      ],
      "execution_count": null,
      "outputs": []
    },
    {
      "cell_type": "code",
      "metadata": {
        "id": "SM_UldGHzVAV"
      },
      "source": [
        ""
      ],
      "execution_count": null,
      "outputs": []
    }
  ]
}