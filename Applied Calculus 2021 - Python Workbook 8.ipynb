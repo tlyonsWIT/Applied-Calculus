{
  "nbformat": 4,
  "nbformat_minor": 0,
  "metadata": {
    "anaconda-cloud": {},
    "kernelspec": {
      "display_name": "Python 3",
      "language": "python",
      "name": "python3"
    },
    "language_info": {
      "codemirror_mode": {
        "name": "ipython",
        "version": 3
      },
      "file_extension": ".py",
      "mimetype": "text/x-python",
      "name": "python",
      "nbconvert_exporter": "python",
      "pygments_lexer": "ipython3",
      "version": "3.8.5"
    },
    "colab": {
      "name": "Applied Calculus 2021 - Python Workbook 8.ipynb",
      "provenance": [],
      "include_colab_link": true
    }
  },
  "cells": [
    {
      "cell_type": "markdown",
      "metadata": {
        "id": "view-in-github",
        "colab_type": "text"
      },
      "source": [
        "<a href=\"https://colab.research.google.com/github/tlyonsWIT/Applied-Calculus/blob/main/Applied%20Calculus%202021%20-%20Python%20Workbook%208.ipynb\" target=\"_parent\"><img src=\"https://colab.research.google.com/assets/colab-badge.svg\" alt=\"Open In Colab\"/></a>"
      ]
    },
    {
      "cell_type": "markdown",
      "metadata": {
        "id": "bfHiH3IiMb4p"
      },
      "source": [
        "### Name:\n",
        "### Student Number:"
      ]
    },
    {
      "cell_type": "markdown",
      "metadata": {
        "id": "6ZCoHXywMb4y"
      },
      "source": [
        "# Python Workbook 8 - Further Applications Integration\n",
        "\n",
        "# Section 1:  Average Values of Functions\n",
        "\n",
        "* In this work book we will use the integral to evaluate the average value of some function $f(x)$, over some interval $a\\leq x\\leq b$.\n",
        "\n",
        "\n",
        "* Mathematically, we write this avarage as \n",
        "$$\n",
        "\\bar{f}=\\frac{1}{b-a}\\int_{a}^{b}f(x)dx.\n",
        "$$\n",
        "\n",
        "\n",
        "* In Python there are two ways of doing this, either __numerically__ or __symbolically__.\n",
        "\n",
        "\n",
        "* For the time being we will concentrate on the symbolic evaluation of these averages.\n",
        "\n",
        "\n",
        "* To begin, we import the __sympy__ library in the ususal way. We also use the __init_printing__ environment to produce mathematical output when we run Python cells."
      ]
    },
    {
      "cell_type": "code",
      "metadata": {
        "id": "zKAf5rCRMb40"
      },
      "source": [
        "from sympy import *\n",
        "from sympy import init_printing \n",
        "init_printing()"
      ],
      "execution_count": 1,
      "outputs": []
    },
    {
      "cell_type": "markdown",
      "metadata": {
        "id": "nhZNwLcaMb41"
      },
      "source": [
        "## Example 1: \n",
        "\n",
        "Given the function\n",
        "$$\n",
        "f(t)=t^{3}-8t^{2}+t+75\n",
        "$$\n",
        "answer the following:\n",
        "\n",
        "\n",
        "1. Plot the function f(t) over the interval $-5\\leq t\\leq 5$.\n",
        "\n",
        "\n",
        "2. From the plot, determine if the function is __mostly positive__ or __mostly negative__.\n",
        "\n",
        "\n",
        "3. Determine the average value of the function.\n",
        "\n",
        "\n",
        "4. Does this agree with your observation in Part 2."
      ]
    },
    {
      "cell_type": "markdown",
      "metadata": {
        "id": "1Krfl4OfMb42"
      },
      "source": [
        "### Part 1:\n",
        "First we must create a symbolic variable for $t$, and then define the function $f(t)$."
      ]
    },
    {
      "cell_type": "code",
      "metadata": {
        "id": "F8DeAWqLMb43"
      },
      "source": [
        "t=symbols('t')"
      ],
      "execution_count": 2,
      "outputs": []
    },
    {
      "cell_type": "code",
      "metadata": {
        "colab": {
          "base_uri": "https://localhost:8080/",
          "height": 38
        },
        "id": "NmYGeFuWMb43",
        "outputId": "4ab896c7-ec81-4e1a-fb30-17cdbc786045"
      },
      "source": [
        "f=t**3-8*t**2+t+75\n",
        "f"
      ],
      "execution_count": 3,
      "outputs": [
        {
          "output_type": "execute_result",
          "data": {
            "image/png": "[encoded data removed]",
            "text/latex": "$\\displaystyle t^{3} - 8 t^{2} + t + 75$",
            "text/plain": [
              " 3      2         \n",
              "t  - 8⋅t  + t + 75"
            ]
          },
          "metadata": {
            "tags": []
          },
          "execution_count": 3
        }
      ]
    },
    {
      "cell_type": "markdown",
      "metadata": {
        "id": "1Re5Y4NZMb46"
      },
      "source": [
        "Now we can plot the function $f(t)$ over the interval $-5\\leq t\\leq 5$."
      ]
    },
    {
      "cell_type": "code",
      "metadata": {
        "colab": {
          "base_uri": "https://localhost:8080/",
          "height": 297
        },
        "id": "6xJ12oonMb47",
        "outputId": "fee39268-0780-4a46-ea4e-421be771f847"
      },
      "source": [
        "plot(f,(t,-5,5));"
      ],
      "execution_count": 4,
      "outputs": [
        {
          "output_type": "display_data",
          "data": {
            "image/png": "[encoded data removed]",
            "text/plain": [
              "<Figure size 432x288 with 1 Axes>"
            ]
          },
          "metadata": {
            "tags": [],
            "needs_background": "light"
          }
        }
      ]
    },
    {
      "cell_type": "markdown",
      "metadata": {
        "id": "Nud3fT57Mb48"
      },
      "source": [
        "### Part 2:\n",
        "From the graph it appears the function is __mostly potitive__, the function is positive over a much larger interval than negative."
      ]
    },
    {
      "cell_type": "markdown",
      "metadata": {
        "id": "8eVt_zvgMb48"
      },
      "source": [
        "### Part 3:\n",
        "* We evaluate the average of the function as $\\frac{1}{b-a}\\int_{a}^{b}f(t)dt$, and with $a=-5$ and $b=5$, it follows that \n",
        "\n",
        "\n",
        "$$\n",
        "\\bar{f}=\\frac{1}{5-(-5)}\\int_{-5}^{5}f(t)dt=\\frac{1}{10}\\int_{-5}^{5}f(t)dt.\n",
        "$$\n",
        "\n"
      ]
    },
    {
      "cell_type": "code",
      "metadata": {
        "colab": {
          "base_uri": "https://localhost:8080/",
          "height": 37
        },
        "id": "Aw2SEar6Mb4_",
        "outputId": "32b73b17-184d-4310-ab9f-747fc5b6ccad"
      },
      "source": [
        "a=-5\n",
        "b=5\n",
        "f_bar=(1/(b-a))*integrate(f,(t,a,b))\n",
        "f_bar"
      ],
      "execution_count": 5,
      "outputs": [
        {
          "output_type": "execute_result",
          "data": {
            "image/png": "[encoded data removed]",
            "text/latex": "$\\displaystyle 8.33333333333333$",
            "text/plain": [
              "8.33333333333333"
            ]
          },
          "metadata": {
            "tags": []
          },
          "execution_count": 5
        }
      ]
    },
    {
      "cell_type": "markdown",
      "metadata": {
        "id": "O0fqmLE-Mb5A"
      },
      "source": [
        "### Part 4:\n",
        "\n",
        "Since the function is mostly positive over the interval $-5\\leq t\\leq 5$, the average value of the function should be positive over this interval."
      ]
    },
    {
      "cell_type": "markdown",
      "metadata": {
        "id": "GfErax4BMb5B"
      },
      "source": [
        "## Exercise 1 (from handout 3): \n",
        "\n",
        "The temperature $T$ (measureed in $^{\\circ}$C) at time $t$ is given by\n",
        "$$\n",
        "T(t)=0.001t^{4}-0.28t^{2}+25\n",
        "$$\n",
        "where $t$ is the number of hours from __noon__.\n",
        "\n",
        "Using this, answer the following:\n",
        "\n",
        "1. Plot the function T(t) over the interval $0<t<12$, i.e. between noon and midnight.\n",
        "\n",
        "\n",
        "\n",
        "2. From this plot, estimate if the temperature is mostly positive or mostly negative in this interval.\n",
        "\n",
        "\n",
        "\n",
        "3. Find the average value of the temperature beteween noon and midnight.\n",
        "\n",
        "\n",
        "\n",
        "4. Does this agree with your observation from Part 2."
      ]
    },
    {
      "cell_type": "code",
      "metadata": {
        "id": "B1sdQoX7Mb5B"
      },
      "source": [
        ""
      ],
      "execution_count": 5,
      "outputs": []
    },
    {
      "cell_type": "code",
      "metadata": {
        "id": "VE6mvoHMMb5B"
      },
      "source": [
        ""
      ],
      "execution_count": 5,
      "outputs": []
    },
    {
      "cell_type": "code",
      "metadata": {
        "id": "fqAx4wmjMb5B"
      },
      "source": [
        ""
      ],
      "execution_count": 5,
      "outputs": []
    },
    {
      "cell_type": "code",
      "metadata": {
        "id": "9ae6FFkSMb5C"
      },
      "source": [
        ""
      ],
      "execution_count": 5,
      "outputs": []
    },
    {
      "cell_type": "markdown",
      "metadata": {
        "id": "eYBlILF5Mb5C"
      },
      "source": [
        "## The Root Mean Square (RMS) of a function\n",
        "\n",
        "* Given a function $f(t)$, the __RMS__ of this function, over the time interval $a<t<b$ is given by:\n",
        "$$\n",
        "RMS(f(t))=\\sqrt{\\frac{1}{b-a}\\int f(t)^2dt}\n",
        "$$\n",
        "\n",
        "* This is an important type of average, especially in relation to electronics and elictrical supply."
      ]
    },
    {
      "cell_type": "markdown",
      "metadata": {
        "id": "yyMTTIbqMb5C"
      },
      "source": [
        "## Example 2 - RMS of a sinusoid\n",
        "\n",
        "Given by the function\n",
        "$$\n",
        "  g(t) = 400\\sin(250\\pi t),\n",
        "$$\n",
        " \n",
        "answer the following:\n",
        "1. Plot this function of the time interval $0\\leq t\\leq 0.016$\n",
        "\n",
        "\n",
        "2. Find the average value of this function over this time interval, as we did in __Exercise 1__.\n",
        "\n",
        "\n",
        "3. Find the RMS of this over the time interval.\n",
        "\n",
        "\n",
        "4. Confirm that this RMS is equivalent to $\\frac{400}{\\sqrt{2}}$"
      ]
    },
    {
      "cell_type": "markdown",
      "metadata": {
        "id": "unM1aoUoMb5D"
      },
      "source": [
        "### Part 1:\n",
        "Defining the function we have "
      ]
    },
    {
      "cell_type": "code",
      "metadata": {
        "id": "6DHWCOVzMb5D"
      },
      "source": [
        "g=400*sin(250*pi*t)"
      ],
      "execution_count": 6,
      "outputs": []
    },
    {
      "cell_type": "markdown",
      "metadata": {
        "id": "UVBp4YJIMb5E"
      },
      "source": [
        "* We can now plot the temperaature as a function of $t$, over the time interval $0<t<0.016$:"
      ]
    },
    {
      "cell_type": "code",
      "metadata": {
        "colab": {
          "base_uri": "https://localhost:8080/",
          "height": 297
        },
        "id": "7QoR2sLYMb5E",
        "outputId": "a70727e8-3553-4053-9bad-831b3e328ed3"
      },
      "source": [
        "plot(g,(t,0,0.016));"
      ],
      "execution_count": 7,
      "outputs": [
        {
          "output_type": "display_data",
          "data": {
            "image/png": "[encoded data removed]",
            "text/plain": [
              "<Figure size 432x288 with 1 Axes>"
            ]
          },
          "metadata": {
            "tags": [],
            "needs_background": "light"
          }
        }
      ]
    },
    {
      "cell_type": "markdown",
      "metadata": {
        "id": "HSXPzc1vMb5F"
      },
      "source": [
        "* From the graph we see that function is negative just as often as it is positive, so we should expect its average to be zero.\n",
        "\n",
        "\n",
        "\n",
        "* In other word, half of the area is above the $x$-axis and hald the area is below the $x$-axis."
      ]
    },
    {
      "cell_type": "markdown",
      "metadata": {
        "id": "wqbI0wN2Mb5F"
      },
      "source": [
        "### Part 2:\n",
        "\n",
        "* Finding the average of the function over the time interval we have "
      ]
    },
    {
      "cell_type": "code",
      "metadata": {
        "colab": {
          "base_uri": "https://localhost:8080/",
          "height": 37
        },
        "id": "dxdnfYwQMb5G",
        "outputId": "8212c779-b9be-4cbf-ce5e-1e91256c6d49"
      },
      "source": [
        "a=0\n",
        "b=0.016\n",
        "g_bar=1/(b-a)*integrate(g,(t,a,b))\n",
        "g_bar"
      ],
      "execution_count": 8,
      "outputs": [
        {
          "output_type": "execute_result",
          "data": {
            "image/png": "[encoded data removed]",
            "text/latex": "$\\displaystyle 0$",
            "text/plain": [
              "0"
            ]
          },
          "metadata": {
            "tags": []
          },
          "execution_count": 8
        }
      ]
    },
    {
      "cell_type": "markdown",
      "metadata": {
        "id": "UQ4o-m2oMb5G"
      },
      "source": [
        "### Part 3\n",
        "\n",
        "* We find the __RMS__ of the function as follows:"
      ]
    },
    {
      "cell_type": "code",
      "metadata": {
        "colab": {
          "base_uri": "https://localhost:8080/",
          "height": 37
        },
        "id": "QmvHT3ZDMb5H",
        "outputId": "b97a942f-ac52-4d50-8880-47a5a7c2ef0d"
      },
      "source": [
        "a=0\n",
        "b=0.016\n",
        "RMS_g=sqrt((1.0/(b-a))*integrate(g**2,(t,a,b)))\n",
        "RMS_g"
      ],
      "execution_count": 9,
      "outputs": [
        {
          "output_type": "execute_result",
          "data": {
            "image/png": "[encoded data removed]",
            "text/latex": "$\\displaystyle 282.842712474619$",
            "text/plain": [
              "282.842712474619"
            ]
          },
          "metadata": {
            "tags": []
          },
          "execution_count": 9
        }
      ]
    },
    {
      "cell_type": "markdown",
      "metadata": {
        "id": "NFoo0KAdMb5H"
      },
      "source": [
        "### Part 4\n",
        "\n",
        "* Comparing with $\\frac{400}{\\sqrt{2}}$ we have"
      ]
    },
    {
      "cell_type": "code",
      "metadata": {
        "colab": {
          "base_uri": "https://localhost:8080/",
          "height": 37
        },
        "id": "nl2WTlE-Mb5H",
        "outputId": "4d0e7591-b9da-42a6-80dd-79dae63c01ae"
      },
      "source": [
        "400/sqrt(2).evalf()"
      ],
      "execution_count": 10,
      "outputs": [
        {
          "output_type": "execute_result",
          "data": {
            "image/png": "[encoded data removed]",
            "text/latex": "$\\displaystyle 282.842712474619$",
            "text/plain": [
              "282.842712474619"
            ]
          },
          "metadata": {
            "tags": []
          },
          "execution_count": 10
        }
      ]
    },
    {
      "cell_type": "markdown",
      "metadata": {
        "id": "ZJbGYQd1Mb5I"
      },
      "source": [
        "#### Reamark on $\\text{RMS}(A\\sin(kt))$\n",
        "\n",
        "\n",
        "* When we take the __RMS__ of a function like $A\\sin(kt)$ or $A\\cos(kt)$, where $A$ and $k$ are conatants, we always end up with the answer $\\frac{A}{\\sqrt{2}}$.\n",
        "\n",
        "\n",
        "\n",
        "* This is a general property of the trigonometric functions $\\cos$ and $\\sin$, and has nothing to do with the values of $A$ or $k$."
      ]
    },
    {
      "cell_type": "markdown",
      "metadata": {
        "id": "tgYbq4ReMb5I"
      },
      "source": [
        "## Exercise 2\n",
        "\n",
        "The electricity voltage delivered to a house in Ireland is given by the function\n",
        "$$\n",
        "    V(t) = 220\\sin(50t)\n",
        "$$\n",
        "\n",
        "1. Plot the function $V(t)$ and from the graph estimate the __mean__ of this voltage over $0<t<\\frac{\\pi}{25}$.\n",
        "\n",
        "\n",
        "2. Find the mean value of this voltage over the time interval given.\n",
        "\n",
        "\n",
        "3. Find the RMS of this voltage of this voltage over the time given.\n",
        "\n",
        "\n",
        "4. Confirm that this RMS is equal to $\\frac{220}{\\sqrt{2}}$."
      ]
    },
    {
      "cell_type": "code",
      "metadata": {
        "id": "PpqE9is2Mb5I"
      },
      "source": [
        ""
      ],
      "execution_count": 10,
      "outputs": []
    },
    {
      "cell_type": "code",
      "metadata": {
        "id": "ivzHuLGAMb5J"
      },
      "source": [
        ""
      ],
      "execution_count": 10,
      "outputs": []
    },
    {
      "cell_type": "code",
      "metadata": {
        "id": "gGsSQPM8Mb5J"
      },
      "source": [
        ""
      ],
      "execution_count": 10,
      "outputs": []
    },
    {
      "cell_type": "code",
      "metadata": {
        "id": "V21VkzHCMb5J"
      },
      "source": [
        ""
      ],
      "execution_count": 10,
      "outputs": []
    },
    {
      "cell_type": "markdown",
      "metadata": {
        "id": "UyBkC5fmMb5K"
      },
      "source": [
        "# Section 2: Numerical Integration - The Trapezoidal Rule\n",
        "\n",
        "* The integral of a function $f(x)$, over the interval $a\\leq x\\leq b$, according to the __trapezoidal rule__ is given by\n",
        "\n",
        "\n",
        "$$\n",
        "\\int_{a}^{b}f(x)dx= \\frac{h}{2}[y_0+y_n+2(y_1+y_2+y_3+\\ldots+y_{n-1})]\n",
        "$$\n",
        "\n",
        "\n",
        "* Here the parameters are given by\n",
        "\n",
        "__$n$__ The number of steps in the integration.\n",
        "\n",
        "\n",
        "\n",
        "__$h$__ The stepsize of the integration, given by $h=\\frac{b-a}{n}$\n",
        "\n",
        "\n",
        "__$y_n$__ The value of the function at $x_n=x_0+nh$, i.e. $y_{n}=f(x_n)$ "
      ]
    },
    {
      "cell_type": "markdown",
      "metadata": {
        "id": "_eNIXq-yMb5K"
      },
      "source": [
        "## Example 3\n",
        "\n",
        "Integrate the following function, over the interval $0\\leq x\\leq 5$, using the trapezoidal rule with $n=11$ evaluation points:\n",
        "\n",
        "$$\n",
        "    P(x) = 1+x^2.\n",
        "$$\n"
      ]
    },
    {
      "cell_type": "markdown",
      "metadata": {
        "id": "H9kVZfs-Mb5K"
      },
      "source": [
        "### Part 1:\n",
        "\n",
        "* Define the function"
      ]
    },
    {
      "cell_type": "code",
      "metadata": {
        "id": "5y3aOpO9Mb5L"
      },
      "source": [
        "def P(x):\n",
        "    return 1+x**2"
      ],
      "execution_count": 11,
      "outputs": []
    },
    {
      "cell_type": "markdown",
      "metadata": {
        "id": "ZQ5ae74uMb5L"
      },
      "source": [
        "### Part 2:\n",
        "* To integrate this function numerically, we need to import the __numpy__ library in the usual way:"
      ]
    },
    {
      "cell_type": "code",
      "metadata": {
        "id": "VGJroAchMb5L"
      },
      "source": [
        "import numpy as np\n",
        "from numpy import cos, sin, exp, log, tan, pi\n",
        "import matplotlib.pyplot as plt"
      ],
      "execution_count": 13,
      "outputs": []
    },
    {
      "cell_type": "markdown",
      "metadata": {
        "id": "8Y8TEOqRMb5L"
      },
      "source": [
        "* We have also imported several useful functions from the __numpy__ library.\n",
        "\n",
        "\n",
        "* We import __matplotlib.pyplot__ to create plots of what we are doing along the way."
      ]
    },
    {
      "cell_type": "markdown",
      "metadata": {
        "id": "ipASLJM0Mb5L"
      },
      "source": [
        "### Import __trapz__ from numpy"
      ]
    },
    {
      "cell_type": "markdown",
      "metadata": {
        "id": "jve3EVY7Mb5M"
      },
      "source": [
        "* We can use the __trapz__ function from the __numpy__ library to calculate integrals using the trapezoidal rule automaically!!"
      ]
    },
    {
      "cell_type": "code",
      "metadata": {
        "id": "k2BCa9nIMb5M"
      },
      "source": [
        "from numpy import trapz # No need to import again once this cell has been run once!!"
      ],
      "execution_count": 14,
      "outputs": []
    },
    {
      "cell_type": "markdown",
      "metadata": {
        "id": "aU_0u72lMb5M"
      },
      "source": [
        "### Create the $x$-space for the integral\n",
        "\n",
        "* Since we are integrating along $0\\leq x\\leq 4$ using $n=5$ points, we create the following __linspace__ for the integral:"
      ]
    },
    {
      "cell_type": "code",
      "metadata": {
        "colab": {
          "base_uri": "https://localhost:8080/"
        },
        "id": "tlAmwV86Mb5N",
        "outputId": "e129f325-9738-48e0-e6e2-6298b9d22550"
      },
      "source": [
        "X=np.linspace(0,4,5)\n",
        "X"
      ],
      "execution_count": 15,
      "outputs": [
        {
          "output_type": "execute_result",
          "data": {
            "text/plain": [
              "array([0., 1., 2., 3., 4.])"
            ]
          },
          "metadata": {
            "tags": []
          },
          "execution_count": 15
        }
      ]
    },
    {
      "cell_type": "markdown",
      "metadata": {
        "id": "s-S4SWWuMb5N"
      },
      "source": [
        "### Evaluating the functions on the __linspace__"
      ]
    },
    {
      "cell_type": "markdown",
      "metadata": {
        "id": "Iz9VYx-xMb5N"
      },
      "source": [
        "* The function evaluated on this __linspace__ is given by"
      ]
    },
    {
      "cell_type": "code",
      "metadata": {
        "colab": {
          "base_uri": "https://localhost:8080/"
        },
        "id": "n2RmqSNCMb5O",
        "outputId": "96ec2d28-b13d-4dfc-d51e-152ba7a084fd"
      },
      "source": [
        "P(X)"
      ],
      "execution_count": 16,
      "outputs": [
        {
          "output_type": "execute_result",
          "data": {
            "text/plain": [
              "array([ 1.,  2.,  5., 10., 17.])"
            ]
          },
          "metadata": {
            "tags": []
          },
          "execution_count": 16
        }
      ]
    },
    {
      "cell_type": "markdown",
      "metadata": {
        "id": "0j-Www3uMb5P"
      },
      "source": [
        "* This returns the square of each value in the __linspace  X__\n",
        "\n",
        "\n",
        "* We plot these values as follows"
      ]
    },
    {
      "cell_type": "code",
      "metadata": {
        "colab": {
          "base_uri": "https://localhost:8080/",
          "height": 282
        },
        "id": "jHcnWvFhMb5P",
        "outputId": "1bc743e4-5972-4a6f-92c3-d75a0d852740"
      },
      "source": [
        "plt.plot(X,P(X),'o',color='red')"
      ],
      "execution_count": 17,
      "outputs": [
        {
          "output_type": "execute_result",
          "data": {
            "text/plain": [
              "[<matplotlib.lines.Line2D at 0x7fd94722c4d0>]"
            ]
          },
          "metadata": {
            "tags": []
          },
          "execution_count": 17
        },
        {
          "output_type": "display_data",
          "data": {
            "image/png": "[encoded data removed]",
            "text/plain": [
              "<Figure size 432x288 with 1 Axes>"
            ]
          },
          "metadata": {
            "tags": [],
            "needs_background": "light"
          }
        }
      ]
    },
    {
      "cell_type": "markdown",
      "metadata": {
        "id": "bHA9f8_-Mb5P"
      },
      "source": [
        "* We use __'o'__ in the plot function to indicate we want to use closed dots to represent the data values.\n",
        "\n",
        "\n",
        "\n",
        "* Other markers include __'+'__, __'v'__, __'s'__, __'d'__ among many others. "
      ]
    },
    {
      "cell_type": "markdown",
      "metadata": {
        "id": "vow214ZCMb5Q"
      },
      "source": [
        "## Integrating on the linspace"
      ]
    },
    {
      "cell_type": "markdown",
      "metadata": {
        "id": "uzKB2qFXMb5Q"
      },
      "source": [
        "* We can integrate this using the trapezoidal rule as follows:"
      ]
    },
    {
      "cell_type": "code",
      "metadata": {
        "colab": {
          "base_uri": "https://localhost:8080/",
          "height": 37
        },
        "id": "FJHi4PGyMb5Q",
        "outputId": "370a0133-4e53-4ad0-a1b9-7474e748aa5f"
      },
      "source": [
        "trapz(P(X),X)"
      ],
      "execution_count": 18,
      "outputs": [
        {
          "output_type": "execute_result",
          "data": {
            "image/png": "[encoded data removed]",
            "text/latex": "$\\displaystyle 26.0$",
            "text/plain": [
              "26.0"
            ]
          },
          "metadata": {
            "tags": []
          },
          "execution_count": 18
        }
      ]
    },
    {
      "cell_type": "markdown",
      "metadata": {
        "id": "OhSr0nfKMb5R"
      },
      "source": [
        "* This gives 2 times each value $X_1$, $X_2$ and $X_3$, while it gives only 1 times the values $X_{0}$ and $X_{4}$. This sum is then mutiplied by  half the stepsize.\n",
        "\n",
        "\n",
        "* In the figure below we illustrate what we have done graphically:"
      ]
    },
    {
      "cell_type": "code",
      "metadata": {
        "colab": {
          "base_uri": "https://localhost:8080/",
          "height": 282
        },
        "id": "hqWOZbp7Mb5S",
        "outputId": "105c2189-7385-4d0f-9b39-956a12e9c2f7"
      },
      "source": [
        "plt.plot(X,P(X),'o',color='red')\n",
        "plt.vlines(X,ymin=0,ymax=P(X))\n",
        "plt.plot(X,P(X))"
      ],
      "execution_count": 19,
      "outputs": [
        {
          "output_type": "execute_result",
          "data": {
            "text/plain": [
              "[<matplotlib.lines.Line2D at 0x7fd9471df890>]"
            ]
          },
          "metadata": {
            "tags": []
          },
          "execution_count": 19
        },
        {
          "output_type": "display_data",
          "data": {
            "image/png": "[encoded data removed]",
            "text/plain": [
              "<Figure size 432x288 with 1 Axes>"
            ]
          },
          "metadata": {
            "tags": [],
            "needs_background": "light"
          }
        }
      ]
    },
    {
      "cell_type": "markdown",
      "metadata": {
        "id": "2m9yrAlrMb5S"
      },
      "source": [
        "* What we are doing numerically is calculating the areas of each of the trapezoids shown above.\n",
        "\n",
        "\n",
        "\n",
        "* The __First Trapezoid__ has heights __P(0)__, __P(1)__ and width __h__ so \n",
        "\n",
        "$$\n",
        "\\mathrm{Area}_1=h\\cdot\\frac{P(0)+P(1)}{2}.\n",
        "$$\n",
        "\n",
        "\n",
        "* The __Second Trapezoid__ has heights __P(1)__, __P(X[2])__ and width __h__ so \n",
        "$$\n",
        "\\mathrm{Area}_2=h\\cdot\\frac{P(X[1])+P(X[2])}{2}.\n",
        "$$\n",
        "\n",
        "\n",
        "* The __Third Trapezoid__ has heights __P(X[2])__, __P(X[3])__ and width __h__ so \n",
        "$$\n",
        "\\mathrm{Area}_3=h\\cdot\\frac{P(X[2])+P(X[3])}{2}.\n",
        "$$\n",
        "\n",
        "\n",
        "* The __Fourth Trapezoid__ has heights __P(X[3])__, __P(X[4])__ and width __h__ so \n",
        "$$\n",
        "\\mathrm{Area}_4=h\\cdot\\frac{P(X[3])+P(X[4])}{2}.\n",
        "$$\n",
        "\n",
        "\n",
        "* Hence the __total area__ is just the sum of these areas, given by\n",
        "$$\n",
        "\\begin{aligned}\n",
        "\\mathrm{Area}&=\\frac{h}{2}\\left[P(X[0])+2P(X[1])+2P(X[2])+2P(X[3])+P(X[4])\\right]\\\\\n",
        "             &=\\frac{h}{2}\\left[2\\{P(X[0])+P(X[1])+P(X[2])+P(X[3])+P(X[3])+P(X[4])\\}-P(X[0])-P(X[4])\\right]\\\\\n",
        "             &=\\frac{h}{2}\\left[2\\Sigma(P(X))-P(X[0])-P(X[4])\\right].\n",
        "\\end{aligned}\n",
        "$$\n"
      ]
    },
    {
      "cell_type": "markdown",
      "metadata": {
        "id": "LvXXyAnrMb5S"
      },
      "source": [
        "## Improving the answer\n",
        "\n",
        "* The smaller we make the step size __h__, or equivalently, the larger we make **n**, then the better our answer will be.\n",
        "\n",
        "\n",
        "* To see this, we evaluate the same integral using __n=51__ evaluation points:"
      ]
    },
    {
      "cell_type": "code",
      "metadata": {
        "id": "LL7Eaf-HMb5T"
      },
      "source": [
        "X=np.linspace(0,4,51)"
      ],
      "execution_count": 64,
      "outputs": []
    },
    {
      "cell_type": "code",
      "metadata": {
        "colab": {
          "base_uri": "https://localhost:8080/"
        },
        "id": "rvHOufNrMb5T",
        "outputId": "3c8d6810-6404-41b3-b727-cb92b7a47054"
      },
      "source": [
        "P(X)"
      ],
      "execution_count": 65,
      "outputs": [
        {
          "output_type": "execute_result",
          "data": {
            "text/plain": [
              "array([ 1.    ,  1.0064,  1.0256,  1.0576,  1.1024,  1.16  ,  1.2304,\n",
              "        1.3136,  1.4096,  1.5184,  1.64  ,  1.7744,  1.9216,  2.0816,\n",
              "        2.2544,  2.44  ,  2.6384,  2.8496,  3.0736,  3.3104,  3.56  ,\n",
              "        3.8224,  4.0976,  4.3856,  4.6864,  5.    ,  5.3264,  5.6656,\n",
              "        6.0176,  6.3824,  6.76  ,  7.1504,  7.5536,  7.9696,  8.3984,\n",
              "        8.84  ,  9.2944,  9.7616, 10.2416, 10.7344, 11.24  , 11.7584,\n",
              "       12.2896, 12.8336, 13.3904, 13.96  , 14.5424, 15.1376, 15.7456,\n",
              "       16.3664, 17.    ])"
            ]
          },
          "metadata": {
            "tags": []
          },
          "execution_count": 65
        }
      ]
    },
    {
      "cell_type": "code",
      "metadata": {
        "colab": {
          "base_uri": "https://localhost:8080/",
          "height": 282
        },
        "id": "Ezp4JRgSMb5T",
        "outputId": "425aa442-47b3-486e-c0af-41d4e4c2505d"
      },
      "source": [
        "plt.plot(X,P(X),'.',color='red')\n",
        "plt.vlines(X,ymin=0,ymax=P(X))\n",
        "plt.plot(X,P(X))"
      ],
      "execution_count": 66,
      "outputs": [
        {
          "output_type": "execute_result",
          "data": {
            "text/plain": [
              "[<matplotlib.lines.Line2D at 0x7fd945dd4190>]"
            ]
          },
          "metadata": {
            "tags": []
          },
          "execution_count": 66
        },
        {
          "output_type": "display_data",
          "data": {
            "image/png": "[encoded data removed]",
            "text/plain": [
              "<Figure size 432x288 with 1 Axes>"
            ]
          },
          "metadata": {
            "tags": [],
            "needs_background": "light"
          }
        }
      ]
    },
    {
      "cell_type": "markdown",
      "metadata": {
        "id": "r5YdGui1Mb5U"
      },
      "source": [
        "* The trapesoidal rule gives the area above as follows:"
      ]
    },
    {
      "cell_type": "code",
      "metadata": {
        "colab": {
          "base_uri": "https://localhost:8080/",
          "height": 37
        },
        "id": "O2my6cnLMb5U",
        "outputId": "f5b65c80-1e5c-45f3-d044-4c8a5638c998"
      },
      "source": [
        "trapz(P(X),X)"
      ],
      "execution_count": 23,
      "outputs": [
        {
          "output_type": "execute_result",
          "data": {
            "image/png": "[encoded data removed]",
            "text/latex": "$\\displaystyle 25.3376$",
            "text/plain": [
              "25.337600000000002"
            ]
          },
          "metadata": {
            "tags": []
          },
          "execution_count": 23
        }
      ]
    },
    {
      "cell_type": "markdown",
      "metadata": {
        "id": "ll4-1rUvMb5U"
      },
      "source": [
        "## The exact answer \n",
        "\n",
        "* Since the function is simple to integrate in this case, we can also get an exact answer symbolically.\n",
        "\n",
        "\n",
        "* The exact answer we seek is:"
      ]
    },
    {
      "cell_type": "code",
      "metadata": {
        "colab": {
          "base_uri": "https://localhost:8080/",
          "height": 37
        },
        "id": "M1HP2gU1Mb5V",
        "outputId": "c03af87d-1a19-4b44-d46f-065b76f75cc1"
      },
      "source": [
        "x=symbols('x')\n",
        "integrate(1+x**2,(x,0,4)).evalf()"
      ],
      "execution_count": 24,
      "outputs": [
        {
          "output_type": "execute_result",
          "data": {
            "image/png": "[encoded data removed]",
            "text/latex": "$\\displaystyle 25.3333333333333$",
            "text/plain": [
              "25.3333333333333"
            ]
          },
          "metadata": {
            "tags": []
          },
          "execution_count": 24
        }
      ]
    },
    {
      "cell_type": "markdown",
      "metadata": {
        "id": "52J0wddiMb5V"
      },
      "source": [
        "* It is clear that with __n=51__ then the answer we get is fairly accurate.\n",
        "\n",
        "* If we make __n__ even bigger then we will get an even more accuarte answer."
      ]
    },
    {
      "cell_type": "markdown",
      "metadata": {
        "id": "8d6wuWQ5Mb5V"
      },
      "source": [
        "## Exercise 3\n",
        "\n",
        "Integrate the following function, over the interval $0\\leq x\\leq 2\\pi$, using the methods given below: \n",
        "\n",
        "$$\n",
        "    Q(r) = \\sin(r^2)\n",
        "$$\n",
        "\n",
        "1. Integrate using the trapezoidal rule with $n=15$.\n",
        "\n",
        "\n",
        "2. Integrate using the trapezoidal rule with $n=75$.\n",
        "\n",
        "\n",
        "3. Create __two__ plots to represent __both__ of these numerical integrals."
      ]
    },
    {
      "cell_type": "code",
      "metadata": {
        "id": "_ZlZUmvEN2qq"
      },
      "source": [
        ""
      ],
      "execution_count": null,
      "outputs": []
    },
    {
      "cell_type": "code",
      "metadata": {
        "id": "M51VlMHTPHa6"
      },
      "source": [
        ""
      ],
      "execution_count": null,
      "outputs": []
    },
    {
      "cell_type": "code",
      "metadata": {
        "id": "qjSFBy0RPHdk"
      },
      "source": [
        ""
      ],
      "execution_count": null,
      "outputs": []
    },
    {
      "cell_type": "code",
      "metadata": {
        "id": "Jeo71X_rPHgQ"
      },
      "source": [
        ""
      ],
      "execution_count": null,
      "outputs": []
    },
    {
      "cell_type": "code",
      "metadata": {
        "id": "ABCa7yODPHiz"
      },
      "source": [
        ""
      ],
      "execution_count": null,
      "outputs": []
    },
    {
      "cell_type": "code",
      "metadata": {
        "id": "fcSfdwCRPHlY"
      },
      "source": [
        ""
      ],
      "execution_count": null,
      "outputs": []
    },
    {
      "cell_type": "code",
      "metadata": {
        "id": "T-W0OepNPHoO"
      },
      "source": [
        ""
      ],
      "execution_count": null,
      "outputs": []
    },
    {
      "cell_type": "code",
      "metadata": {
        "id": "1-T513kFPH96"
      },
      "source": [
        ""
      ],
      "execution_count": null,
      "outputs": []
    },
    {
      "cell_type": "markdown",
      "metadata": {
        "id": "8xBY9ujCMb5W"
      },
      "source": [
        "## Exercise 4\n",
        "\n",
        "Integrate the following function, over the interval $0\\leq r\\leq 1.5$, using the methods given below: \n",
        "\n",
        "$$\n",
        "    F(r) = \\exp(-r^2).\n",
        "$$\n",
        "\n",
        "1. Integrate using the function __Trpz()__ with $n=51$.\n",
        "\n",
        "\n",
        "2. Integrate using the function __Trpz()__ with $n=501$.\n",
        "\n",
        "\n",
        "3. Create a plot to illustrate the trapezoidal sum in the case __n=51__ (like Example 3 and Exercise 3)."
      ]
    },
    {
      "cell_type": "code",
      "metadata": {
        "id": "udKfRn1rMb5X"
      },
      "source": [
        ""
      ],
      "execution_count": null,
      "outputs": []
    },
    {
      "cell_type": "code",
      "metadata": {
        "id": "jL745-bTPFDF"
      },
      "source": [
        ""
      ],
      "execution_count": null,
      "outputs": []
    },
    {
      "cell_type": "code",
      "metadata": {
        "id": "llDXvo2cPFF-"
      },
      "source": [
        ""
      ],
      "execution_count": null,
      "outputs": []
    },
    {
      "cell_type": "code",
      "metadata": {
        "id": "jBkKOPQ1PFIk"
      },
      "source": [
        ""
      ],
      "execution_count": null,
      "outputs": []
    },
    {
      "cell_type": "code",
      "metadata": {
        "id": "O4VwOc6tPFLP"
      },
      "source": [
        ""
      ],
      "execution_count": null,
      "outputs": []
    },
    {
      "cell_type": "code",
      "metadata": {
        "id": "1exy0QxPPFNz"
      },
      "source": [
        ""
      ],
      "execution_count": null,
      "outputs": []
    },
    {
      "cell_type": "code",
      "metadata": {
        "id": "q8tiFNjeN1eK"
      },
      "source": [
        ""
      ],
      "execution_count": null,
      "outputs": []
    },
    {
      "cell_type": "code",
      "metadata": {
        "id": "KSyeN4iiN1lp"
      },
      "source": [
        ""
      ],
      "execution_count": null,
      "outputs": []
    },
    {
      "cell_type": "markdown",
      "metadata": {
        "id": "CuC_5c3LMb5X"
      },
      "source": [
        "## Exercise 5\n",
        "\n",
        "Integrate the following function, over the interval $0\\leq r\\leq 2\\pi$, using the methods given below: \n",
        "\n",
        "$$\n",
        "    G(r) = \\exp(0.25\\cos(r))\n",
        "$$\n",
        "\n",
        "1. Integrate using the function __Trpz()__ with $n=35$.\n",
        "\n",
        "\n",
        "2. Integrate using the function __Trpz()__ with $n=201$.\n",
        "\n",
        "\n",
        "3. Create a plot to illustrate the trapezoidal sum in the case $n=35$."
      ]
    },
    {
      "cell_type": "code",
      "metadata": {
        "id": "f_Dv6QwtMb5Y"
      },
      "source": [
        ""
      ],
      "execution_count": null,
      "outputs": []
    },
    {
      "cell_type": "code",
      "metadata": {
        "id": "cb_E_wxFPC4s"
      },
      "source": [
        ""
      ],
      "execution_count": null,
      "outputs": []
    },
    {
      "cell_type": "code",
      "metadata": {
        "id": "xKQg_cAkPC7S"
      },
      "source": [
        ""
      ],
      "execution_count": null,
      "outputs": []
    },
    {
      "cell_type": "code",
      "metadata": {
        "id": "QIgf0rG6PC-F"
      },
      "source": [
        ""
      ],
      "execution_count": null,
      "outputs": []
    },
    {
      "cell_type": "code",
      "metadata": {
        "id": "oRXuj3dyPDAf"
      },
      "source": [
        ""
      ],
      "execution_count": null,
      "outputs": []
    },
    {
      "cell_type": "code",
      "metadata": {
        "id": "VgYiDFFnPDDG"
      },
      "source": [
        ""
      ],
      "execution_count": null,
      "outputs": []
    },
    {
      "cell_type": "code",
      "metadata": {
        "id": "gwXyeBYUMb5Y"
      },
      "source": [
        ""
      ],
      "execution_count": null,
      "outputs": []
    }
  ]
}